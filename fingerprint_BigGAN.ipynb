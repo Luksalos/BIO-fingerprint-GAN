{
  "nbformat": 4,
  "nbformat_minor": 0,
  "metadata": {
    "kernelspec": {
      "name": "python3",
      "display_name": "Python 3"
    },
    "language_info": {
      "codemirror_mode": {
        "name": "ipython",
        "version": 3
      },
      "file_extension": ".py",
      "mimetype": "text/x-python",
      "name": "python",
      "nbconvert_exporter": "python",
      "pygments_lexer": "ipython3",
      "version": "3.7.4"
    },
    "colab": {
      "name": "fingerprint_BigGAN.ipynb",
      "provenance": [],
      "collapsed_sections": [],
      "toc_visible": true
    },
    "accelerator": "TPU"
  },
  "cells": [
    {
      "cell_type": "markdown",
      "metadata": {
        "id": "qbEW1V9etTtY",
        "colab_type": "text"
      },
      "source": [
        "Based on [this kaggle kernel](https://www.kaggle.com/yukia18/sub-rals-ac-biggan-with-minibatchstddev)  \n",
        "[model description](https://www.kaggle.com/c/generative-dog-images/discussion/104211#latest-601531)"
      ]
    },
    {
      "cell_type": "code",
      "metadata": {
        "id": "GoDhE2esx5Ig",
        "colab_type": "code",
        "colab": {}
      },
      "source": [
        "#@title Licensed under the Apache License, Version 2.0 (the \"License\");\n",
        "# you may not use this file except in compliance with the License.\n",
        "# You may obtain a copy of the License at\n",
        "#\n",
        "# https://www.apache.org/licenses/LICENSE-2.0\n",
        "#\n",
        "# Unless required by applicable law or agreed to in writing, software\n",
        "# distributed under the License is distributed on an \"AS IS\" BASIS,\n",
        "# WITHOUT WARRANTIES OR CONDITIONS OF ANY KIND, either express or implied.\n",
        "# See the License for the specific language governing permissions and\n",
        "# limitations under the License."
      ],
      "execution_count": 0,
      "outputs": []
    },
    {
      "cell_type": "markdown",
      "metadata": {
        "id": "eDeG1Z44yLJG",
        "colab_type": "text"
      },
      "source": [
        "<table class=\"tfo-notebook-buttons\" align=\"left\">\n",
        "  <td>\n",
        "    <a target=\"_blank\" href=\"https://colab.research.google.com/github/Luksalos/BIO-fingerprint-GAN/blob/master/fingerprint_BigGAN.ipynb\"><img src=\"https://www.tensorflow.org/images/colab_logo_32px.png\" />Run in Google Colab</a>\n",
        "  </td>\n",
        "  <td>\n",
        "    <a target=\"_blank\" href=\"https://github.com/Luksalos/BIO-fingerprint-GAN/blob/master/fingerprint_BigGAN.ipynb\"><img src=\"https://www.tensorflow.org/images/GitHub-Mark-32px.png\" />View source on GitHub</a>\n",
        "  </td>\n",
        "</table>"
      ]
    },
    {
      "cell_type": "code",
      "metadata": {
        "_cell_guid": "b1076dfc-b9ad-4769-8c92-a6c4dae69d19",
        "_uuid": "8f2839f25d086af736a60e9eeb907d3b93b6e0e5",
        "id": "13dGjbBW3tha",
        "colab_type": "code",
        "colab": {}
      },
      "source": [
        "import os\n",
        "import random\n",
        "import glob\n",
        "import shutil\n",
        "import warnings\n",
        "\n",
        "import cv2\n",
        "import scipy\n",
        "import numpy as np\n",
        "import matplotlib.pyplot as plt\n",
        "import xml.etree.ElementTree as ET\n",
        "import albumentations as A\n",
        "from sklearn.preprocessing import LabelEncoder\n",
        "from PIL import Image\n",
        "from albumentations.pytorch import ToTensor\n",
        "from tqdm import tqdm_notebook, trange\n",
        "\n",
        "import torch\n",
        "import torch.nn as nn\n",
        "import torch.nn.functional as F\n",
        "from torch.nn.utils import spectral_norm\n",
        "from torch.optim import Adam\n",
        "from torch.optim.lr_scheduler import LambdaLR\n",
        "from torch.utils.data import DataLoader, Dataset\n",
        "from torchvision.utils import make_grid, save_image\n",
        "\n",
        "\n",
        "%matplotlib inline\n",
        "warnings.filterwarnings('ignore', category=FutureWarning)\n",
        "device = 'cuda' if torch.cuda.is_available() else 'cpu'"
      ],
      "execution_count": 0,
      "outputs": []
    },
    {
      "cell_type": "code",
      "metadata": {
        "id": "dL_uVVAm6-i0",
        "colab_type": "code",
        "colab": {
          "base_uri": "https://localhost:8080/",
          "height": 34
        },
        "outputId": "a3f73498-130f-4f57-c427-c6d038a9955c"
      },
      "source": [
        "device"
      ],
      "execution_count": 3,
      "outputs": [
        {
          "output_type": "execute_result",
          "data": {
            "text/plain": [
              "'cuda'"
            ]
          },
          "metadata": {
            "tags": []
          },
          "execution_count": 3
        }
      ]
    },
    {
      "cell_type": "markdown",
      "metadata": {
        "id": "n2zZnnLS95tD",
        "colab_type": "text"
      },
      "source": [
        "**Kaggle versions:**               \n",
        "torch                              1.3.0                \n",
        "torchtext                          0.4.0               \n",
        "torchvision                        0.4.1a0+d94043a "
      ]
    },
    {
      "cell_type": "code",
      "metadata": {
        "id": "5f6DKip48Cxx",
        "colab_type": "code",
        "colab": {
          "base_uri": "https://localhost:8080/",
          "height": 85
        },
        "outputId": "a3d029a1-7ed9-4377-bf4c-e8449b4b5aab"
      },
      "source": [
        "pip list | grep torch"
      ],
      "execution_count": 4,
      "outputs": [
        {
          "output_type": "stream",
          "text": [
            "torch                    1.3.1      \n",
            "torchsummary             1.5.1      \n",
            "torchtext                0.3.1      \n",
            "torchvision              0.4.2      \n"
          ],
          "name": "stdout"
        }
      ]
    },
    {
      "cell_type": "markdown",
      "metadata": {
        "_cell_guid": "79c7e3d0-c299-4dcb-8224-4455121ee9b0",
        "_uuid": "d629ff2d2480ee46fbb7e2d37f6b5fab8052498a",
        "collapsed": true,
        "id": "V85Omft53the",
        "colab_type": "text"
      },
      "source": [
        "# Settings"
      ]
    },
    {
      "cell_type": "code",
      "metadata": {
        "id": "mIvmL1b23thf",
        "colab_type": "code",
        "colab": {}
      },
      "source": [
        "config = {'DataLoader': {'batch_size': 128,\n",
        "                         'shuffle': True},\n",
        "          'Generator': {'latent_dim': 120,\n",
        "                        'embed_dim': 32,\n",
        "                        'ch': 64,\n",
        "                        'num_classes': 120,\n",
        "                        'use_attn': True},\n",
        "          'Discriminator': {'ch': 64,\n",
        "                            'num_classes': 120,\n",
        "                            'use_attn': True},\n",
        "          'sample_latents': {'latent_dim': 120,\n",
        "                             'num_classes': 120},\n",
        "        #   'num_iterations': 26000,\n",
        "          'num_iterations': 5000,\n",
        "          'decay_start_iteration': 25000,\n",
        "          'd_steps': 1,\n",
        "          'lr_G': 2e-4,\n",
        "          'lr_D': 4e-4,\n",
        "          'betas': (0.0, 0.999),\n",
        "          'margin': 1.0,\n",
        "          'gamma': 0.1,\n",
        "          'ema': 0.999,\n",
        "          'seed': 42}"
      ],
      "execution_count": 0,
      "outputs": []
    },
    {
      "cell_type": "code",
      "metadata": {
        "id": "3SeOXShP3thi",
        "colab_type": "code",
        "colab": {}
      },
      "source": [
        "def seed_everything(seed):\n",
        "    random.seed(seed)\n",
        "    os.environ['PYTHONHASHSEED'] = str(seed)\n",
        "    np.random.seed(seed)\n",
        "    torch.manual_seed(seed)\n",
        "    torch.cuda.manual_seed(seed)\n",
        "    torch.backends.cudnn.deterministic = True\n",
        "\n",
        "seed_everything(config['seed'])"
      ],
      "execution_count": 0,
      "outputs": []
    },
    {
      "cell_type": "markdown",
      "metadata": {
        "id": "USu-E8Abt8sc",
        "colab_type": "text"
      },
      "source": [
        "# Get data\n",
        "TODO\n"
      ]
    },
    {
      "cell_type": "markdown",
      "metadata": {
        "id": "xea_p3VKeQY2",
        "colab_type": "text"
      },
      "source": [
        "### Mount Google drive and unzip files \n"
      ]
    },
    {
      "cell_type": "code",
      "metadata": {
        "id": "Zfpom1-TXvR9",
        "colab_type": "code",
        "colab": {
          "base_uri": "https://localhost:8080/",
          "height": 122
        },
        "outputId": "8dad3c7e-9bdf-461f-863b-b4353f57e10c"
      },
      "source": [
        "from google.colab import drive\n",
        "drive.mount('/content/drive')"
      ],
      "execution_count": 7,
      "outputs": [
        {
          "output_type": "stream",
          "text": [
            "Go to this URL in a browser: https://accounts.google.com/o/oauth2/auth?client_id=947318989803-6bn6qk8qdgf4n4g3pfee6491hc0brc4i.apps.googleusercontent.com&redirect_uri=urn%3aietf%3awg%3aoauth%3a2.0%3aoob&response_type=code&scope=email%20https%3a%2f%2fwww.googleapis.com%2fauth%2fdocs.test%20https%3a%2f%2fwww.googleapis.com%2fauth%2fdrive%20https%3a%2f%2fwww.googleapis.com%2fauth%2fdrive.photos.readonly%20https%3a%2f%2fwww.googleapis.com%2fauth%2fpeopleapi.readonly\n",
            "\n",
            "Enter your authorization code:\n",
            "··········\n",
            "Mounted at /content/drive\n"
          ],
          "name": "stdout"
        }
      ]
    },
    {
      "cell_type": "code",
      "metadata": {
        "id": "mJNY3pWyeBqs",
        "colab_type": "code",
        "colab": {}
      },
      "source": [
        "%%capture\n",
        "!unzip \"drive/My Drive/MIT/BIO/SOCOFing.zip\" -d \"./SOCOFing/\""
      ],
      "execution_count": 0,
      "outputs": []
    },
    {
      "cell_type": "markdown",
      "metadata": {
        "id": "ZefqzmBQ3thk",
        "colab_type": "text"
      },
      "source": [
        "# Data Processing"
      ]
    },
    {
      "cell_type": "code",
      "metadata": {
        "id": "efo0XkKR3thm",
        "colab_type": "code",
        "colab": {}
      },
      "source": [
        "root_images = './SOCOFing/Real/'"
      ],
      "execution_count": 0,
      "outputs": []
    },
    {
      "cell_type": "code",
      "metadata": {
        "id": "8kGHuwQx3thp",
        "colab_type": "code",
        "colab": {
          "base_uri": "https://localhost:8080/",
          "height": 54
        },
        "outputId": "aa62448c-0f51-4d8d-a4c7-15419d4b9378"
      },
      "source": [
        "all_files = os.listdir(root_images)\n",
        "print(all_files)"
      ],
      "execution_count": 61,
      "outputs": [
        {
          "output_type": "stream",
          "text": [
            "['52__M_Right_thumb_finger.BMP', '254__M_Left_index_finger.BMP', '505__M_Left_middle_finger.BMP', '328__M_Right_middle_finger.BMP', '79__M_Right_index_finger.BMP', '101__M_Right_thumb_finger.BMP', '323__M_Left_little_finger.BMP', '225__M_Right_little_finger.BMP', '455__M_Left_ring_finger.BMP', '501__M_Right_little_finger.BMP', '583__M_Left_index_finger.BMP', '497__M_Right_ring_finger.BMP', '212__M_Right_middle_finger.BMP', '240__F_Left_ring_finger.BMP', '79__M_Right_ring_finger.BMP', '371__M_Left_middle_finger.BMP', '19__M_Left_ring_finger.BMP', '453__F_Right_index_finger.BMP', '436__M_Left_ring_finger.BMP', '373__M_Right_ring_finger.BMP', '556__F_Right_little_finger.BMP', '82__M_Right_index_finger.BMP', '126__F_Left_middle_finger.BMP', '473__M_Right_index_finger.BMP', '392__M_Right_index_finger.BMP', '414__M_Right_middle_finger.BMP', '59__F_Left_index_finger.BMP', '381__M_Right_middle_finger.BMP', '105__M_Left_middle_finger.BMP', '183__M_Right_little_finger.BMP', '397__M_Right_little_finger.BMP', '341__M_Left_middle_finger.BMP', '514__F_Left_index_finger.BMP', '391__M_Right_little_finger.BMP', '131__M_Left_ring_finger.BMP', '479__F_Left_index_finger.BMP', '508__F_Left_thumb_finger.BMP', '173__F_Left_little_finger.BMP', '359__M_Left_middle_finger.BMP', '98__M_Left_ring_finger.BMP', '372__M_Right_thumb_finger.BMP', '238__M_Right_ring_finger.BMP', '581__F_Left_middle_finger.BMP', '73__M_Left_index_finger.BMP', '168__M_Right_ring_finger.BMP', '508__F_Left_ring_finger.BMP', '170__M_Left_thumb_finger.BMP', '384__F_Left_ring_finger.BMP', '312__M_Right_thumb_finger.BMP', '241__M_Left_middle_finger.BMP', '113__M_Left_thumb_finger.BMP', '60__M_Left_little_finger.BMP', '72__M_Left_little_finger.BMP', '525__M_Left_little_finger.BMP', '26__M_Right_index_finger.BMP', '27__M_Left_index_finger.BMP', '121__F_Left_middle_finger.BMP', '453__F_Left_middle_finger.BMP', '40__F_Right_ring_finger.BMP', '124__M_Right_thumb_finger.BMP', '91__F_Right_index_finger.BMP', '78__F_Right_index_finger.BMP', '370__M_Left_index_finger.BMP', '586__M_Left_little_finger.BMP', '446__M_Right_middle_finger.BMP', '509__M_Right_ring_finger.BMP', '308__M_Left_ring_finger.BMP', '589__M_Right_index_finger.BMP', '479__F_Right_index_finger.BMP', '471__M_Left_thumb_finger.BMP', '501__M_Right_thumb_finger.BMP', '435__F_Right_little_finger.BMP', '512__M_Right_index_finger.BMP', '242__M_Left_index_finger.BMP', '517__M_Right_thumb_finger.BMP', '436__M_Left_middle_finger.BMP', '125__M_Right_index_finger.BMP', '402__M_Right_index_finger.BMP', '351__M_Left_little_finger.BMP', '275__F_Left_little_finger.BMP', '417__M_Left_little_finger.BMP', '212__M_Right_little_finger.BMP', '423__M_Right_little_finger.BMP', '475__M_Left_middle_finger.BMP', '180__F_Left_index_finger.BMP', '78__F_Left_middle_finger.BMP', '22__M_Right_middle_finger.BMP', '82__M_Right_thumb_finger.BMP', '572__F_Right_little_finger.BMP', '563__M_Right_index_finger.BMP', '76__F_Left_ring_finger.BMP', '197__M_Right_middle_finger.BMP', '232__M_Left_little_finger.BMP', '595__M_Left_thumb_finger.BMP', '166__M_Right_little_finger.BMP', '441__M_Left_ring_finger.BMP', '197__M_Right_ring_finger.BMP', '404__M_Right_ring_finger.BMP', '240__F_Right_thumb_finger.BMP', '310__M_Right_little_finger.BMP', '502__F_Left_index_finger.BMP', '149__F_Right_middle_finger.BMP', '324__M_Left_ring_finger.BMP', '258__M_Left_little_finger.BMP', '91__F_Left_index_finger.BMP', '416__M_Right_index_finger.BMP', '272__M_Right_thumb_finger.BMP', '205__F_Right_ring_finger.BMP', '371__M_Right_middle_finger.BMP', '579__M_Left_index_finger.BMP', '425__M_Right_index_finger.BMP', '452__F_Right_index_finger.BMP', '253__F_Left_thumb_finger.BMP', '589__M_Right_ring_finger.BMP', '85__M_Right_ring_finger.BMP', '557__M_Right_index_finger.BMP', '204__F_Right_thumb_finger.BMP', '521__M_Right_index_finger.BMP', '471__M_Right_index_finger.BMP', '353__M_Right_middle_finger.BMP', '560__F_Right_little_finger.BMP', '507__M_Left_index_finger.BMP', '409__M_Right_ring_finger.BMP', '434__M_Left_index_finger.BMP', '512__M_Left_index_finger.BMP', '587__M_Left_middle_finger.BMP', '341__M_Left_thumb_finger.BMP', '80__M_Right_little_finger.BMP', '160__M_Left_little_finger.BMP', '426__M_Right_middle_finger.BMP', '427__M_Right_middle_finger.BMP', '364__M_Right_thumb_finger.BMP', '522__M_Right_index_finger.BMP', '357__M_Left_little_finger.BMP', '350__M_Right_index_finger.BMP', '170__M_Right_thumb_finger.BMP', '378__F_Left_middle_finger.BMP', '79__M_Left_little_finger.BMP', '47__F_Left_thumb_finger.BMP', '224__M_Left_middle_finger.BMP', '366__M_Left_ring_finger.BMP', '38__M_Right_ring_finger.BMP', '428__M_Left_ring_finger.BMP', '111__M_Right_little_finger.BMP', '490__M_Left_little_finger.BMP', '71__M_Right_thumb_finger.BMP', '572__F_Left_middle_finger.BMP', '339__M_Left_little_finger.BMP', '142__F_Left_little_finger.BMP', '343__M_Right_thumb_finger.BMP', '300__F_Right_ring_finger.BMP', '179__M_Left_index_finger.BMP', '214__M_Left_little_finger.BMP', '299__M_Left_little_finger.BMP', '261__M_Right_middle_finger.BMP', '562__F_Left_index_finger.BMP', '93__M_Left_thumb_finger.BMP', '556__F_Right_index_finger.BMP', '241__M_Right_ring_finger.BMP', '535__M_Left_index_finger.BMP', '588__M_Right_index_finger.BMP', '167__M_Right_little_finger.BMP', '457__M_Left_index_finger.BMP', '312__M_Left_thumb_finger.BMP', '204__F_Left_ring_finger.BMP', '149__F_Right_little_finger.BMP', '497__M_Left_little_finger.BMP', '349__M_Left_index_finger.BMP', '245__M_Right_ring_finger.BMP', '168__M_Left_index_finger.BMP', '4__M_Left_index_finger.BMP', '300__F_Left_little_finger.BMP', '350__M_Left_ring_finger.BMP', '396__M_Right_thumb_finger.BMP', '496__M_Right_ring_finger.BMP', '387__F_Right_ring_finger.BMP', '164__M_Right_little_finger.BMP', '419__F_Right_index_finger.BMP', '213__M_Right_ring_finger.BMP', '403__M_Left_ring_finger.BMP', '327__M_Right_index_finger.BMP', '333__M_Left_little_finger.BMP', '547__M_Right_little_finger.BMP', '289__F_Right_index_finger.BMP', '445__M_Right_index_finger.BMP', '186__M_Left_index_finger.BMP', '365__M_Left_little_finger.BMP', '484__M_Right_thumb_finger.BMP', '43__F_Left_ring_finger.BMP', '247__M_Right_ring_finger.BMP', '95__M_Left_thumb_finger.BMP', '540__F_Right_little_finger.BMP', '67__F_Left_index_finger.BMP', '308__M_Right_index_finger.BMP', '117__F_Left_thumb_finger.BMP', '209__F_Left_thumb_finger.BMP', '518__M_Right_thumb_finger.BMP', '350__M_Left_middle_finger.BMP', '124__M_Left_thumb_finger.BMP', '227__M_Right_thumb_finger.BMP', '261__M_Right_thumb_finger.BMP', '102__M_Left_middle_finger.BMP', '250__F_Right_little_finger.BMP', '221__M_Left_thumb_finger.BMP', '313__M_Left_ring_finger.BMP', '412__M_Left_thumb_finger.BMP', '484__M_Left_ring_finger.BMP', '63__M_Right_little_finger.BMP', '285__M_Left_index_finger.BMP', '214__M_Left_thumb_finger.BMP', '130__F_Right_middle_finger.BMP', '434__M_Right_thumb_finger.BMP', '415__M_Left_middle_finger.BMP', '559__M_Right_ring_finger.BMP', '241__M_Left_index_finger.BMP', '462__M_Left_ring_finger.BMP', '570__M_Left_ring_finger.BMP', '117__F_Right_thumb_finger.BMP', '419__F_Left_ring_finger.BMP', '165__M_Right_little_finger.BMP', '235__M_Right_ring_finger.BMP', '282__M_Right_little_finger.BMP', '570__M_Left_middle_finger.BMP', '520__M_Right_ring_finger.BMP', '296__M_Left_thumb_finger.BMP', '162__M_Left_thumb_finger.BMP', '295__M_Left_middle_finger.BMP', '35__M_Left_middle_finger.BMP', '106__M_Right_thumb_finger.BMP', '504__M_Right_middle_finger.BMP', '210__M_Left_little_finger.BMP', '336__M_Right_ring_finger.BMP', '537__M_Right_little_finger.BMP', '42__F_Left_thumb_finger.BMP', '244__M_Right_little_finger.BMP', '96__M_Right_middle_finger.BMP', '482__M_Right_thumb_finger.BMP', '571__F_Right_middle_finger.BMP', '577__M_Left_middle_finger.BMP', '116__M_Right_little_finger.BMP', '438__M_Right_index_finger.BMP', '490__M_Left_thumb_finger.BMP', '280__M_Right_index_finger.BMP', '450__M_Right_index_finger.BMP', '532__M_Right_ring_finger.BMP', '290__M_Right_index_finger.BMP', '58__M_Left_little_finger.BMP', '577__M_Right_thumb_finger.BMP', '36__M_Right_index_finger.BMP', '134__M_Left_little_finger.BMP', '586__M_Left_ring_finger.BMP', '352__M_Right_little_finger.BMP', '430__F_Left_index_finger.BMP', '216__M_Left_ring_finger.BMP', '339__M_Right_little_finger.BMP', '406__M_Right_thumb_finger.BMP', '414__M_Left_thumb_finger.BMP', '24__F_Left_middle_finger.BMP', '3__M_Left_thumb_finger.BMP', '66__F_Right_ring_finger.BMP', '518__M_Left_middle_finger.BMP', '351__M_Left_thumb_finger.BMP', '87__M_Left_little_finger.BMP', '102__M_Right_little_finger.BMP', '372__M_Right_middle_finger.BMP', '110__F_Right_middle_finger.BMP', '273__M_Right_middle_finger.BMP', '107__M_Left_middle_finger.BMP', '355__M_Right_thumb_finger.BMP', '266__M_Left_index_finger.BMP', '141__F_Left_index_finger.BMP', '208__M_Right_thumb_finger.BMP', '81__F_Left_middle_finger.BMP', '2__F_Right_middle_finger.BMP', '406__M_Right_index_finger.BMP', '181__M_Left_ring_finger.BMP', '285__M_Right_ring_finger.BMP', '302__M_Right_thumb_finger.BMP', '200__M_Left_index_finger.BMP', '560__F_Left_index_finger.BMP', '423__M_Right_thumb_finger.BMP', '536__F_Left_little_finger.BMP', '212__M_Right_thumb_finger.BMP', '127__F_Right_ring_finger.BMP', '77__M_Right_ring_finger.BMP', '244__M_Left_little_finger.BMP', '327__M_Left_thumb_finger.BMP', '410__M_Left_thumb_finger.BMP', '282__M_Right_middle_finger.BMP', '301__F_Right_little_finger.BMP', '389__F_Left_thumb_finger.BMP', '537__M_Right_index_finger.BMP', '184__M_Right_little_finger.BMP', '484__M_Left_middle_finger.BMP', '224__M_Left_ring_finger.BMP', '524__M_Left_middle_finger.BMP', '173__F_Left_ring_finger.BMP', '540__F_Right_thumb_finger.BMP', '593__M_Right_little_finger.BMP', '421__F_Right_middle_finger.BMP', '383__M_Left_little_finger.BMP', '355__M_Right_index_finger.BMP', '541__M_Left_little_finger.BMP', '351__M_Left_ring_finger.BMP', '207__M_Right_little_finger.BMP', '479__F_Left_middle_finger.BMP', '101__M_Right_ring_finger.BMP', '344__M_Left_thumb_finger.BMP', '317__M_Right_index_finger.BMP', '257__M_Right_ring_finger.BMP', '1__M_Left_index_finger.BMP', '299__M_Right_index_finger.BMP', '44__M_Left_ring_finger.BMP', '21__M_Right_thumb_finger.BMP', '480__M_Left_index_finger.BMP', '442__F_Right_index_finger.BMP', '68__M_Right_middle_finger.BMP', '79__M_Right_thumb_finger.BMP', '279__M_Right_ring_finger.BMP', '189__F_Left_little_finger.BMP', '527__M_Right_ring_finger.BMP', '379__F_Left_index_finger.BMP', '304__M_Right_middle_finger.BMP', '241__M_Right_thumb_finger.BMP', '261__M_Right_little_finger.BMP', '128__M_Right_index_finger.BMP', '443__M_Left_little_finger.BMP', '95__M_Right_little_finger.BMP', '578__M_Right_ring_finger.BMP', '253__F_Left_middle_finger.BMP', '457__M_Right_middle_finger.BMP', '189__F_Right_ring_finger.BMP', '132__M_Right_little_finger.BMP', '558__M_Left_index_finger.BMP', '505__M_Left_thumb_finger.BMP', '361__M_Right_ring_finger.BMP', '49__M_Left_little_finger.BMP', '598__M_Left_thumb_finger.BMP', '54__M_Right_little_finger.BMP', '536__F_Right_thumb_finger.BMP', '384__F_Left_little_finger.BMP', '136__F_Left_thumb_finger.BMP', '226__M_Left_little_finger.BMP', '361__M_Left_ring_finger.BMP', '453__F_Left_ring_finger.BMP', '164__M_Left_middle_finger.BMP', '595__M_Left_middle_finger.BMP', '555__M_Right_little_finger.BMP', '258__M_Right_thumb_finger.BMP', '159__M_Left_thumb_finger.BMP', '523__F_Left_ring_finger.BMP', '523__F_Right_little_finger.BMP', '314__M_Left_little_finger.BMP', '91__F_Right_middle_finger.BMP', '590__M_Right_little_finger.BMP', '117__F_Left_little_finger.BMP', '112__M_Right_thumb_finger.BMP', '194__M_Right_index_finger.BMP', '288__M_Right_ring_finger.BMP', '446__M_Right_little_finger.BMP', '437__M_Right_thumb_finger.BMP', '467__M_Left_thumb_finger.BMP', '47__F_Right_ring_finger.BMP', '483__M_Left_index_finger.BMP', '208__M_Left_little_finger.BMP', '321__M_Left_index_finger.BMP', '90__M_Left_thumb_finger.BMP', '372__M_Left_middle_finger.BMP', '499__M_Left_middle_finger.BMP', '348__F_Right_thumb_finger.BMP', '510__M_Right_middle_finger.BMP', '83__M_Left_middle_finger.BMP', '178__M_Left_ring_finger.BMP', '403__M_Left_middle_finger.BMP', '495__M_Left_little_finger.BMP', '464__M_Left_little_finger.BMP', '598__M_Right_index_finger.BMP', '574__F_Left_ring_finger.BMP', '551__F_Right_ring_finger.BMP', '401__M_Left_ring_finger.BMP', '136__F_Right_thumb_finger.BMP', '349__M_Right_thumb_finger.BMP', '281__M_Left_ring_finger.BMP', '263__F_Left_ring_finger.BMP', '279__M_Left_ring_finger.BMP', '47__F_Left_index_finger.BMP', '182__M_Left_little_finger.BMP', '528__F_Left_middle_finger.BMP', '64__M_Left_little_finger.BMP', '451__M_Right_ring_finger.BMP', '477__M_Left_thumb_finger.BMP', '72__M_Right_thumb_finger.BMP', '129__M_Left_middle_finger.BMP', '408__M_Right_index_finger.BMP', '552__M_Left_ring_finger.BMP', '581__F_Right_middle_finger.BMP', '536__F_Left_thumb_finger.BMP', '4__M_Left_middle_finger.BMP', '212__M_Right_index_finger.BMP', '458__M_Right_thumb_finger.BMP', '238__M_Right_index_finger.BMP', '14__M_Left_index_finger.BMP', '11__M_Right_index_finger.BMP', '246__M_Right_thumb_finger.BMP', '187__M_Right_thumb_finger.BMP', '15__F_Right_little_finger.BMP', '292__M_Right_thumb_finger.BMP', '474__M_Left_little_finger.BMP', '494__F_Left_little_finger.BMP', '49__M_Right_middle_finger.BMP', '453__F_Right_thumb_finger.BMP', '132__M_Right_middle_finger.BMP', '392__M_Right_thumb_finger.BMP', '335__M_Right_ring_finger.BMP', '172__M_Left_thumb_finger.BMP', '43__F_Right_ring_finger.BMP', '545__M_Left_index_finger.BMP', '54__M_Right_index_finger.BMP', '208__M_Right_index_finger.BMP', '574__F_Left_index_finger.BMP', '27__M_Right_ring_finger.BMP', '500__M_Left_index_finger.BMP', '298__M_Left_ring_finger.BMP', '74__F_Left_index_finger.BMP', '108__M_Left_middle_finger.BMP', '81__F_Left_ring_finger.BMP', '58__M_Right_index_finger.BMP', '362__M_Right_thumb_finger.BMP', '382__M_Right_little_finger.BMP', '309__M_Right_ring_finger.BMP', '120__M_Left_index_finger.BMP', '5__M_Right_little_finger.BMP', '249__M_Left_middle_finger.BMP', '521__M_Left_thumb_finger.BMP', '376__F_Right_thumb_finger.BMP', '546__M_Left_little_finger.BMP', '474__M_Right_ring_finger.BMP', '70__M_Right_little_finger.BMP', '39__M_Left_little_finger.BMP', '57__M_Right_little_finger.BMP', '89__M_Left_ring_finger.BMP', '420__M_Left_index_finger.BMP', '331__M_Right_little_finger.BMP', '373__M_Right_little_finger.BMP', '269__M_Right_index_finger.BMP', '257__M_Right_little_finger.BMP', '116__M_Left_index_finger.BMP', '251__M_Right_thumb_finger.BMP', '504__M_Left_thumb_finger.BMP', '483__M_Right_thumb_finger.BMP', '320__M_Left_little_finger.BMP', '181__M_Left_little_finger.BMP', '454__M_Right_little_finger.BMP', '448__M_Right_ring_finger.BMP', '438__M_Right_ring_finger.BMP', '303__F_Right_ring_finger.BMP', '130__F_Left_middle_finger.BMP', '263__F_Left_index_finger.BMP', '261__M_Left_ring_finger.BMP', '265__M_Right_ring_finger.BMP', '11__M_Left_index_finger.BMP', '409__M_Left_ring_finger.BMP', '465__F_Left_little_finger.BMP', '36__M_Left_middle_finger.BMP', '482__M_Left_ring_finger.BMP', '144__M_Right_index_finger.BMP', '80__M_Left_little_finger.BMP', '99__M_Left_ring_finger.BMP', '89__M_Left_index_finger.BMP', '590__M_Right_thumb_finger.BMP', '379__F_Right_thumb_finger.BMP', '426__M_Left_ring_finger.BMP', '8__M_Left_thumb_finger.BMP', '426__M_Left_thumb_finger.BMP', '25__F_Right_thumb_finger.BMP', '18__M_Right_index_finger.BMP', '266__M_Left_middle_finger.BMP', '230__M_Right_ring_finger.BMP', '143__M_Right_index_finger.BMP', '141__F_Right_index_finger.BMP', '447__M_Left_middle_finger.BMP', '412__M_Right_little_finger.BMP', '285__M_Left_little_finger.BMP', '42__F_Left_middle_finger.BMP', '205__F_Right_index_finger.BMP', '253__F_Right_thumb_finger.BMP', '121__F_Right_thumb_finger.BMP', '173__F_Right_thumb_finger.BMP', '22__M_Left_middle_finger.BMP', '196__M_Right_middle_finger.BMP', '597__M_Right_thumb_finger.BMP', '363__M_Left_little_finger.BMP', '283__M_Left_middle_finger.BMP', '322__M_Right_thumb_finger.BMP', '280__M_Right_little_finger.BMP', '325__M_Right_index_finger.BMP', '320__M_Left_ring_finger.BMP', '558__M_Left_little_finger.BMP', '242__M_Right_index_finger.BMP', '552__M_Left_thumb_finger.BMP', '548__F_Left_middle_finger.BMP', '34__M_Left_thumb_finger.BMP', '591__M_Left_little_finger.BMP', '418__F_Right_little_finger.BMP', '421__F_Left_index_finger.BMP', '146__M_Right_middle_finger.BMP', '574__F_Right_index_finger.BMP', '267__M_Left_index_finger.BMP', '247__M_Right_little_finger.BMP', '71__M_Right_little_finger.BMP', '174__F_Right_index_finger.BMP', '564__M_Right_thumb_finger.BMP', '5__M_Right_thumb_finger.BMP', '543__M_Left_ring_finger.BMP', '89__M_Right_little_finger.BMP', '507__M_Left_ring_finger.BMP', '152__M_Left_thumb_finger.BMP', '417__M_Right_ring_finger.BMP', '40__F_Left_thumb_finger.BMP', '204__F_Left_thumb_finger.BMP', '22__M_Right_index_finger.BMP', '496__M_Right_little_finger.BMP', '532__M_Right_thumb_finger.BMP', '402__M_Right_thumb_finger.BMP', '151__M_Right_ring_finger.BMP', '28__M_Right_index_finger.BMP', '333__M_Right_middle_finger.BMP', '476__M_Left_ring_finger.BMP', '405__M_Right_middle_finger.BMP', '51__M_Right_thumb_finger.BMP', '309__M_Right_index_finger.BMP', '390__F_Left_index_finger.BMP', '360__M_Left_thumb_finger.BMP', '102__M_Right_middle_finger.BMP', '201__F_Left_middle_finger.BMP', '554__M_Right_middle_finger.BMP', '432__M_Right_little_finger.BMP', '548__F_Left_ring_finger.BMP', '68__M_Left_middle_finger.BMP', '70__M_Right_middle_finger.BMP', '97__M_Left_ring_finger.BMP', '292__M_Right_ring_finger.BMP', '434__M_Left_middle_finger.BMP', '128__M_Left_thumb_finger.BMP', '194__M_Left_little_finger.BMP', '250__F_Right_middle_finger.BMP', '467__M_Left_middle_finger.BMP', '494__F_Left_index_finger.BMP', '33__M_Right_middle_finger.BMP', '470__F_Left_middle_finger.BMP', '41__M_Left_middle_finger.BMP', '288__M_Right_thumb_finger.BMP', '26__M_Right_little_finger.BMP', '369__F_Left_thumb_finger.BMP', '586__M_Left_index_finger.BMP', '304__M_Right_index_finger.BMP', '515__M_Right_little_finger.BMP', '176__M_Right_middle_finger.BMP', '347__M_Right_thumb_finger.BMP', '597__M_Right_middle_finger.BMP', '171__M_Left_ring_finger.BMP', '215__M_Right_ring_finger.BMP', '599__M_Right_little_finger.BMP', '89__M_Left_thumb_finger.BMP', '181__M_Right_little_finger.BMP', '583__M_Left_middle_finger.BMP', '519__M_Right_thumb_finger.BMP', '465__F_Left_middle_finger.BMP', '134__M_Right_middle_finger.BMP', '528__F_Right_thumb_finger.BMP', '188__M_Left_middle_finger.BMP', '303__F_Left_index_finger.BMP', '297__M_Right_index_finger.BMP', '286__M_Left_little_finger.BMP', '109__F_Right_ring_finger.BMP', '598__M_Left_middle_finger.BMP', '469__M_Right_index_finger.BMP', '88__F_Left_little_finger.BMP', '473__M_Left_ring_finger.BMP', '309__M_Right_thumb_finger.BMP', '455__M_Left_middle_finger.BMP', '114__F_Right_thumb_finger.BMP', '201__F_Right_thumb_finger.BMP', '557__M_Right_ring_finger.BMP', '24__F_Right_thumb_finger.BMP', '184__M_Right_index_finger.BMP', '457__M_Right_thumb_finger.BMP', '547__M_Right_index_finger.BMP', '143__M_Left_middle_finger.BMP', '517__M_Left_ring_finger.BMP', '531__M_Right_ring_finger.BMP', '380__M_Right_middle_finger.BMP', '424__M_Right_little_finger.BMP', '80__M_Right_index_finger.BMP', '139__M_Right_thumb_finger.BMP', '85__M_Left_little_finger.BMP', '131__M_Right_thumb_finger.BMP', '523__F_Left_little_finger.BMP', '524__M_Right_thumb_finger.BMP', '360__M_Right_ring_finger.BMP', '439__M_Right_thumb_finger.BMP', '249__M_Right_index_finger.BMP', '578__M_Right_little_finger.BMP', '462__M_Right_index_finger.BMP', '250__F_Left_thumb_finger.BMP', '333__M_Left_thumb_finger.BMP', '354__M_Right_little_finger.BMP', '139__M_Left_little_finger.BMP', '28__M_Left_little_finger.BMP', '476__M_Right_middle_finger.BMP', '148__M_Right_thumb_finger.BMP', '438__M_Left_index_finger.BMP', '143__M_Right_little_finger.BMP', '187__M_Left_ring_finger.BMP', '126__F_Left_ring_finger.BMP', '176__M_Left_ring_finger.BMP', '495__M_Left_middle_finger.BMP', '437__M_Left_middle_finger.BMP', '159__M_Right_index_finger.BMP', '136__F_Right_index_finger.BMP', '81__F_Left_little_finger.BMP', '299__M_Left_index_finger.BMP', '377__M_Left_ring_finger.BMP', '166__M_Right_thumb_finger.BMP', '75__F_Left_thumb_finger.BMP', '440__M_Left_middle_finger.BMP', '80__M_Left_middle_finger.BMP', '316__M_Right_thumb_finger.BMP', '13__F_Left_thumb_finger.BMP', '397__M_Right_thumb_finger.BMP', '432__M_Left_thumb_finger.BMP', '106__M_Right_little_finger.BMP', '544__M_Right_middle_finger.BMP', '247__M_Left_index_finger.BMP', '169__F_Left_middle_finger.BMP', '385__M_Left_thumb_finger.BMP', '507__M_Left_little_finger.BMP', '311__M_Right_ring_finger.BMP', '159__M_Left_middle_finger.BMP', '390__F_Right_thumb_finger.BMP', '267__M_Right_little_finger.BMP', '554__M_Left_middle_finger.BMP', '176__M_Right_thumb_finger.BMP', '369__F_Right_ring_finger.BMP', '74__F_Left_little_finger.BMP', '471__M_Left_index_finger.BMP', '279__M_Right_little_finger.BMP', '342__M_Right_little_finger.BMP', '329__M_Right_index_finger.BMP', '108__M_Right_index_finger.BMP', '295__M_Left_index_finger.BMP', '398__M_Right_middle_finger.BMP', '255__M_Right_little_finger.BMP', '301__F_Right_index_finger.BMP', '137__M_Left_little_finger.BMP', '449__F_Left_index_finger.BMP', '230__M_Left_middle_finger.BMP', '553__M_Left_thumb_finger.BMP', '259__M_Right_little_finger.BMP', '309__M_Left_ring_finger.BMP', '71__M_Right_middle_finger.BMP', '33__M_Left_little_finger.BMP', '509__M_Left_index_finger.BMP', '259__M_Right_ring_finger.BMP', '457__M_Right_index_finger.BMP', '194__M_Left_index_finger.BMP', '269__M_Left_index_finger.BMP', '230__M_Left_index_finger.BMP', '450__M_Left_little_finger.BMP', '208__M_Left_middle_finger.BMP', '414__M_Right_little_finger.BMP', '116__M_Right_index_finger.BMP', '496__M_Left_index_finger.BMP', '388__F_Right_index_finger.BMP', '341__M_Left_ring_finger.BMP', '231__M_Left_ring_finger.BMP', '105__M_Right_index_finger.BMP', '555__M_Left_thumb_finger.BMP', '350__M_Right_middle_finger.BMP', '574__F_Right_middle_finger.BMP', '563__M_Right_middle_finger.BMP', '248__M_Left_index_finger.BMP', '44__M_Left_index_finger.BMP', '564__M_Left_little_finger.BMP', '231__M_Right_middle_finger.BMP', '223__M_Right_index_finger.BMP', '394__M_Right_thumb_finger.BMP', '586__M_Left_middle_finger.BMP', '400__M_Right_ring_finger.BMP', '544__M_Left_little_finger.BMP', '110__F_Left_little_finger.BMP', '203__M_Right_little_finger.BMP', '222__M_Left_little_finger.BMP', '179__M_Right_index_finger.BMP', '542__M_Left_thumb_finger.BMP', '46__M_Left_index_finger.BMP', '246__M_Left_ring_finger.BMP', '47__F_Right_thumb_finger.BMP', '364__M_Left_middle_finger.BMP', '426__M_Right_little_finger.BMP', '58__M_Right_ring_finger.BMP', '451__M_Left_middle_finger.BMP', '155__M_Right_middle_finger.BMP', '544__M_Right_little_finger.BMP', '252__F_Left_middle_finger.BMP', '503__M_Right_thumb_finger.BMP', '314__M_Left_thumb_finger.BMP', '447__M_Left_index_finger.BMP', '337__F_Right_middle_finger.BMP', '291__M_Right_index_finger.BMP', '171__M_Right_middle_finger.BMP', '53__M_Left_index_finger.BMP', '356__M_Right_index_finger.BMP', '297__M_Right_middle_finger.BMP', '485__M_Left_middle_finger.BMP', '140__F_Right_index_finger.BMP', '52__M_Right_ring_finger.BMP', '307__M_Right_little_finger.BMP', '317__M_Left_index_finger.BMP', '403__M_Right_thumb_finger.BMP', '209__F_Left_middle_finger.BMP', '61__M_Left_ring_finger.BMP', '27__M_Right_middle_finger.BMP', '289__F_Left_middle_finger.BMP', '98__M_Right_little_finger.BMP', '284__M_Left_little_finger.BMP', '356__M_Left_ring_finger.BMP', '361__M_Right_little_finger.BMP', '16__M_Right_ring_finger.BMP', '151__M_Right_middle_finger.BMP', '391__M_Left_middle_finger.BMP', '277__M_Right_thumb_finger.BMP', '270__M_Left_middle_finger.BMP', '504__M_Right_thumb_finger.BMP', '396__M_Left_ring_finger.BMP', '512__M_Right_middle_finger.BMP', '17__M_Left_thumb_finger.BMP', '268__M_Right_index_finger.BMP', '448__M_Left_thumb_finger.BMP', '90__M_Right_middle_finger.BMP', '331__M_Right_middle_finger.BMP', '130__F_Right_ring_finger.BMP', '130__F_Right_little_finger.BMP', '175__M_Left_thumb_finger.BMP', '84__M_Left_index_finger.BMP', '468__F_Right_ring_finger.BMP', '83__M_Right_little_finger.BMP', '511__M_Right_ring_finger.BMP', '448__M_Left_little_finger.BMP', '283__M_Right_thumb_finger.BMP', '43__F_Left_index_finger.BMP', '596__M_Right_middle_finger.BMP', '390__F_Right_ring_finger.BMP', '584__M_Right_middle_finger.BMP', '547__M_Left_little_finger.BMP', '403__M_Right_middle_finger.BMP', '142__F_Right_thumb_finger.BMP', '427__M_Right_thumb_finger.BMP', '481__F_Right_thumb_finger.BMP', '234__M_Left_ring_finger.BMP', '508__F_Right_little_finger.BMP', '107__M_Left_ring_finger.BMP', '161__F_Right_index_finger.BMP', '220__F_Left_thumb_finger.BMP', '91__F_Right_little_finger.BMP', '184__M_Left_index_finger.BMP', '168__M_Right_index_finger.BMP', '237__M_Right_ring_finger.BMP', '294__M_Right_little_finger.BMP', '314__M_Right_middle_finger.BMP', '366__M_Right_thumb_finger.BMP', '102__M_Left_little_finger.BMP', '547__M_Left_index_finger.BMP', '465__F_Right_thumb_finger.BMP', '499__M_Left_ring_finger.BMP', '552__M_Right_middle_finger.BMP', '2__F_Left_middle_finger.BMP', '89__M_Right_thumb_finger.BMP', '450__M_Left_thumb_finger.BMP', '390__F_Left_ring_finger.BMP', '147__M_Right_index_finger.BMP', '87__M_Right_thumb_finger.BMP', '177__F_Right_middle_finger.BMP', '400__M_Right_little_finger.BMP', '30__F_Left_little_finger.BMP', '380__M_Left_index_finger.BMP', '39__M_Left_ring_finger.BMP', '430__F_Right_index_finger.BMP', '429__M_Left_thumb_finger.BMP', '405__M_Right_ring_finger.BMP', '505__M_Left_little_finger.BMP', '466__F_Right_ring_finger.BMP', '306__M_Left_middle_finger.BMP', '85__M_Right_thumb_finger.BMP', '248__M_Left_thumb_finger.BMP', '508__F_Right_middle_finger.BMP', '31__F_Right_thumb_finger.BMP', '239__M_Right_ring_finger.BMP', '469__M_Right_middle_finger.BMP', '158__M_Right_little_finger.BMP', '207__M_Right_index_finger.BMP', '556__F_Right_ring_finger.BMP', '361__M_Left_little_finger.BMP', '530__M_Left_thumb_finger.BMP', '327__M_Right_ring_finger.BMP', '421__F_Right_index_finger.BMP', '78__F_Right_thumb_finger.BMP', '408__M_Left_ring_finger.BMP', '205__F_Right_middle_finger.BMP', '215__M_Right_little_finger.BMP', '337__F_Left_thumb_finger.BMP', '3__M_Right_little_finger.BMP', '413__M_Right_thumb_finger.BMP', '445__M_Left_index_finger.BMP', '6__M_Right_thumb_finger.BMP', '541__M_Left_middle_finger.BMP', '235__M_Left_index_finger.BMP', '42__F_Left_index_finger.BMP', '43__F_Left_thumb_finger.BMP', '530__M_Left_index_finger.BMP', '144__M_Left_thumb_finger.BMP', '190__M_Left_thumb_finger.BMP', '43__F_Right_middle_finger.BMP', '334__F_Right_ring_finger.BMP', '282__M_Left_ring_finger.BMP', '16__M_Left_ring_finger.BMP', '513__M_Left_ring_finger.BMP', '501__M_Right_middle_finger.BMP', '185__M_Left_thumb_finger.BMP', '596__M_Right_little_finger.BMP', '109__F_Right_index_finger.BMP', '243__M_Left_little_finger.BMP', '57__M_Right_ring_finger.BMP', '114__F_Left_middle_finger.BMP', '516__M_Right_middle_finger.BMP', '109__F_Left_thumb_finger.BMP', '379__F_Left_thumb_finger.BMP', '452__F_Right_ring_finger.BMP', '256__M_Left_thumb_finger.BMP', '585__M_Right_little_finger.BMP', '243__M_Left_thumb_finger.BMP', '590__M_Left_middle_finger.BMP', '262__M_Right_little_finger.BMP', '346__M_Left_ring_finger.BMP', '397__M_Left_middle_finger.BMP', '199__M_Left_index_finger.BMP', '311__M_Left_thumb_finger.BMP', '15__F_Left_ring_finger.BMP', '62__M_Right_ring_finger.BMP', '600__M_Right_ring_finger.BMP', '337__F_Left_index_finger.BMP', '15__F_Right_ring_finger.BMP', '330__M_Left_middle_finger.BMP', '43__F_Right_little_finger.BMP', '211__M_Right_middle_finger.BMP', '284__M_Right_middle_finger.BMP', '182__M_Left_ring_finger.BMP', '577__M_Right_middle_finger.BMP', '316__M_Right_little_finger.BMP', '142__F_Right_index_finger.BMP', '274__M_Right_ring_finger.BMP', '225__M_Right_ring_finger.BMP', '282__M_Right_index_finger.BMP', '144__M_Left_index_finger.BMP', '244__M_Right_ring_finger.BMP', '330__M_Left_little_finger.BMP', '412__M_Left_little_finger.BMP', '418__F_Left_little_finger.BMP', '248__M_Left_ring_finger.BMP', '317__M_Right_thumb_finger.BMP', '370__M_Right_index_finger.BMP', '451__M_Left_thumb_finger.BMP', '385__M_Right_little_finger.BMP', '526__F_Right_ring_finger.BMP', '396__M_Left_thumb_finger.BMP', '300__F_Right_little_finger.BMP', '551__F_Right_little_finger.BMP', '567__M_Left_index_finger.BMP', '273__M_Right_little_finger.BMP', '561__M_Right_little_finger.BMP', '498__M_Left_index_finger.BMP', '569__M_Right_index_finger.BMP', '422__M_Left_little_finger.BMP', '490__M_Right_index_finger.BMP', '337__F_Left_little_finger.BMP', '528__F_Left_thumb_finger.BMP', '9__M_Right_little_finger.BMP', '124__M_Right_middle_finger.BMP', '486__M_Right_ring_finger.BMP', '125__M_Left_index_finger.BMP', '480__M_Right_little_finger.BMP', '12__M_Left_thumb_finger.BMP', '590__M_Right_ring_finger.BMP', '81__F_Right_little_finger.BMP', '284__M_Left_thumb_finger.BMP', '262__M_Left_index_finger.BMP', '23__M_Left_little_finger.BMP', '52__M_Left_middle_finger.BMP', '236__M_Right_index_finger.BMP', '280__M_Right_ring_finger.BMP', '287__M_Right_middle_finger.BMP', '519__M_Left_ring_finger.BMP', '500__M_Right_thumb_finger.BMP', '492__F_Left_thumb_finger.BMP', '395__M_Right_little_finger.BMP', '191__F_Right_thumb_finger.BMP', '562__F_Left_little_finger.BMP', '293__F_Left_thumb_finger.BMP', '89__M_Right_index_finger.BMP', '219__M_Left_thumb_finger.BMP', '354__M_Right_thumb_finger.BMP', '469__M_Right_thumb_finger.BMP', '129__M_Right_little_finger.BMP', '165__M_Right_middle_finger.BMP', '159__M_Right_little_finger.BMP', '302__M_Right_index_finger.BMP', '480__M_Right_index_finger.BMP', '419__F_Left_thumb_finger.BMP', '474__M_Left_index_finger.BMP', '118__F_Right_little_finger.BMP', '202__M_Right_ring_finger.BMP', '229__M_Left_index_finger.BMP', '228__M_Left_index_finger.BMP', '7__M_Left_thumb_finger.BMP', '321__M_Right_index_finger.BMP', '543__M_Right_middle_finger.BMP', '579__M_Right_thumb_finger.BMP', '233__M_Right_ring_finger.BMP', '450__M_Right_ring_finger.BMP', '226__M_Left_ring_finger.BMP', '104__M_Left_thumb_finger.BMP', '235__M_Right_middle_finger.BMP', '307__M_Right_ring_finger.BMP', '406__M_Left_thumb_finger.BMP', '419__F_Left_middle_finger.BMP', '146__M_Left_ring_finger.BMP', '366__M_Right_middle_finger.BMP', '235__M_Left_ring_finger.BMP', '129__M_Right_middle_finger.BMP', '271__M_Left_ring_finger.BMP', '381__M_Right_little_finger.BMP', '580__M_Left_little_finger.BMP', '84__M_Left_middle_finger.BMP', '366__M_Left_index_finger.BMP', '498__M_Right_middle_finger.BMP', '311__M_Right_little_finger.BMP', '351__M_Right_index_finger.BMP', '290__M_Right_ring_finger.BMP', '477__M_Right_ring_finger.BMP', '429__M_Left_little_finger.BMP', '497__M_Right_middle_finger.BMP', '506__M_Right_thumb_finger.BMP', '506__M_Left_ring_finger.BMP', '36__M_Left_ring_finger.BMP', '414__M_Right_ring_finger.BMP', '22__M_Left_little_finger.BMP', '424__M_Right_ring_finger.BMP', '61__M_Right_middle_finger.BMP', '382__M_Left_middle_finger.BMP', '4__M_Left_little_finger.BMP', '170__M_Left_middle_finger.BMP', '161__F_Left_ring_finger.BMP', '470__F_Right_ring_finger.BMP', '119__F_Right_thumb_finger.BMP', '107__M_Right_middle_finger.BMP', '570__M_Right_middle_finger.BMP', '394__M_Right_index_finger.BMP', '482__M_Right_ring_finger.BMP', '494__F_Right_middle_finger.BMP', '423__M_Left_little_finger.BMP', '519__M_Right_index_finger.BMP', '41__M_Right_thumb_finger.BMP', '39__M_Left_middle_finger.BMP', '446__M_Left_middle_finger.BMP', '60__M_Right_thumb_finger.BMP', '195__M_Right_index_finger.BMP', '44__M_Right_index_finger.BMP', '489__M_Left_index_finger.BMP', '451__M_Left_ring_finger.BMP', '101__M_Left_thumb_finger.BMP', '238__M_Left_index_finger.BMP', '421__F_Right_ring_finger.BMP', '472__M_Right_middle_finger.BMP', '146__M_Right_thumb_finger.BMP', '1__M_Right_middle_finger.BMP', '61__M_Left_middle_finger.BMP', '518__M_Right_little_finger.BMP', '324__M_Right_little_finger.BMP', '578__M_Left_index_finger.BMP', '14__M_Left_little_finger.BMP', '4__M_Right_middle_finger.BMP', '456__M_Right_middle_finger.BMP', '468__F_Left_middle_finger.BMP', '288__M_Right_little_finger.BMP', '543__M_Left_index_finger.BMP', '223__M_Left_ring_finger.BMP', '186__M_Left_little_finger.BMP', '198__M_Right_thumb_finger.BMP', '234__M_Right_ring_finger.BMP', '481__F_Right_little_finger.BMP', '453__F_Right_little_finger.BMP', '315__F_Right_thumb_finger.BMP', '78__F_Left_thumb_finger.BMP', '520__M_Left_little_finger.BMP', '292__M_Left_little_finger.BMP', '338__M_Right_middle_finger.BMP', '217__M_Right_ring_finger.BMP', '351__M_Right_ring_finger.BMP', '119__F_Left_thumb_finger.BMP', '367__M_Right_ring_finger.BMP', '323__M_Left_index_finger.BMP', '495__M_Right_middle_finger.BMP', '200__M_Left_little_finger.BMP', '167__M_Right_ring_finger.BMP', '467__M_Left_ring_finger.BMP', '466__F_Left_little_finger.BMP', '117__F_Right_ring_finger.BMP', '5__M_Right_index_finger.BMP', '264__M_Left_thumb_finger.BMP', '332__M_Left_thumb_finger.BMP', '527__M_Left_middle_finger.BMP', '370__M_Left_middle_finger.BMP', '60__M_Right_middle_finger.BMP', '399__M_Right_thumb_finger.BMP', '483__M_Left_ring_finger.BMP', '298__M_Left_thumb_finger.BMP', '579__M_Left_middle_finger.BMP', '383__M_Left_ring_finger.BMP', '286__M_Right_thumb_finger.BMP', '208__M_Right_middle_finger.BMP', '382__M_Left_thumb_finger.BMP', '439__M_Left_middle_finger.BMP', '447__M_Right_middle_finger.BMP', '248__M_Right_middle_finger.BMP', '183__M_Left_thumb_finger.BMP', '594__M_Right_little_finger.BMP', '510__M_Left_middle_finger.BMP', '231__M_Left_little_finger.BMP', '201__F_Left_little_finger.BMP', '216__M_Left_little_finger.BMP', '491__M_Right_middle_finger.BMP', '379__F_Left_ring_finger.BMP', '374__M_Left_little_finger.BMP', '54__M_Left_index_finger.BMP', '242__M_Left_ring_finger.BMP', '175__M_Right_thumb_finger.BMP', '14__M_Left_middle_finger.BMP', '364__M_Left_ring_finger.BMP', '565__M_Left_ring_finger.BMP', '52__M_Left_ring_finger.BMP', '424__M_Right_thumb_finger.BMP', '254__M_Left_little_finger.BMP', '516__M_Left_thumb_finger.BMP', '47__F_Left_little_finger.BMP', '38__M_Right_index_finger.BMP', '408__M_Right_middle_finger.BMP', '543__M_Left_thumb_finger.BMP', '307__M_Left_ring_finger.BMP', '230__M_Right_index_finger.BMP', '452__F_Left_middle_finger.BMP', '358__M_Right_little_finger.BMP', '62__M_Right_middle_finger.BMP', '104__M_Right_index_finger.BMP', '511__M_Right_middle_finger.BMP', '427__M_Left_thumb_finger.BMP', '94__M_Right_ring_finger.BMP', '409__M_Left_little_finger.BMP', '296__M_Left_index_finger.BMP', '554__M_Left_index_finger.BMP', '19__M_Right_thumb_finger.BMP', '526__F_Left_thumb_finger.BMP', '564__M_Right_index_finger.BMP', '418__F_Left_ring_finger.BMP', '478__M_Right_little_finger.BMP', '310__M_Left_middle_finger.BMP', '66__F_Left_index_finger.BMP', '138__M_Right_little_finger.BMP', '134__M_Right_thumb_finger.BMP', '269__M_Left_thumb_finger.BMP', '37__M_Right_index_finger.BMP', '116__M_Right_ring_finger.BMP', '90__M_Right_ring_finger.BMP', '535__M_Right_index_finger.BMP', '251__M_Left_little_finger.BMP', '2__F_Left_thumb_finger.BMP', '109__F_Right_thumb_finger.BMP', '511__M_Right_little_finger.BMP', '387__F_Left_index_finger.BMP', '457__M_Left_ring_finger.BMP', '302__M_Right_middle_finger.BMP', '53__M_Right_little_finger.BMP', '475__M_Left_thumb_finger.BMP', '487__M_Left_middle_finger.BMP', '214__M_Right_index_finger.BMP', '134__M_Left_middle_finger.BMP', '441__M_Right_index_finger.BMP', '374__M_Left_index_finger.BMP', '486__M_Right_little_finger.BMP', '236__M_Right_little_finger.BMP', '91__F_Left_middle_finger.BMP', '294__M_Right_thumb_finger.BMP', '349__M_Right_little_finger.BMP', '536__F_Right_index_finger.BMP', '425__M_Right_little_finger.BMP', '321__M_Left_ring_finger.BMP', '388__F_Left_thumb_finger.BMP', '96__M_Right_thumb_finger.BMP', '122__M_Left_thumb_finger.BMP', '10__M_Left_middle_finger.BMP', '441__M_Right_little_finger.BMP', '230__M_Right_thumb_finger.BMP', '152__M_Right_ring_finger.BMP', '413__M_Left_ring_finger.BMP', '521__M_Left_ring_finger.BMP', '353__M_Right_index_finger.BMP', '578__M_Left_middle_finger.BMP', '113__M_Right_thumb_finger.BMP', '148__M_Right_ring_finger.BMP', '342__M_Left_little_finger.BMP', '123__M_Right_middle_finger.BMP', '376__F_Left_thumb_finger.BMP', '412__M_Right_ring_finger.BMP', '489__M_Right_thumb_finger.BMP', '110__F_Left_middle_finger.BMP', '271__M_Right_middle_finger.BMP', '239__M_Right_thumb_finger.BMP', '444__M_Left_little_finger.BMP', '534__F_Left_ring_finger.BMP', '391__M_Right_middle_finger.BMP', '116__M_Left_middle_finger.BMP', '56__F_Right_ring_finger.BMP', '405__M_Right_index_finger.BMP', '125__M_Right_thumb_finger.BMP', '185__M_Right_little_finger.BMP', '198__M_Right_ring_finger.BMP', '11__M_Right_little_finger.BMP', '284__M_Right_index_finger.BMP', '111__M_Right_middle_finger.BMP', '144__M_Right_ring_finger.BMP', '594__M_Right_middle_finger.BMP', '107__M_Left_index_finger.BMP', '167__M_Left_middle_finger.BMP', '160__M_Left_middle_finger.BMP', '262__M_Right_middle_finger.BMP', '568__M_Right_little_finger.BMP', '119__F_Right_middle_finger.BMP', '69__M_Right_middle_finger.BMP', '408__M_Left_thumb_finger.BMP', '445__M_Left_ring_finger.BMP', '438__M_Left_thumb_finger.BMP', '57__M_Right_middle_finger.BMP', '217__M_Right_middle_finger.BMP', '56__F_Right_middle_finger.BMP', '346__M_Right_index_finger.BMP', '131__M_Right_index_finger.BMP', '425__M_Left_index_finger.BMP', '361__M_Left_thumb_finger.BMP', '481__F_Left_middle_finger.BMP', '26__M_Left_index_finger.BMP', '250__F_Left_ring_finger.BMP', '384__F_Right_index_finger.BMP', '178__M_Left_thumb_finger.BMP', '257__M_Right_middle_finger.BMP', '253__F_Right_ring_finger.BMP', '274__M_Right_little_finger.BMP', '569__M_Right_thumb_finger.BMP', '236__M_Left_thumb_finger.BMP', '432__M_Right_thumb_finger.BMP', '236__M_Left_little_finger.BMP', '63__M_Left_little_finger.BMP', '308__M_Left_index_finger.BMP', '456__M_Right_index_finger.BMP', '222__M_Right_thumb_finger.BMP', '345__M_Left_thumb_finger.BMP', '559__M_Left_middle_finger.BMP', '31__F_Right_middle_finger.BMP', '274__M_Right_middle_finger.BMP', '265__M_Left_thumb_finger.BMP', '434__M_Left_thumb_finger.BMP', '268__M_Right_middle_finger.BMP', '73__M_Right_thumb_finger.BMP', '502__F_Right_index_finger.BMP', '141__F_Left_ring_finger.BMP', '190__M_Right_ring_finger.BMP', '77__M_Left_ring_finger.BMP', '539__F_Left_middle_finger.BMP', '137__M_Left_index_finger.BMP', '494__F_Left_middle_finger.BMP', '157__M_Right_ring_finger.BMP', '346__M_Left_middle_finger.BMP', '182__M_Left_middle_finger.BMP', '516__M_Left_little_finger.BMP', '150__M_Left_middle_finger.BMP', '217__M_Left_middle_finger.BMP', '328__M_Right_index_finger.BMP', '571__F_Left_index_finger.BMP', '323__M_Left_thumb_finger.BMP', '88__F_Right_thumb_finger.BMP', '32__M_Left_little_finger.BMP', '408__M_Right_little_finger.BMP', '507__M_Right_little_finger.BMP', '375__M_Left_middle_finger.BMP', '580__M_Left_ring_finger.BMP', '67__F_Right_thumb_finger.BMP', '301__F_Left_thumb_finger.BMP', '571__F_Right_index_finger.BMP', '558__M_Left_thumb_finger.BMP', '585__M_Left_middle_finger.BMP', '21__M_Right_ring_finger.BMP', '478__M_Left_index_finger.BMP', '319__M_Left_index_finger.BMP', '246__M_Left_little_finger.BMP', '407__M_Left_little_finger.BMP', '108__M_Right_ring_finger.BMP', '395__M_Left_middle_finger.BMP', '277__M_Right_ring_finger.BMP', '414__M_Right_thumb_finger.BMP', '236__M_Left_ring_finger.BMP', '409__M_Left_thumb_finger.BMP', '504__M_Left_ring_finger.BMP', '466__F_Left_thumb_finger.BMP', '179__M_Left_little_finger.BMP', '550__F_Right_little_finger.BMP', '411__M_Right_ring_finger.BMP', '540__F_Right_middle_finger.BMP', '314__M_Right_ring_finger.BMP', '48__F_Right_index_finger.BMP', '135__F_Left_ring_finger.BMP', '506__M_Left_little_finger.BMP', '294__M_Right_middle_finger.BMP', '189__F_Left_ring_finger.BMP', '397__M_Left_thumb_finger.BMP', '126__F_Right_middle_finger.BMP', '193__M_Left_thumb_finger.BMP', '39__M_Left_thumb_finger.BMP', '484__M_Left_little_finger.BMP', '492__F_Left_little_finger.BMP', '145__M_Right_little_finger.BMP', '94__M_Left_middle_finger.BMP', '98__M_Right_thumb_finger.BMP', '185__M_Right_ring_finger.BMP', '205__F_Left_index_finger.BMP', '512__M_Left_middle_finger.BMP', '587__M_Right_index_finger.BMP', '549__M_Right_middle_finger.BMP', '258__M_Right_middle_finger.BMP', '162__M_Right_thumb_finger.BMP', '559__M_Left_index_finger.BMP', '45__M_Left_thumb_finger.BMP', '180__F_Right_ring_finger.BMP', '188__M_Right_index_finger.BMP', '258__M_Left_ring_finger.BMP', '492__F_Right_ring_finger.BMP', '539__F_Right_ring_finger.BMP', '461__F_Right_thumb_finger.BMP', '223__M_Left_index_finger.BMP', '318__F_Left_middle_finger.BMP', '50__M_Right_middle_finger.BMP', '431__M_Left_ring_finger.BMP', '333__M_Left_index_finger.BMP', '154__F_Right_middle_finger.BMP', '404__M_Right_middle_finger.BMP', '53__M_Left_middle_finger.BMP', '507__M_Right_thumb_finger.BMP', '455__M_Right_index_finger.BMP', '267__M_Left_ring_finger.BMP', '477__M_Right_thumb_finger.BMP', '456__M_Right_little_finger.BMP', '284__M_Left_ring_finger.BMP', '429__M_Left_index_finger.BMP', '229__M_Right_thumb_finger.BMP', '21__M_Right_little_finger.BMP', '566__M_Right_index_finger.BMP', '405__M_Left_index_finger.BMP', '328__M_Right_little_finger.BMP', '159__M_Right_thumb_finger.BMP', '35__M_Right_little_finger.BMP', '491__M_Right_ring_finger.BMP', '51__M_Left_thumb_finger.BMP', '245__M_Left_ring_finger.BMP', '287__M_Right_thumb_finger.BMP', '257__M_Left_little_finger.BMP', '193__M_Right_index_finger.BMP', '7__M_Right_index_finger.BMP', '353__M_Right_thumb_finger.BMP', '221__M_Right_ring_finger.BMP', '349__M_Left_thumb_finger.BMP', '68__M_Right_ring_finger.BMP', '499__M_Right_ring_finger.BMP', '288__M_Right_middle_finger.BMP', '371__M_Left_thumb_finger.BMP', '372__M_Left_thumb_finger.BMP', '71__M_Right_index_finger.BMP', '12__M_Right_little_finger.BMP', '338__M_Left_little_finger.BMP', '171__M_Left_middle_finger.BMP', '72__M_Left_index_finger.BMP', '539__F_Right_middle_finger.BMP', '421__F_Right_little_finger.BMP', '408__M_Right_thumb_finger.BMP', '382__M_Left_ring_finger.BMP', '491__M_Left_thumb_finger.BMP', '49__M_Right_thumb_finger.BMP', '83__M_Left_thumb_finger.BMP', '351__M_Left_middle_finger.BMP', '516__M_Left_middle_finger.BMP', '203__M_Left_little_finger.BMP', '241__M_Right_index_finger.BMP', '90__M_Left_ring_finger.BMP', '492__F_Left_middle_finger.BMP', '121__F_Left_index_finger.BMP', '144__M_Right_thumb_finger.BMP', '209__F_Left_little_finger.BMP', '119__F_Left_middle_finger.BMP', '541__M_Left_ring_finger.BMP', '566__M_Right_little_finger.BMP', '600__M_Right_middle_finger.BMP', '182__M_Left_index_finger.BMP', '572__F_Right_thumb_finger.BMP', '205__F_Right_little_finger.BMP', '459__M_Left_ring_finger.BMP', '335__M_Right_middle_finger.BMP', '21__M_Left_little_finger.BMP', '364__M_Right_middle_finger.BMP', '174__F_Left_little_finger.BMP', '496__M_Left_thumb_finger.BMP', '340__M_Left_ring_finger.BMP', '583__M_Right_little_finger.BMP', '528__F_Left_little_finger.BMP', '494__F_Right_index_finger.BMP', '589__M_Left_index_finger.BMP', '500__M_Right_index_finger.BMP', '246__M_Left_middle_finger.BMP', '450__M_Left_ring_finger.BMP', '279__M_Right_thumb_finger.BMP', '582__M_Right_index_finger.BMP', '315__F_Right_little_finger.BMP', '113__M_Right_middle_finger.BMP', '250__F_Right_thumb_finger.BMP', '556__F_Left_index_finger.BMP', '480__M_Left_little_finger.BMP', '17__M_Left_middle_finger.BMP', '163__M_Right_thumb_finger.BMP', '537__M_Right_middle_finger.BMP', '66__F_Left_middle_finger.BMP', '568__M_Left_ring_finger.BMP', '228__M_Right_index_finger.BMP', '259__M_Right_middle_finger.BMP', '84__M_Left_ring_finger.BMP', '502__F_Left_thumb_finger.BMP', '258__M_Left_thumb_finger.BMP', '229__M_Right_middle_finger.BMP', '387__F_Left_thumb_finger.BMP', '239__M_Left_middle_finger.BMP', '251__M_Right_little_finger.BMP', '172__M_Left_little_finger.BMP', '56__F_Left_thumb_finger.BMP', '310__M_Right_middle_finger.BMP', '543__M_Right_ring_finger.BMP', '547__M_Right_ring_finger.BMP', '585__M_Left_thumb_finger.BMP', '114__F_Left_index_finger.BMP', '553__M_Left_index_finger.BMP', '94__M_Right_thumb_finger.BMP', '453__F_Left_index_finger.BMP', '459__M_Right_thumb_finger.BMP', '511__M_Left_thumb_finger.BMP', '176__M_Left_middle_finger.BMP', '344__M_Left_little_finger.BMP', '146__M_Right_index_finger.BMP', '394__M_Left_ring_finger.BMP', '143__M_Left_index_finger.BMP', '222__M_Right_ring_finger.BMP', '297__M_Right_thumb_finger.BMP', '367__M_Right_little_finger.BMP', '255__M_Right_index_finger.BMP', '131__M_Right_ring_finger.BMP', '124__M_Right_little_finger.BMP', '270__M_Left_thumb_finger.BMP', '123__M_Right_thumb_finger.BMP', '225__M_Left_thumb_finger.BMP', '398__M_Right_little_finger.BMP', '158__M_Right_index_finger.BMP', '192__M_Right_middle_finger.BMP', '513__M_Right_thumb_finger.BMP', '187__M_Left_thumb_finger.BMP', '280__M_Left_index_finger.BMP', '17__M_Right_middle_finger.BMP', '397__M_Right_middle_finger.BMP', '65__M_Left_thumb_finger.BMP', '67__F_Left_middle_finger.BMP', '331__M_Left_ring_finger.BMP', '503__M_Left_thumb_finger.BMP', '416__M_Left_ring_finger.BMP', '308__M_Left_middle_finger.BMP', '67__F_Right_little_finger.BMP', '22__M_Right_thumb_finger.BMP', '432__M_Right_ring_finger.BMP', '523__F_Right_ring_finger.BMP', '78__F_Left_index_finger.BMP', '478__M_Left_little_finger.BMP', '547__M_Right_thumb_finger.BMP', '583__M_Left_ring_finger.BMP', '474__M_Left_thumb_finger.BMP', '346__M_Right_ring_finger.BMP', '486__M_Left_middle_finger.BMP', '458__M_Right_little_finger.BMP', '246__M_Right_index_finger.BMP', '223__M_Left_thumb_finger.BMP', '267__M_Right_index_finger.BMP', '477__M_Right_index_finger.BMP', '153__M_Right_little_finger.BMP', '25__F_Right_index_finger.BMP', '52__M_Right_index_finger.BMP', '98__M_Right_middle_finger.BMP', '294__M_Left_middle_finger.BMP', '464__M_Left_thumb_finger.BMP', '156__F_Right_middle_finger.BMP', '296__M_Right_little_finger.BMP', '45__M_Right_index_finger.BMP', '9__M_Right_thumb_finger.BMP', '144__M_Left_middle_finger.BMP', '504__M_Left_index_finger.BMP', '328__M_Right_ring_finger.BMP', '116__M_Left_ring_finger.BMP', '21__M_Right_middle_finger.BMP', '416__M_Right_little_finger.BMP', '474__M_Right_index_finger.BMP', '476__M_Right_thumb_finger.BMP', '257__M_Right_thumb_finger.BMP', '539__F_Left_index_finger.BMP', '463__F_Left_ring_finger.BMP', '456__M_Left_index_finger.BMP', '458__M_Left_thumb_finger.BMP', '12__M_Left_index_finger.BMP', '4__M_Right_index_finger.BMP', '572__F_Right_middle_finger.BMP', '499__M_Left_index_finger.BMP', '252__F_Right_ring_finger.BMP', '317__M_Left_little_finger.BMP', '397__M_Left_little_finger.BMP', '119__F_Right_index_finger.BMP', '305__M_Right_little_finger.BMP', '562__F_Right_ring_finger.BMP', '474__M_Right_little_finger.BMP', '556__F_Left_ring_finger.BMP', '290__M_Left_middle_finger.BMP', '232__M_Right_thumb_finger.BMP', '510__M_Left_thumb_finger.BMP', '595__M_Left_little_finger.BMP', '91__F_Right_ring_finger.BMP', '207__M_Left_index_finger.BMP', '26__M_Left_ring_finger.BMP', '7__M_Right_middle_finger.BMP', '150__M_Left_thumb_finger.BMP', '362__M_Left_middle_finger.BMP', '415__M_Left_little_finger.BMP', '47__F_Right_index_finger.BMP', '260__M_Left_ring_finger.BMP', '153__M_Left_thumb_finger.BMP', '444__M_Left_thumb_finger.BMP', '535__M_Left_little_finger.BMP', '306__M_Right_little_finger.BMP', '345__M_Left_ring_finger.BMP', '163__M_Left_middle_finger.BMP', '239__M_Left_thumb_finger.BMP', '266__M_Right_index_finger.BMP', '87__M_Left_thumb_finger.BMP', '549__M_Right_ring_finger.BMP', '329__M_Left_little_finger.BMP', '257__M_Left_ring_finger.BMP', '283__M_Right_middle_finger.BMP', '455__M_Left_little_finger.BMP', '166__M_Left_ring_finger.BMP', '207__M_Right_ring_finger.BMP', '513__M_Right_little_finger.BMP', '242__M_Right_thumb_finger.BMP', '389__F_Right_middle_finger.BMP', '380__M_Left_middle_finger.BMP', '474__M_Right_thumb_finger.BMP', '62__M_Right_thumb_finger.BMP', '87__M_Right_middle_finger.BMP', '451__M_Right_thumb_finger.BMP', '9__M_Left_index_finger.BMP', '105__M_Right_middle_finger.BMP', '97__M_Left_index_finger.BMP', '271__M_Left_little_finger.BMP', '260__M_Left_index_finger.BMP', '472__M_Left_ring_finger.BMP', '213__M_Left_ring_finger.BMP', '154__F_Left_index_finger.BMP', '291__M_Left_thumb_finger.BMP', '50__M_Right_little_finger.BMP', '562__F_Right_index_finger.BMP', '17__M_Left_index_finger.BMP', '249__M_Right_middle_finger.BMP', '262__M_Left_middle_finger.BMP', '16__M_Right_little_finger.BMP', '251__M_Left_index_finger.BMP', '56__F_Left_ring_finger.BMP', '378__F_Right_little_finger.BMP', '541__M_Right_little_finger.BMP', '476__M_Left_little_finger.BMP', '344__M_Left_ring_finger.BMP', '550__F_Left_ring_finger.BMP', '560__F_Right_ring_finger.BMP', '556__F_Right_middle_finger.BMP', '168__M_Left_thumb_finger.BMP', '551__F_Left_middle_finger.BMP', '274__M_Right_index_finger.BMP', '263__F_Right_thumb_finger.BMP', '273__M_Left_little_finger.BMP', '23__M_Right_thumb_finger.BMP', '326__M_Left_little_finger.BMP', '93__M_Left_little_finger.BMP', '184__M_Left_middle_finger.BMP', '123__M_Left_little_finger.BMP', '522__M_Right_thumb_finger.BMP', '516__M_Left_ring_finger.BMP', '160__M_Right_index_finger.BMP', '453__F_Right_middle_finger.BMP', '367__M_Right_middle_finger.BMP', '222__M_Left_ring_finger.BMP', '255__M_Left_little_finger.BMP', '487__M_Right_little_finger.BMP', '170__M_Left_index_finger.BMP', '171__M_Right_little_finger.BMP', '553__M_Right_little_finger.BMP', '346__M_Left_thumb_finger.BMP', '189__F_Left_thumb_finger.BMP', '187__M_Right_middle_finger.BMP', '444__M_Left_ring_finger.BMP', '558__M_Right_ring_finger.BMP', '333__M_Right_index_finger.BMP', '218__M_Right_little_finger.BMP', '268__M_Left_little_finger.BMP', '367__M_Left_thumb_finger.BMP', '211__M_Left_thumb_finger.BMP', '467__M_Right_thumb_finger.BMP', '247__M_Right_index_finger.BMP', '60__M_Left_index_finger.BMP', '80__M_Left_index_finger.BMP', '58__M_Right_middle_finger.BMP', '246__M_Right_little_finger.BMP', '405__M_Left_middle_finger.BMP', '505__M_Right_index_finger.BMP', '118__F_Right_thumb_finger.BMP', '31__F_Right_little_finger.BMP', '47__F_Left_middle_finger.BMP', '203__M_Right_index_finger.BMP', '570__M_Left_index_finger.BMP', '126__F_Left_little_finger.BMP', '299__M_Left_thumb_finger.BMP', '120__M_Right_middle_finger.BMP', '316__M_Left_thumb_finger.BMP', '512__M_Right_thumb_finger.BMP', '73__M_Left_ring_finger.BMP', '470__F_Left_thumb_finger.BMP', '389__F_Right_ring_finger.BMP', '360__M_Left_little_finger.BMP', '377__M_Right_middle_finger.BMP', '43__F_Left_middle_finger.BMP', '393__M_Right_index_finger.BMP', '268__M_Left_ring_finger.BMP', '514__F_Left_ring_finger.BMP', '68__M_Right_index_finger.BMP', '454__M_Right_ring_finger.BMP', '72__M_Right_ring_finger.BMP', '471__M_Left_little_finger.BMP', '179__M_Right_thumb_finger.BMP', '444__M_Right_middle_finger.BMP', '557__M_Left_thumb_finger.BMP', '589__M_Left_little_finger.BMP', '577__M_Right_index_finger.BMP', '32__M_Right_middle_finger.BMP', '497__M_Right_index_finger.BMP', '356__M_Right_little_finger.BMP', '375__M_Right_index_finger.BMP', '143__M_Left_ring_finger.BMP', '92__F_Right_thumb_finger.BMP', '183__M_Right_index_finger.BMP', '211__M_Right_thumb_finger.BMP', '561__M_Right_ring_finger.BMP', '244__M_Left_middle_finger.BMP', '360__M_Left_index_finger.BMP', '320__M_Right_middle_finger.BMP', '144__M_Right_middle_finger.BMP', '113__M_Left_ring_finger.BMP', '358__M_Right_ring_finger.BMP', '194__M_Right_ring_finger.BMP', '555__M_Left_index_finger.BMP', '407__M_Left_thumb_finger.BMP', '143__M_Right_ring_finger.BMP', '596__M_Left_ring_finger.BMP', '573__F_Right_middle_finger.BMP', '415__M_Left_thumb_finger.BMP', '101__M_Left_little_finger.BMP', '519__M_Left_index_finger.BMP', '541__M_Right_index_finger.BMP', '315__F_Left_middle_finger.BMP', '435__F_Left_middle_finger.BMP', '598__M_Left_ring_finger.BMP', '392__M_Left_index_finger.BMP', '273__M_Right_index_finger.BMP', '30__F_Right_index_finger.BMP', '285__M_Left_thumb_finger.BMP', '21__M_Left_thumb_finger.BMP', '555__M_Right_middle_finger.BMP', '421__F_Left_ring_finger.BMP', '325__M_Right_ring_finger.BMP', '451__M_Left_index_finger.BMP', '145__M_Left_index_finger.BMP', '261__M_Right_ring_finger.BMP', '15__F_Left_little_finger.BMP', '400__M_Left_thumb_finger.BMP', '57__M_Left_little_finger.BMP', '334__F_Left_little_finger.BMP', '600__M_Left_thumb_finger.BMP', '183__M_Right_middle_finger.BMP', '455__M_Left_thumb_finger.BMP', '452__F_Right_little_finger.BMP', '560__F_Left_middle_finger.BMP', '425__M_Left_middle_finger.BMP', '376__F_Right_index_finger.BMP', '271__M_Left_middle_finger.BMP', '345__M_Left_middle_finger.BMP', '120__M_Left_thumb_finger.BMP', '395__M_Left_index_finger.BMP', '498__M_Left_little_finger.BMP', '121__F_Right_middle_finger.BMP', '312__M_Left_middle_finger.BMP', '206__M_Right_thumb_finger.BMP', '339__M_Right_index_finger.BMP', '546__M_Right_index_finger.BMP', '504__M_Right_ring_finger.BMP', '166__M_Left_index_finger.BMP', '121__F_Left_ring_finger.BMP', '232__M_Left_middle_finger.BMP', '501__M_Left_index_finger.BMP', '588__M_Right_thumb_finger.BMP', '580__M_Right_middle_finger.BMP', '124__M_Left_middle_finger.BMP', '184__M_Left_ring_finger.BMP', '490__M_Right_little_finger.BMP', '514__F_Right_index_finger.BMP', '232__M_Left_index_finger.BMP', '45__M_Left_index_finger.BMP', '599__M_Left_ring_finger.BMP', '165__M_Left_thumb_finger.BMP', '55__M_Right_little_finger.BMP', '193__M_Left_index_finger.BMP', '463__F_Right_little_finger.BMP', '249__M_Right_little_finger.BMP', '542__M_Right_index_finger.BMP', '263__F_Left_middle_finger.BMP', '421__F_Left_little_finger.BMP', '95__M_Right_ring_finger.BMP', '135__F_Right_index_finger.BMP', '347__M_Left_middle_finger.BMP', '507__M_Right_middle_finger.BMP', '383__M_Left_index_finger.BMP', '524__M_Left_ring_finger.BMP', '17__M_Left_ring_finger.BMP', '73__M_Right_ring_finger.BMP', '245__M_Left_index_finger.BMP', '439__M_Right_ring_finger.BMP', '14__M_Right_index_finger.BMP', '100__M_Left_middle_finger.BMP', '9__M_Left_ring_finger.BMP', '334__F_Right_little_finger.BMP', '321__M_Left_thumb_finger.BMP', '366__M_Left_thumb_finger.BMP', '244__M_Left_ring_finger.BMP', '155__M_Right_little_finger.BMP', '98__M_Left_middle_finger.BMP', '412__M_Right_index_finger.BMP', '323__M_Right_little_finger.BMP', '48__F_Left_little_finger.BMP', '94__M_Left_ring_finger.BMP', '243__M_Left_middle_finger.BMP', '579__M_Left_little_finger.BMP', '575__M_Left_index_finger.BMP', '199__M_Right_little_finger.BMP', '11__M_Left_middle_finger.BMP', '165__M_Right_thumb_finger.BMP', '425__M_Left_thumb_finger.BMP', '555__M_Left_middle_finger.BMP', '20__M_Right_thumb_finger.BMP', '336__M_Right_thumb_finger.BMP', '411__M_Right_little_finger.BMP', '504__M_Right_index_finger.BMP', '26__M_Left_middle_finger.BMP', '552__M_Right_index_finger.BMP', '104__M_Left_little_finger.BMP', '266__M_Right_ring_finger.BMP', '75__F_Right_index_finger.BMP', '229__M_Right_little_finger.BMP', '76__F_Left_thumb_finger.BMP', '404__M_Right_thumb_finger.BMP', '465__F_Left_index_finger.BMP', '525__M_Right_ring_finger.BMP', '386__M_Left_little_finger.BMP', '593__M_Right_index_finger.BMP', '243__M_Right_middle_finger.BMP', '301__F_Left_index_finger.BMP', '164__M_Left_little_finger.BMP', '384__F_Right_thumb_finger.BMP', '169__F_Left_thumb_finger.BMP', '125__M_Right_middle_finger.BMP', '365__M_Left_thumb_finger.BMP', '275__F_Right_middle_finger.BMP', '214__M_Right_middle_finger.BMP', '398__M_Right_thumb_finger.BMP', '424__M_Left_little_finger.BMP', '495__M_Left_thumb_finger.BMP', '406__M_Right_little_finger.BMP', '141__F_Left_little_finger.BMP', '13__F_Right_little_finger.BMP', '53__M_Right_index_finger.BMP', '531__M_Right_middle_finger.BMP', '313__M_Left_little_finger.BMP', '24__F_Left_little_finger.BMP', '386__M_Left_ring_finger.BMP', '597__M_Left_index_finger.BMP', '279__M_Right_index_finger.BMP', '383__M_Left_thumb_finger.BMP', '308__M_Right_middle_finger.BMP', '272__M_Right_ring_finger.BMP', '364__M_Left_thumb_finger.BMP', '86__M_Right_thumb_finger.BMP', '586__M_Right_little_finger.BMP', '558__M_Left_middle_finger.BMP', '428__M_Right_ring_finger.BMP', '252__F_Left_little_finger.BMP', '489__M_Right_middle_finger.BMP', '201__F_Left_thumb_finger.BMP', '161__F_Right_little_finger.BMP', '596__M_Right_index_finger.BMP', '37__M_Right_thumb_finger.BMP', '489__M_Right_index_finger.BMP', '258__M_Right_index_finger.BMP', '69__M_Right_ring_finger.BMP', '13__F_Right_thumb_finger.BMP', '450__M_Left_index_finger.BMP', '286__M_Right_ring_finger.BMP', '129__M_Left_ring_finger.BMP', '530__M_Right_little_finger.BMP', '588__M_Right_ring_finger.BMP', '288__M_Left_index_finger.BMP', '553__M_Right_middle_finger.BMP', '568__M_Right_thumb_finger.BMP', '492__F_Right_index_finger.BMP', '10__M_Right_little_finger.BMP', '55__M_Right_index_finger.BMP', '425__M_Right_ring_finger.BMP', '320__M_Left_index_finger.BMP', '405__M_Right_thumb_finger.BMP', '565__M_Left_index_finger.BMP', '514__F_Right_thumb_finger.BMP', '166__M_Right_ring_finger.BMP', '587__M_Right_ring_finger.BMP', '216__M_Right_ring_finger.BMP', '295__M_Left_little_finger.BMP', '203__M_Left_thumb_finger.BMP', '432__M_Left_index_finger.BMP', '591__M_Right_thumb_finger.BMP', '562__F_Right_thumb_finger.BMP', '554__M_Right_thumb_finger.BMP', '95__M_Right_middle_finger.BMP', '533__M_Right_ring_finger.BMP', '573__F_Right_little_finger.BMP', '373__M_Right_middle_finger.BMP', '362__M_Right_little_finger.BMP', '337__F_Right_little_finger.BMP', '100__M_Left_little_finger.BMP', '122__M_Right_ring_finger.BMP', '226__M_Left_index_finger.BMP', '505__M_Right_thumb_finger.BMP', '356__M_Left_thumb_finger.BMP', '512__M_Left_ring_finger.BMP', '450__M_Right_little_finger.BMP', '38__M_Right_middle_finger.BMP', '207__M_Right_thumb_finger.BMP', '452__F_Left_index_finger.BMP', '428__M_Right_middle_finger.BMP', '232__M_Left_ring_finger.BMP', '471__M_Left_ring_finger.BMP', '542__M_Right_ring_finger.BMP', '63__M_Right_middle_finger.BMP', '143__M_Right_middle_finger.BMP', '514__F_Right_little_finger.BMP', '439__M_Left_index_finger.BMP', '570__M_Right_ring_finger.BMP', '166__M_Left_thumb_finger.BMP', '412__M_Right_thumb_finger.BMP', '115__F_Right_thumb_finger.BMP', '510__M_Right_ring_finger.BMP', '434__M_Right_ring_finger.BMP', '58__M_Left_thumb_finger.BMP', '254__M_Left_ring_finger.BMP', '440__M_Right_index_finger.BMP', '28__M_Left_thumb_finger.BMP', '465__F_Left_ring_finger.BMP', '161__F_Left_middle_finger.BMP', '112__M_Left_middle_finger.BMP', '226__M_Right_thumb_finger.BMP', '354__M_Right_index_finger.BMP', '198__M_Right_index_finger.BMP', '74__F_Left_ring_finger.BMP', '598__M_Left_index_finger.BMP', '196__M_Left_little_finger.BMP', '242__M_Left_middle_finger.BMP', '198__M_Right_little_finger.BMP', '190__M_Right_index_finger.BMP', '561__M_Left_middle_finger.BMP', '459__M_Left_middle_finger.BMP', '169__F_Right_little_finger.BMP', '395__M_Right_ring_finger.BMP', '19__M_Right_middle_finger.BMP', '118__F_Left_little_finger.BMP', '561__M_Right_thumb_finger.BMP', '547__M_Left_middle_finger.BMP', '13__F_Left_middle_finger.BMP', '101__M_Right_little_finger.BMP', '223__M_Left_middle_finger.BMP', '212__M_Left_index_finger.BMP', '510__M_Right_little_finger.BMP', '11__M_Right_middle_finger.BMP', '220__F_Left_index_finger.BMP', '265__M_Left_little_finger.BMP', '383__M_Right_middle_finger.BMP', '218__M_Left_index_finger.BMP', '485__M_Left_index_finger.BMP', '232__M_Left_thumb_finger.BMP', '409__M_Right_thumb_finger.BMP', '505__M_Left_ring_finger.BMP', '473__M_Left_index_finger.BMP', '309__M_Left_thumb_finger.BMP', '13__F_Right_middle_finger.BMP', '589__M_Left_thumb_finger.BMP', '480__M_Left_thumb_finger.BMP', '64__M_Left_ring_finger.BMP', '393__M_Left_little_finger.BMP', '428__M_Left_little_finger.BMP', '150__M_Right_ring_finger.BMP', '148__M_Left_middle_finger.BMP', '305__M_Left_index_finger.BMP', '325__M_Left_thumb_finger.BMP', '18__M_Right_thumb_finger.BMP', '362__M_Left_index_finger.BMP', '102__M_Left_ring_finger.BMP', '202__M_Left_ring_finger.BMP', '587__M_Left_index_finger.BMP', '181__M_Left_middle_finger.BMP', '415__M_Right_index_finger.BMP', '256__M_Right_middle_finger.BMP', '240__F_Left_thumb_finger.BMP', '144__M_Left_little_finger.BMP', '291__M_Left_middle_finger.BMP', '13__F_Left_little_finger.BMP', '366__M_Right_ring_finger.BMP', '583__M_Left_little_finger.BMP', '23__M_Right_index_finger.BMP', '519__M_Left_middle_finger.BMP', '171__M_Right_thumb_finger.BMP', '77__M_Right_index_finger.BMP', '410__M_Left_little_finger.BMP', '233__M_Right_middle_finger.BMP', '138__M_Left_middle_finger.BMP', '538__M_Left_thumb_finger.BMP', '466__F_Left_index_finger.BMP', '217__M_Right_index_finger.BMP', '564__M_Right_ring_finger.BMP', '113__M_Left_middle_finger.BMP', '44__M_Left_little_finger.BMP', '155__M_Right_thumb_finger.BMP', '522__M_Left_index_finger.BMP', '235__M_Left_thumb_finger.BMP', '317__M_Right_middle_finger.BMP', '122__M_Right_little_finger.BMP', '57__M_Right_thumb_finger.BMP', '58__M_Right_little_finger.BMP', '496__M_Right_middle_finger.BMP', '490__M_Left_ring_finger.BMP', '386__M_Left_index_finger.BMP', '118__F_Left_thumb_finger.BMP', '311__M_Left_index_finger.BMP', '168__M_Left_little_finger.BMP', '350__M_Right_little_finger.BMP', '436__M_Right_ring_finger.BMP', '255__M_Right_ring_finger.BMP', '331__M_Left_middle_finger.BMP', '130__F_Right_index_finger.BMP', '289__F_Right_ring_finger.BMP', '157__M_Left_ring_finger.BMP', '281__M_Left_thumb_finger.BMP', '113__M_Right_little_finger.BMP', '142__F_Left_thumb_finger.BMP', '178__M_Left_middle_finger.BMP', '501__M_Left_ring_finger.BMP', '520__M_Right_index_finger.BMP', '596__M_Left_middle_finger.BMP', '28__M_Left_ring_finger.BMP', '526__F_Left_ring_finger.BMP', '525__M_Right_index_finger.BMP', '256__M_Left_ring_finger.BMP', '363__M_Left_ring_finger.BMP', '197__M_Left_thumb_finger.BMP', '156__F_Left_middle_finger.BMP', '284__M_Right_thumb_finger.BMP', '207__M_Left_thumb_finger.BMP', '550__F_Right_thumb_finger.BMP', '571__F_Right_little_finger.BMP', '101__M_Left_ring_finger.BMP', '401__M_Right_middle_finger.BMP', '505__M_Right_middle_finger.BMP', '209__F_Left_ring_finger.BMP', '110__F_Right_index_finger.BMP', '375__M_Right_middle_finger.BMP', '27__M_Right_thumb_finger.BMP', '588__M_Left_little_finger.BMP', '588__M_Left_index_finger.BMP', '511__M_Left_middle_finger.BMP', '596__M_Right_ring_finger.BMP', '150__M_Left_ring_finger.BMP', '118__F_Right_middle_finger.BMP', '31__F_Right_index_finger.BMP', '48__F_Right_ring_finger.BMP', '196__M_Right_index_finger.BMP', '518__M_Right_index_finger.BMP', '387__F_Left_middle_finger.BMP', '140__F_Left_little_finger.BMP', '26__M_Right_thumb_finger.BMP', '73__M_Left_little_finger.BMP', '440__M_Right_little_finger.BMP', '1__M_Left_little_finger.BMP', '467__M_Left_little_finger.BMP', '51__M_Left_middle_finger.BMP', '552__M_Left_index_finger.BMP', '574__F_Right_ring_finger.BMP', '156__F_Right_index_finger.BMP', '79__M_Left_middle_finger.BMP', '56__F_Right_little_finger.BMP', '580__M_Right_index_finger.BMP', '57__M_Left_ring_finger.BMP', '158__M_Right_thumb_finger.BMP', '475__M_Left_index_finger.BMP', '287__M_Left_thumb_finger.BMP', '198__M_Right_middle_finger.BMP', '131__M_Right_middle_finger.BMP', '65__M_Left_middle_finger.BMP', '236__M_Right_middle_finger.BMP', '591__M_Left_ring_finger.BMP', '588__M_Right_middle_finger.BMP', '381__M_Right_thumb_finger.BMP', '188__M_Right_ring_finger.BMP', '482__M_Right_index_finger.BMP', '566__M_Left_middle_finger.BMP', '303__F_Left_middle_finger.BMP', '115__F_Left_little_finger.BMP', '156__F_Left_thumb_finger.BMP', '272__M_Left_index_finger.BMP', '351__M_Right_middle_finger.BMP', '189__F_Right_index_finger.BMP', '415__M_Right_little_finger.BMP', '452__F_Left_ring_finger.BMP', '311__M_Left_ring_finger.BMP', '396__M_Left_index_finger.BMP', '113__M_Left_index_finger.BMP', '286__M_Left_thumb_finger.BMP', '321__M_Left_middle_finger.BMP', '345__M_Right_ring_finger.BMP', '96__M_Right_ring_finger.BMP', '204__F_Left_middle_finger.BMP', '157__M_Left_little_finger.BMP', '202__M_Right_index_finger.BMP', '48__F_Left_thumb_finger.BMP', '393__M_Right_thumb_finger.BMP', '494__F_Left_thumb_finger.BMP', '340__M_Right_thumb_finger.BMP', '313__M_Left_middle_finger.BMP', '65__M_Left_little_finger.BMP', '221__M_Left_little_finger.BMP', '185__M_Right_index_finger.BMP', '419__F_Left_index_finger.BMP', '11__M_Left_thumb_finger.BMP', '178__M_Right_index_finger.BMP', '133__M_Right_thumb_finger.BMP', '392__M_Left_middle_finger.BMP', '138__M_Left_little_finger.BMP', '129__M_Left_index_finger.BMP', '325__M_Right_little_finger.BMP', '120__M_Left_little_finger.BMP', '306__M_Right_thumb_finger.BMP', '132__M_Left_ring_finger.BMP', '361__M_Left_index_finger.BMP', '229__M_Right_index_finger.BMP', '88__F_Left_middle_finger.BMP', '424__M_Left_thumb_finger.BMP', '189__F_Right_little_finger.BMP', '29__F_Left_index_finger.BMP', '329__M_Right_middle_finger.BMP', '95__M_Left_little_finger.BMP', '369__F_Left_middle_finger.BMP', '491__M_Left_middle_finger.BMP', '293__F_Right_index_finger.BMP', '275__F_Right_ring_finger.BMP', '464__M_Right_index_finger.BMP', '293__F_Left_ring_finger.BMP', '57__M_Right_index_finger.BMP', '523__F_Right_index_finger.BMP', '150__M_Right_index_finger.BMP', '544__M_Left_index_finger.BMP', '130__F_Left_thumb_finger.BMP', '163__M_Left_thumb_finger.BMP', '255__M_Right_thumb_finger.BMP', '429__M_Left_ring_finger.BMP', '151__M_Left_thumb_finger.BMP', '275__F_Right_thumb_finger.BMP', '435__F_Right_ring_finger.BMP', '254__M_Right_little_finger.BMP', '357__M_Left_thumb_finger.BMP', '222__M_Left_middle_finger.BMP', '551__F_Right_middle_finger.BMP', '462__M_Left_thumb_finger.BMP', '301__F_Right_middle_finger.BMP', '412__M_Left_middle_finger.BMP', '428__M_Left_index_finger.BMP', '384__F_Right_little_finger.BMP', '210__M_Left_middle_finger.BMP', '23__M_Left_index_finger.BMP', '458__M_Right_ring_finger.BMP', '379__F_Right_index_finger.BMP', '105__M_Right_ring_finger.BMP', '468__F_Left_thumb_finger.BMP', '136__F_Left_index_finger.BMP', '288__M_Left_middle_finger.BMP', '103__F_Right_middle_finger.BMP', '559__M_Left_thumb_finger.BMP', '220__F_Left_little_finger.BMP', '276__M_Left_index_finger.BMP', '161__F_Left_index_finger.BMP', '434__M_Right_middle_finger.BMP', '300__F_Left_middle_finger.BMP', '210__M_Left_thumb_finger.BMP', '82__M_Left_middle_finger.BMP', '213__M_Left_middle_finger.BMP', '29__F_Left_little_finger.BMP', '495__M_Right_little_finger.BMP', '307__M_Left_index_finger.BMP', '529__M_Right_index_finger.BMP', '330__M_Right_index_finger.BMP', '449__F_Right_thumb_finger.BMP', '49__M_Left_thumb_finger.BMP', '123__M_Right_index_finger.BMP', '345__M_Right_thumb_finger.BMP', '219__M_Left_little_finger.BMP', '127__F_Right_middle_finger.BMP', '251__M_Left_thumb_finger.BMP', '8__M_Right_middle_finger.BMP', '90__M_Right_thumb_finger.BMP', '319__M_Left_ring_finger.BMP', '289__F_Left_thumb_finger.BMP', '158__M_Right_middle_finger.BMP', '532__M_Right_index_finger.BMP', '198__M_Left_ring_finger.BMP', '367__M_Left_little_finger.BMP', '470__F_Right_thumb_finger.BMP', '359__M_Right_thumb_finger.BMP', '254__M_Right_ring_finger.BMP', '150__M_Right_little_finger.BMP', '266__M_Right_little_finger.BMP', '545__M_Right_middle_finger.BMP', '339__M_Left_ring_finger.BMP', '286__M_Right_middle_finger.BMP', '416__M_Left_little_finger.BMP', '512__M_Right_little_finger.BMP', '237__M_Left_ring_finger.BMP', '514__F_Left_thumb_finger.BMP', '595__M_Right_little_finger.BMP', '575__M_Right_thumb_finger.BMP', '580__M_Left_index_finger.BMP', '287__M_Right_index_finger.BMP', '158__M_Left_ring_finger.BMP', '362__M_Right_ring_finger.BMP', '372__M_Left_index_finger.BMP', '526__F_Right_index_finger.BMP', '110__F_Left_ring_finger.BMP', '69__M_Left_ring_finger.BMP', '45__M_Right_ring_finger.BMP', '66__F_Right_middle_finger.BMP', '14__M_Right_thumb_finger.BMP', '509__M_Left_middle_finger.BMP', '514__F_Right_ring_finger.BMP', '253__F_Left_ring_finger.BMP', '385__M_Right_thumb_finger.BMP', '260__M_Right_index_finger.BMP', '143__M_Left_thumb_finger.BMP', '33__M_Right_thumb_finger.BMP', '492__F_Right_middle_finger.BMP', '296__M_Right_ring_finger.BMP', '334__F_Left_ring_finger.BMP', '104__M_Left_middle_finger.BMP', '284__M_Left_middle_finger.BMP', '384__F_Left_thumb_finger.BMP', '175__M_Right_ring_finger.BMP', '441__M_Left_index_finger.BMP', '449__F_Left_ring_finger.BMP', '335__M_Right_little_finger.BMP', '370__M_Right_little_finger.BMP', '314__M_Right_little_finger.BMP', '99__M_Right_ring_finger.BMP', '427__M_Left_ring_finger.BMP', '328__M_Left_index_finger.BMP', '196__M_Left_thumb_finger.BMP', '512__M_Left_thumb_finger.BMP', '537__M_Right_thumb_finger.BMP', '280__M_Right_middle_finger.BMP', '475__M_Right_index_finger.BMP', '559__M_Right_thumb_finger.BMP', '63__M_Left_ring_finger.BMP', '404__M_Left_middle_finger.BMP', '427__M_Right_index_finger.BMP', '255__M_Left_index_finger.BMP', '38__M_Left_thumb_finger.BMP', '568__M_Left_middle_finger.BMP', '7__M_Right_little_finger.BMP', '242__M_Left_little_finger.BMP', '281__M_Left_middle_finger.BMP', '546__M_Left_thumb_finger.BMP', '496__M_Left_middle_finger.BMP', '187__M_Left_middle_finger.BMP', '12__M_Right_index_finger.BMP', '590__M_Left_index_finger.BMP', '564__M_Right_middle_finger.BMP', '546__M_Right_thumb_finger.BMP', '571__F_Right_thumb_finger.BMP', '509__M_Right_little_finger.BMP', '299__M_Right_little_finger.BMP', '463__F_Left_little_finger.BMP', '431__M_Right_index_finger.BMP', '133__M_Left_ring_finger.BMP', '403__M_Left_index_finger.BMP', '93__M_Right_thumb_finger.BMP', '359__M_Right_ring_finger.BMP', '569__M_Right_little_finger.BMP', '424__M_Left_ring_finger.BMP', '363__M_Right_middle_finger.BMP', '198__M_Left_thumb_finger.BMP', '55__M_Left_thumb_finger.BMP', '361__M_Right_index_finger.BMP', '43__F_Right_thumb_finger.BMP', '109__F_Left_middle_finger.BMP', '526__F_Left_index_finger.BMP', '19__M_Right_little_finger.BMP', '20__M_Left_little_finger.BMP', '580__M_Right_little_finger.BMP', '56__F_Left_index_finger.BMP', '555__M_Left_little_finger.BMP', '65__M_Left_index_finger.BMP', '599__M_Left_middle_finger.BMP', '325__M_Left_middle_finger.BMP', '527__M_Left_little_finger.BMP', '238__M_Left_ring_finger.BMP', '210__M_Right_ring_finger.BMP', '85__M_Left_middle_finger.BMP', '202__M_Left_middle_finger.BMP', '459__M_Left_thumb_finger.BMP', '270__M_Right_ring_finger.BMP', '55__M_Left_index_finger.BMP', '194__M_Right_middle_finger.BMP', '451__M_Right_little_finger.BMP', '271__M_Left_thumb_finger.BMP', '252__F_Right_little_finger.BMP', '217__M_Right_little_finger.BMP', '384__F_Right_ring_finger.BMP', '569__M_Right_ring_finger.BMP', '102__M_Left_index_finger.BMP', '270__M_Right_thumb_finger.BMP', '567__M_Right_thumb_finger.BMP', '154__F_Right_ring_finger.BMP', '22__M_Left_index_finger.BMP', '514__F_Left_middle_finger.BMP', '389__F_Left_little_finger.BMP', '34__M_Left_ring_finger.BMP', '148__M_Left_little_finger.BMP', '282__M_Right_ring_finger.BMP', '205__F_Left_ring_finger.BMP', '424__M_Left_middle_finger.BMP', '593__M_Right_middle_finger.BMP', '253__F_Right_middle_finger.BMP', '352__M_Left_little_finger.BMP', '293__F_Right_middle_finger.BMP', '536__F_Left_middle_finger.BMP', '78__F_Left_ring_finger.BMP', '48__F_Left_middle_finger.BMP', '193__M_Right_thumb_finger.BMP', '312__M_Right_middle_finger.BMP', '398__M_Left_middle_finger.BMP', '374__M_Left_ring_finger.BMP', '526__F_Left_little_finger.BMP', '46__M_Left_ring_finger.BMP', '62__M_Left_ring_finger.BMP', '170__M_Left_ring_finger.BMP', '417__M_Left_ring_finger.BMP', '425__M_Left_little_finger.BMP', '517__M_Right_little_finger.BMP', '92__F_Left_thumb_finger.BMP', '579__M_Right_ring_finger.BMP', '303__F_Left_thumb_finger.BMP', '17__M_Right_thumb_finger.BMP', '352__M_Right_ring_finger.BMP', '28__M_Right_ring_finger.BMP', '470__F_Right_middle_finger.BMP', '553__M_Right_index_finger.BMP', '6__M_Right_little_finger.BMP', '491__M_Left_index_finger.BMP', '137__M_Left_middle_finger.BMP', '275__F_Left_middle_finger.BMP', '400__M_Right_middle_finger.BMP', '467__M_Right_ring_finger.BMP', '550__F_Right_ring_finger.BMP', '581__F_Left_little_finger.BMP', '14__M_Left_ring_finger.BMP', '572__F_Left_index_finger.BMP', '35__M_Left_index_finger.BMP', '436__M_Left_little_finger.BMP', '522__M_Left_ring_finger.BMP', '221__M_Left_ring_finger.BMP', '211__M_Left_ring_finger.BMP', '503__M_Right_ring_finger.BMP', '379__F_Left_middle_finger.BMP', '107__M_Right_index_finger.BMP', '224__M_Right_index_finger.BMP', '115__F_Right_ring_finger.BMP', '530__M_Right_thumb_finger.BMP', '84__M_Right_ring_finger.BMP', '192__M_Right_ring_finger.BMP', '458__M_Right_index_finger.BMP', '496__M_Right_thumb_finger.BMP', '40__F_Right_middle_finger.BMP', '592__M_Left_ring_finger.BMP', '447__M_Left_ring_finger.BMP', '125__M_Right_ring_finger.BMP', '134__M_Left_index_finger.BMP', '277__M_Left_little_finger.BMP', '411__M_Left_thumb_finger.BMP', '330__M_Right_thumb_finger.BMP', '326__M_Right_little_finger.BMP', '504__M_Left_little_finger.BMP', '187__M_Right_little_finger.BMP', '310__M_Right_ring_finger.BMP', '187__M_Left_index_finger.BMP', '378__F_Right_middle_finger.BMP', '236__M_Left_middle_finger.BMP', '307__M_Left_thumb_finger.BMP', '86__M_Left_thumb_finger.BMP', '106__M_Right_index_finger.BMP', '44__M_Left_thumb_finger.BMP', '213__M_Left_little_finger.BMP', '123__M_Right_little_finger.BMP', '600__M_Left_little_finger.BMP', '126__F_Right_ring_finger.BMP', '581__F_Left_ring_finger.BMP', '404__M_Right_little_finger.BMP', '147__M_Left_ring_finger.BMP', '239__M_Right_middle_finger.BMP', '174__F_Right_middle_finger.BMP', '506__M_Right_index_finger.BMP', '375__M_Left_index_finger.BMP', '237__M_Left_middle_finger.BMP', '448__M_Left_middle_finger.BMP', '64__M_Left_middle_finger.BMP', '147__M_Left_thumb_finger.BMP', '309__M_Right_little_finger.BMP', '378__F_Left_ring_finger.BMP', '466__F_Right_middle_finger.BMP', '250__F_Right_ring_finger.BMP', '372__M_Right_index_finger.BMP', '515__M_Left_ring_finger.BMP', '527__M_Left_index_finger.BMP', '292__M_Right_index_finger.BMP', '158__M_Left_little_finger.BMP', '328__M_Right_thumb_finger.BMP', '80__M_Right_ring_finger.BMP', '399__M_Right_index_finger.BMP', '155__M_Right_index_finger.BMP', '233__M_Left_middle_finger.BMP', '116__M_Right_middle_finger.BMP', '597__M_Left_little_finger.BMP', '171__M_Left_index_finger.BMP', '53__M_Left_thumb_finger.BMP', '61__M_Left_index_finger.BMP', '250__F_Left_index_finger.BMP', '577__M_Right_ring_finger.BMP', '566__M_Right_middle_finger.BMP', '280__M_Left_thumb_finger.BMP', '197__M_Left_middle_finger.BMP', '254__M_Left_thumb_finger.BMP', '498__M_Left_thumb_finger.BMP', '279__M_Right_middle_finger.BMP', '225__M_Right_thumb_finger.BMP', '413__M_Left_little_finger.BMP', '453__F_Right_ring_finger.BMP', '114__F_Left_ring_finger.BMP', '387__F_Left_little_finger.BMP', '36__M_Right_thumb_finger.BMP', '439__M_Right_little_finger.BMP', '530__M_Left_middle_finger.BMP', '462__M_Left_middle_finger.BMP', '287__M_Right_ring_finger.BMP', '420__M_Right_little_finger.BMP', '249__M_Left_ring_finger.BMP', '65__M_Right_little_finger.BMP', '151__M_Right_index_finger.BMP', '557__M_Right_thumb_finger.BMP', '201__F_Right_middle_finger.BMP', '503__M_Left_little_finger.BMP', '127__F_Left_middle_finger.BMP', '233__M_Left_thumb_finger.BMP', '576__M_Right_ring_finger.BMP', '57__M_Left_thumb_finger.BMP', '53__M_Right_ring_finger.BMP', '64__M_Right_ring_finger.BMP', '347__M_Right_middle_finger.BMP', '506__M_Right_ring_finger.BMP', '400__M_Left_little_finger.BMP', '130__F_Left_little_finger.BMP', '132__M_Left_middle_finger.BMP', '265__M_Left_ring_finger.BMP', '536__F_Left_ring_finger.BMP', '1__M_Right_ring_finger.BMP', '173__F_Left_thumb_finger.BMP', '358__M_Left_middle_finger.BMP', '152__M_Left_index_finger.BMP', '152__M_Left_little_finger.BMP', '172__M_Left_index_finger.BMP', '531__M_Right_little_finger.BMP', '89__M_Left_little_finger.BMP', '30__F_Right_ring_finger.BMP', '16__M_Left_little_finger.BMP', '259__M_Left_ring_finger.BMP', '206__M_Right_index_finger.BMP', '163__M_Right_middle_finger.BMP', '391__M_Left_ring_finger.BMP', '8__M_Left_little_finger.BMP', '585__M_Right_middle_finger.BMP', '348__F_Right_middle_finger.BMP', '308__M_Right_little_finger.BMP', '264__M_Left_index_finger.BMP', '473__M_Right_thumb_finger.BMP', '588__M_Left_thumb_finger.BMP', '347__M_Left_thumb_finger.BMP', '481__F_Right_index_finger.BMP', '477__M_Left_ring_finger.BMP', '569__M_Left_ring_finger.BMP', '591__M_Left_index_finger.BMP', '302__M_Left_thumb_finger.BMP', '487__M_Right_thumb_finger.BMP', '119__F_Left_ring_finger.BMP', '226__M_Right_little_finger.BMP', '534__F_Right_thumb_finger.BMP', '216__M_Left_middle_finger.BMP', '353__M_Left_ring_finger.BMP', '205__F_Right_thumb_finger.BMP', '575__M_Right_little_finger.BMP', '214__M_Left_ring_finger.BMP', '533__M_Left_middle_finger.BMP', '51__M_Right_index_finger.BMP', '449__F_Left_little_finger.BMP', '54__M_Left_thumb_finger.BMP', '10__M_Left_ring_finger.BMP', '177__F_Left_thumb_finger.BMP', '313__M_Left_index_finger.BMP', '433__M_Right_index_finger.BMP', '382__M_Left_little_finger.BMP', '177__F_Right_little_finger.BMP', '155__M_Left_ring_finger.BMP', '355__M_Left_thumb_finger.BMP', '19__M_Left_thumb_finger.BMP', '174__F_Left_middle_finger.BMP', '358__M_Left_index_finger.BMP', '260__M_Left_middle_finger.BMP', '194__M_Right_little_finger.BMP', '513__M_Right_middle_finger.BMP', '383__M_Right_little_finger.BMP', '356__M_Left_middle_finger.BMP', '272__M_Right_little_finger.BMP', '533__M_Left_ring_finger.BMP', '530__M_Right_middle_finger.BMP', '402__M_Right_ring_finger.BMP', '227__M_Left_ring_finger.BMP', '254__M_Right_thumb_finger.BMP', '200__M_Right_little_finger.BMP', '469__M_Left_middle_finger.BMP', '193__M_Left_middle_finger.BMP', '496__M_Left_ring_finger.BMP', '159__M_Left_index_finger.BMP', '527__M_Right_thumb_finger.BMP', '548__F_Right_middle_finger.BMP', '437__M_Left_thumb_finger.BMP', '253__F_Right_little_finger.BMP', '169__F_Left_index_finger.BMP', '460__M_Right_little_finger.BMP', '386__M_Left_thumb_finger.BMP', '430__F_Right_little_finger.BMP', '431__M_Left_little_finger.BMP', '10__M_Left_little_finger.BMP', '208__M_Right_ring_finger.BMP', '545__M_Left_thumb_finger.BMP', '594__M_Left_ring_finger.BMP', '442__F_Left_ring_finger.BMP', '385__M_Left_little_finger.BMP', '11__M_Right_ring_finger.BMP', '46__M_Right_thumb_finger.BMP', '385__M_Right_middle_finger.BMP', '344__M_Right_thumb_finger.BMP', '537__M_Left_index_finger.BMP', '343__M_Right_little_finger.BMP', '34__M_Right_thumb_finger.BMP', '530__M_Left_little_finger.BMP', '289__F_Right_middle_finger.BMP', '187__M_Right_index_finger.BMP', '375__M_Right_thumb_finger.BMP', '82__M_Right_middle_finger.BMP', '410__M_Left_middle_finger.BMP', '104__M_Left_index_finger.BMP', '345__M_Right_index_finger.BMP', '531__M_Right_index_finger.BMP', '137__M_Right_ring_finger.BMP', '231__M_Left_thumb_finger.BMP', '354__M_Left_thumb_finger.BMP', '245__M_Right_index_finger.BMP', '342__M_Left_ring_finger.BMP', '524__M_Right_little_finger.BMP', '585__M_Right_ring_finger.BMP', '18__M_Left_ring_finger.BMP', '290__M_Right_middle_finger.BMP', '156__F_Right_thumb_finger.BMP', '311__M_Left_little_finger.BMP', '338__M_Left_thumb_finger.BMP', '522__M_Right_ring_finger.BMP', '565__M_Right_thumb_finger.BMP', '64__M_Left_thumb_finger.BMP', '595__M_Right_thumb_finger.BMP', '74__F_Right_index_finger.BMP', '467__M_Right_index_finger.BMP', '93__M_Right_index_finger.BMP', '167__M_Left_thumb_finger.BMP', '275__F_Left_ring_finger.BMP', '322__M_Left_middle_finger.BMP', '386__M_Right_little_finger.BMP', '409__M_Left_index_finger.BMP', '534__F_Right_middle_finger.BMP', '145__M_Left_thumb_finger.BMP', '310__M_Left_thumb_finger.BMP', '431__M_Left_index_finger.BMP', '376__F_Left_ring_finger.BMP', '445__M_Right_thumb_finger.BMP', '518__M_Left_ring_finger.BMP', '84__M_Right_thumb_finger.BMP', '38__M_Left_little_finger.BMP', '418__F_Left_index_finger.BMP', '335__M_Left_ring_finger.BMP', '136__F_Left_middle_finger.BMP', '561__M_Left_ring_finger.BMP', '191__F_Left_ring_finger.BMP', '152__M_Left_ring_finger.BMP', '136__F_Left_ring_finger.BMP', '113__M_Right_index_finger.BMP', '92__F_Left_middle_finger.BMP', '362__M_Left_ring_finger.BMP', '508__F_Right_index_finger.BMP', '564__M_Left_index_finger.BMP', '90__M_Left_middle_finger.BMP', '227__M_Left_index_finger.BMP', '522__M_Left_thumb_finger.BMP', '165__M_Left_index_finger.BMP', '327__M_Right_little_finger.BMP', '269__M_Right_little_finger.BMP', '584__M_Left_middle_finger.BMP', '35__M_Right_middle_finger.BMP', '438__M_Right_little_finger.BMP', '257__M_Left_index_finger.BMP', '423__M_Left_thumb_finger.BMP', '553__M_Left_middle_finger.BMP', '179__M_Right_little_finger.BMP', '439__M_Left_little_finger.BMP', '584__M_Left_ring_finger.BMP', '426__M_Right_ring_finger.BMP', '278__M_Right_little_finger.BMP', '188__M_Left_index_finger.BMP', '456__M_Left_thumb_finger.BMP', '442__F_Left_middle_finger.BMP', '40__F_Left_middle_finger.BMP', '557__M_Left_middle_finger.BMP', '494__F_Left_ring_finger.BMP', '271__M_Left_index_finger.BMP', '596__M_Left_little_finger.BMP', '332__M_Right_thumb_finger.BMP', '23__M_Left_thumb_finger.BMP', '575__M_Right_ring_finger.BMP', '107__M_Right_ring_finger.BMP', '488__M_Right_little_finger.BMP', '8__M_Right_index_finger.BMP', '76__F_Right_ring_finger.BMP', '413__M_Right_middle_finger.BMP', '529__M_Left_middle_finger.BMP', '445__M_Left_middle_finger.BMP', '330__M_Left_ring_finger.BMP', '286__M_Left_index_finger.BMP', '400__M_Right_index_finger.BMP', '58__M_Left_index_finger.BMP', '325__M_Right_thumb_finger.BMP', '346__M_Right_thumb_finger.BMP', '369__F_Right_index_finger.BMP', '117__F_Right_little_finger.BMP', '245__M_Left_middle_finger.BMP', '220__F_Right_thumb_finger.BMP', '373__M_Left_little_finger.BMP', '576__M_Left_index_finger.BMP', '244__M_Left_thumb_finger.BMP', '401__M_Left_index_finger.BMP', '305__M_Left_ring_finger.BMP', '457__M_Left_middle_finger.BMP', '109__F_Left_ring_finger.BMP', '46__M_Right_little_finger.BMP', '67__F_Left_ring_finger.BMP', '535__M_Left_middle_finger.BMP', '174__F_Left_index_finger.BMP', '104__M_Right_middle_finger.BMP', '87__M_Right_ring_finger.BMP', '487__M_Left_index_finger.BMP', '228__M_Right_ring_finger.BMP', '111__M_Right_index_finger.BMP', '320__M_Right_thumb_finger.BMP', '380__M_Right_ring_finger.BMP', '565__M_Right_middle_finger.BMP', '177__F_Right_index_finger.BMP', '369__F_Right_little_finger.BMP', '138__M_Right_index_finger.BMP', '562__F_Left_middle_finger.BMP', '502__F_Left_middle_finger.BMP', '109__F_Left_little_finger.BMP', '542__M_Left_middle_finger.BMP', '515__M_Right_index_finger.BMP', '54__M_Left_little_finger.BMP', '533__M_Right_middle_finger.BMP', '590__M_Left_thumb_finger.BMP', '342__M_Right_index_finger.BMP', '199__M_Right_ring_finger.BMP', '159__M_Right_middle_finger.BMP', '403__M_Right_ring_finger.BMP', '55__M_Left_ring_finger.BMP', '254__M_Left_middle_finger.BMP', '8__M_Left_middle_finger.BMP', '147__M_Right_middle_finger.BMP', '41__M_Left_thumb_finger.BMP', '369__F_Right_thumb_finger.BMP', '211__M_Left_index_finger.BMP', '260__M_Left_thumb_finger.BMP', '302__M_Right_little_finger.BMP', '171__M_Left_little_finger.BMP', '348__F_Left_middle_finger.BMP', '197__M_Right_little_finger.BMP', '253__F_Right_index_finger.BMP', '192__M_Left_ring_finger.BMP', '316__M_Left_index_finger.BMP', '414__M_Right_index_finger.BMP', '229__M_Right_ring_finger.BMP', '89__M_Right_middle_finger.BMP', '355__M_Left_little_finger.BMP', '45__M_Left_ring_finger.BMP', '349__M_Left_little_finger.BMP', '215__M_Left_thumb_finger.BMP', '223__M_Left_little_finger.BMP', '408__M_Left_index_finger.BMP', '56__F_Right_thumb_finger.BMP', '239__M_Right_index_finger.BMP', '440__M_Left_index_finger.BMP', '80__M_Right_middle_finger.BMP', '553__M_Right_ring_finger.BMP', '528__F_Right_little_finger.BMP', '564__M_Left_ring_finger.BMP', '85__M_Left_thumb_finger.BMP', '133__M_Right_index_finger.BMP', '567__M_Right_middle_finger.BMP', '433__M_Left_middle_finger.BMP', '522__M_Left_little_finger.BMP', '228__M_Left_thumb_finger.BMP', '172__M_Right_little_finger.BMP', '529__M_Right_middle_finger.BMP', '442__F_Right_little_finger.BMP', '523__F_Right_thumb_finger.BMP', '527__M_Right_middle_finger.BMP', '588__M_Left_ring_finger.BMP', '55__M_Right_middle_finger.BMP', '5__M_Right_middle_finger.BMP', '120__M_Right_ring_finger.BMP', '461__F_Right_index_finger.BMP', '217__M_Right_thumb_finger.BMP', '239__M_Right_little_finger.BMP', '558__M_Left_ring_finger.BMP', '562__F_Left_ring_finger.BMP', '573__F_Left_ring_finger.BMP', '565__M_Left_middle_finger.BMP', '492__F_Right_little_finger.BMP', '134__M_Right_index_finger.BMP', '551__F_Left_index_finger.BMP', '454__M_Right_middle_finger.BMP', '426__M_Left_index_finger.BMP', '155__M_Right_ring_finger.BMP', '70__M_Right_ring_finger.BMP', '83__M_Right_index_finger.BMP', '84__M_Left_thumb_finger.BMP', '18__M_Right_little_finger.BMP', '500__M_Left_middle_finger.BMP', '391__M_Left_index_finger.BMP', '562__F_Right_middle_finger.BMP', '317__M_Left_middle_finger.BMP', '389__F_Right_little_finger.BMP', '411__M_Left_index_finger.BMP', '389__F_Left_middle_finger.BMP', '448__M_Right_index_finger.BMP', '438__M_Left_ring_finger.BMP', '365__M_Left_index_finger.BMP', '266__M_Right_thumb_finger.BMP', '248__M_Right_thumb_finger.BMP', '452__F_Left_little_finger.BMP', '312__M_Left_little_finger.BMP', '396__M_Left_middle_finger.BMP', '17__M_Right_ring_finger.BMP', '582__M_Left_ring_finger.BMP', '481__F_Left_index_finger.BMP', '431__M_Left_thumb_finger.BMP', '570__M_Right_little_finger.BMP', '466__F_Left_ring_finger.BMP', '590__M_Right_index_finger.BMP', '447__M_Left_thumb_finger.BMP', '238__M_Left_thumb_finger.BMP', '268__M_Left_index_finger.BMP', '430__F_Left_middle_finger.BMP', '213__M_Right_thumb_finger.BMP', '492__F_Left_index_finger.BMP', '562__F_Right_little_finger.BMP', '77__M_Left_little_finger.BMP', '368__M_Left_ring_finger.BMP', '462__M_Left_index_finger.BMP', '358__M_Left_thumb_finger.BMP', '130__F_Right_thumb_finger.BMP', '581__F_Left_thumb_finger.BMP', '331__M_Right_thumb_finger.BMP', '98__M_Right_index_finger.BMP', '10__M_Left_index_finger.BMP', '486__M_Left_little_finger.BMP', '520__M_Right_thumb_finger.BMP', '248__M_Right_index_finger.BMP', '133__M_Left_thumb_finger.BMP', '542__M_Left_ring_finger.BMP', '371__M_Left_ring_finger.BMP', '414__M_Left_middle_finger.BMP', '402__M_Left_ring_finger.BMP', '295__M_Right_ring_finger.BMP', '121__F_Right_index_finger.BMP', '27__M_Right_little_finger.BMP', '274__M_Left_ring_finger.BMP', '255__M_Right_middle_finger.BMP', '111__M_Left_little_finger.BMP', '376__F_Right_little_finger.BMP', '532__M_Left_thumb_finger.BMP', '129__M_Left_thumb_finger.BMP', '523__F_Left_index_finger.BMP', '76__F_Right_thumb_finger.BMP', '440__M_Left_thumb_finger.BMP', '123__M_Left_ring_finger.BMP', '554__M_Left_thumb_finger.BMP', '578__M_Right_middle_finger.BMP', '138__M_Left_ring_finger.BMP', '99__M_Left_little_finger.BMP', '552__M_Left_middle_finger.BMP', '346__M_Left_index_finger.BMP', '118__F_Right_ring_finger.BMP', '314__M_Left_index_finger.BMP', '435__F_Left_index_finger.BMP', '132__M_Left_index_finger.BMP', '29__F_Left_ring_finger.BMP', '9__M_Right_ring_finger.BMP', '220__F_Right_little_finger.BMP', '7__M_Left_middle_finger.BMP', '464__M_Right_little_finger.BMP', '29__F_Left_thumb_finger.BMP', '145__M_Right_thumb_finger.BMP', '142__F_Right_middle_finger.BMP', '282__M_Left_index_finger.BMP', '509__M_Right_thumb_finger.BMP', '161__F_Right_ring_finger.BMP', '39__M_Right_ring_finger.BMP', '140__F_Right_middle_finger.BMP', '438__M_Right_middle_finger.BMP', '28__M_Left_index_finger.BMP', '589__M_Right_thumb_finger.BMP', '592__M_Right_thumb_finger.BMP', '597__M_Left_ring_finger.BMP', '384__F_Left_index_finger.BMP', '71__M_Left_little_finger.BMP', '547__M_Right_middle_finger.BMP', '197__M_Right_thumb_finger.BMP', '600__M_Right_little_finger.BMP', '391__M_Right_index_finger.BMP', '265__M_Right_thumb_finger.BMP', '227__M_Right_middle_finger.BMP', '587__M_Left_ring_finger.BMP', '277__M_Left_index_finger.BMP', '368__M_Right_ring_finger.BMP', '376__F_Left_middle_finger.BMP', '300__F_Left_index_finger.BMP', '592__M_Right_middle_finger.BMP', '441__M_Left_thumb_finger.BMP', '10__M_Right_index_finger.BMP', '260__M_Right_thumb_finger.BMP', '366__M_Right_index_finger.BMP', '42__F_Right_little_finger.BMP', '178__M_Right_middle_finger.BMP', '500__M_Right_little_finger.BMP', '109__F_Left_index_finger.BMP', '481__F_Right_middle_finger.BMP', '251__M_Right_index_finger.BMP', '430__F_Left_little_finger.BMP', '309__M_Left_middle_finger.BMP', '434__M_Right_little_finger.BMP', '564__M_Left_middle_finger.BMP', '232__M_Right_index_finger.BMP', '69__M_Right_index_finger.BMP', '433__M_Left_ring_finger.BMP', '387__F_Right_index_finger.BMP', '537__M_Left_thumb_finger.BMP', '251__M_Left_middle_finger.BMP', '342__M_Left_middle_finger.BMP', '456__M_Left_ring_finger.BMP', '140__F_Left_thumb_finger.BMP', '125__M_Right_little_finger.BMP', '149__F_Left_index_finger.BMP', '102__M_Right_thumb_finger.BMP', '197__M_Right_index_finger.BMP', '299__M_Left_middle_finger.BMP', '108__M_Left_thumb_finger.BMP', '119__F_Right_little_finger.BMP', '270__M_Left_ring_finger.BMP', '202__M_Right_little_finger.BMP', '264__M_Right_middle_finger.BMP', '90__M_Right_little_finger.BMP', '343__M_Right_ring_finger.BMP', '388__F_Right_middle_finger.BMP', '410__M_Right_middle_finger.BMP', '234__M_Left_little_finger.BMP', '238__M_Right_little_finger.BMP', '399__M_Left_ring_finger.BMP', '360__M_Right_little_finger.BMP', '462__M_Left_little_finger.BMP', '30__F_Right_thumb_finger.BMP', '39__M_Right_thumb_finger.BMP', '482__M_Right_middle_finger.BMP', '165__M_Right_index_finger.BMP', '583__M_Right_thumb_finger.BMP', '390__F_Left_little_finger.BMP', '91__F_Left_little_finger.BMP', '455__M_Left_index_finger.BMP', '307__M_Right_middle_finger.BMP', '518__M_Right_middle_finger.BMP', '333__M_Right_ring_finger.BMP', '295__M_Right_thumb_finger.BMP', '437__M_Right_little_finger.BMP', '507__M_Left_thumb_finger.BMP', '94__M_Left_index_finger.BMP', '524__M_Left_little_finger.BMP', '75__F_Left_ring_finger.BMP', '263__F_Right_middle_finger.BMP', '556__F_Right_thumb_finger.BMP', '296__M_Left_ring_finger.BMP', '195__M_Left_little_finger.BMP', '563__M_Left_thumb_finger.BMP', '490__M_Left_middle_finger.BMP', '6__M_Right_middle_finger.BMP', '9__M_Right_middle_finger.BMP', '105__M_Left_little_finger.BMP', '42__F_Left_little_finger.BMP', '559__M_Right_index_finger.BMP', '420__M_Right_thumb_finger.BMP', '268__M_Left_thumb_finger.BMP', '263__F_Left_little_finger.BMP', '264__M_Right_ring_finger.BMP', '471__M_Right_ring_finger.BMP', '122__M_Right_middle_finger.BMP', '297__M_Right_ring_finger.BMP', '60__M_Right_ring_finger.BMP', '586__M_Right_thumb_finger.BMP', '92__F_Right_index_finger.BMP', '555__M_Right_index_finger.BMP', '248__M_Right_ring_finger.BMP', '9__M_Left_middle_finger.BMP', '335__M_Right_index_finger.BMP', '296__M_Right_middle_finger.BMP', '158__M_Right_ring_finger.BMP', '513__M_Right_ring_finger.BMP', '70__M_Left_little_finger.BMP', '483__M_Right_ring_finger.BMP', '170__M_Right_ring_finger.BMP', '481__F_Left_ring_finger.BMP', '94__M_Left_thumb_finger.BMP', '129__M_Left_little_finger.BMP', '525__M_Right_thumb_finger.BMP', '251__M_Right_ring_finger.BMP', '135__F_Left_middle_finger.BMP', '416__M_Right_thumb_finger.BMP', '573__F_Left_middle_finger.BMP', '160__M_Right_thumb_finger.BMP', '477__M_Right_middle_finger.BMP', '381__M_Left_thumb_finger.BMP', '276__M_Left_little_finger.BMP', '418__F_Left_middle_finger.BMP', '408__M_Left_little_finger.BMP', '215__M_Left_ring_finger.BMP', '241__M_Left_thumb_finger.BMP', '246__M_Left_index_finger.BMP', '215__M_Left_middle_finger.BMP', '291__M_Left_ring_finger.BMP', '68__M_Right_thumb_finger.BMP', '1__M_Left_middle_finger.BMP', '135__F_Left_thumb_finger.BMP', '575__M_Left_little_finger.BMP', '188__M_Left_thumb_finger.BMP', '316__M_Left_ring_finger.BMP', '105__M_Right_little_finger.BMP', '563__M_Left_middle_finger.BMP', '34__M_Right_middle_finger.BMP', '395__M_Left_little_finger.BMP', '446__M_Left_ring_finger.BMP', '175__M_Right_middle_finger.BMP', '429__M_Right_middle_finger.BMP', '157__M_Right_little_finger.BMP', '584__M_Left_index_finger.BMP', '565__M_Right_little_finger.BMP', '267__M_Left_little_finger.BMP', '476__M_Right_ring_finger.BMP', '69__M_Left_little_finger.BMP', '584__M_Right_index_finger.BMP', '488__M_Right_thumb_finger.BMP', '139__M_Left_thumb_finger.BMP', '194__M_Left_ring_finger.BMP', '463__F_Right_index_finger.BMP', '285__M_Right_little_finger.BMP', '229__M_Left_little_finger.BMP', '289__F_Left_ring_finger.BMP', '184__M_Right_ring_finger.BMP', '335__M_Left_thumb_finger.BMP', '48__F_Right_middle_finger.BMP', '298__M_Left_middle_finger.BMP', '10__M_Left_thumb_finger.BMP', '433__M_Right_little_finger.BMP', '395__M_Left_thumb_finger.BMP', '88__F_Left_ring_finger.BMP', '528__F_Right_index_finger.BMP', '380__M_Left_ring_finger.BMP', '72__M_Right_middle_finger.BMP', '339__M_Right_thumb_finger.BMP', '388__F_Right_little_finger.BMP', '373__M_Left_index_finger.BMP', '162__M_Left_index_finger.BMP', '296__M_Right_index_finger.BMP', '100__M_Left_index_finger.BMP', '593__M_Right_ring_finger.BMP', '68__M_Right_little_finger.BMP', '330__M_Right_ring_finger.BMP', '9__M_Right_index_finger.BMP', '210__M_Right_thumb_finger.BMP', '74__F_Left_middle_finger.BMP', '318__F_Right_thumb_finger.BMP', '207__M_Right_middle_finger.BMP', '223__M_Right_thumb_finger.BMP', '266__M_Right_middle_finger.BMP', '488__M_Left_middle_finger.BMP', '371__M_Right_little_finger.BMP', '517__M_Right_middle_finger.BMP', '355__M_Left_index_finger.BMP', '464__M_Right_thumb_finger.BMP', '595__M_Left_index_finger.BMP', '259__M_Left_thumb_finger.BMP', '127__F_Left_thumb_finger.BMP', '111__M_Left_ring_finger.BMP', '484__M_Left_index_finger.BMP', '248__M_Right_little_finger.BMP', '124__M_Left_ring_finger.BMP', '443__M_Right_middle_finger.BMP', '169__F_Right_middle_finger.BMP', '166__M_Left_little_finger.BMP', '544__M_Left_thumb_finger.BMP', '263__F_Right_index_finger.BMP', '401__M_Right_little_finger.BMP', '29__F_Left_middle_finger.BMP', '154__F_Left_ring_finger.BMP', '161__F_Right_middle_finger.BMP', '352__M_Right_middle_finger.BMP', '335__M_Left_middle_finger.BMP', '234__M_Right_little_finger.BMP', '219__M_Left_ring_finger.BMP', '482__M_Right_little_finger.BMP', '190__M_Left_middle_finger.BMP', '406__M_Right_middle_finger.BMP', '25__F_Left_ring_finger.BMP', '392__M_Left_little_finger.BMP', '284__M_Left_index_finger.BMP', '574__F_Right_little_finger.BMP', '208__M_Right_little_finger.BMP', '374__M_Right_little_finger.BMP', '11__M_Left_ring_finger.BMP', '469__M_Left_ring_finger.BMP', '37__M_Left_ring_finger.BMP', '487__M_Right_index_finger.BMP', '493__M_Left_thumb_finger.BMP', '117__F_Right_middle_finger.BMP', '196__M_Left_index_finger.BMP', '457__M_Left_little_finger.BMP', '131__M_Left_little_finger.BMP', '390__F_Right_middle_finger.BMP', '7__M_Right_ring_finger.BMP', '543__M_Right_thumb_finger.BMP', '233__M_Left_ring_finger.BMP', '41__M_Right_index_finger.BMP', '327__M_Left_ring_finger.BMP', '103__F_Left_middle_finger.BMP', '471__M_Left_middle_finger.BMP', '514__F_Right_middle_finger.BMP', '107__M_Left_thumb_finger.BMP', '583__M_Right_middle_finger.BMP', '455__M_Right_middle_finger.BMP', '45__M_Left_little_finger.BMP', '182__M_Right_little_finger.BMP', '343__M_Left_little_finger.BMP', '40__F_Right_index_finger.BMP', '85__M_Left_ring_finger.BMP', '200__M_Left_middle_finger.BMP', '249__M_Left_thumb_finger.BMP', '116__M_Left_thumb_finger.BMP', '174__F_Right_ring_finger.BMP', '223__M_Right_little_finger.BMP', '84__M_Right_little_finger.BMP', '304__M_Left_thumb_finger.BMP', '126__F_Right_little_finger.BMP', '80__M_Left_thumb_finger.BMP', '127__F_Right_index_finger.BMP', '85__M_Right_index_finger.BMP', '253__F_Left_index_finger.BMP', '291__M_Right_ring_finger.BMP', '96__M_Left_index_finger.BMP', '515__M_Left_index_finger.BMP', '429__M_Right_ring_finger.BMP', '557__M_Left_ring_finger.BMP', '318__F_Left_little_finger.BMP', '325__M_Left_little_finger.BMP', '332__M_Right_index_finger.BMP', '101__M_Left_index_finger.BMP', '581__F_Left_index_finger.BMP', '531__M_Left_index_finger.BMP', '72__M_Right_little_finger.BMP', '289__F_Left_index_finger.BMP', '25__F_Left_little_finger.BMP', '164__M_Right_thumb_finger.BMP', '295__M_Right_middle_finger.BMP', '115__F_Right_little_finger.BMP', '466__F_Right_thumb_finger.BMP', '586__M_Right_index_finger.BMP', '358__M_Left_little_finger.BMP', '16__M_Right_thumb_finger.BMP', '538__M_Left_middle_finger.BMP', '283__M_Right_index_finger.BMP', '45__M_Right_little_finger.BMP', '273__M_Left_middle_finger.BMP', '268__M_Left_middle_finger.BMP', '395__M_Right_thumb_finger.BMP', '53__M_Left_little_finger.BMP', '501__M_Left_middle_finger.BMP', '157__M_Left_middle_finger.BMP', '365__M_Right_ring_finger.BMP', '298__M_Right_little_finger.BMP', '163__M_Right_little_finger.BMP', '113__M_Right_ring_finger.BMP', '145__M_Left_middle_finger.BMP', '576__M_Left_thumb_finger.BMP', '186__M_Right_middle_finger.BMP', '559__M_Left_little_finger.BMP', '581__F_Right_ring_finger.BMP', '416__M_Right_middle_finger.BMP', '401__M_Right_index_finger.BMP', '170__M_Right_middle_finger.BMP', '94__M_Right_index_finger.BMP', '381__M_Left_middle_finger.BMP', '12__M_Left_middle_finger.BMP', '454__M_Right_thumb_finger.BMP', '331__M_Right_index_finger.BMP', '316__M_Right_index_finger.BMP', '515__M_Left_thumb_finger.BMP', '333__M_Left_middle_finger.BMP', '557__M_Right_little_finger.BMP', '304__M_Left_ring_finger.BMP', '250__F_Left_little_finger.BMP', '192__M_Right_little_finger.BMP', '216__M_Left_thumb_finger.BMP', '480__M_Right_middle_finger.BMP', '280__M_Right_thumb_finger.BMP', '364__M_Right_little_finger.BMP', '26__M_Left_little_finger.BMP', '160__M_Left_ring_finger.BMP', '108__M_Left_ring_finger.BMP', '123__M_Left_middle_finger.BMP', '396__M_Left_little_finger.BMP', '375__M_Right_ring_finger.BMP', '139__M_Right_little_finger.BMP', '30__F_Left_ring_finger.BMP', '327__M_Left_index_finger.BMP', '145__M_Left_ring_finger.BMP', '122__M_Right_thumb_finger.BMP', '598__M_Right_thumb_finger.BMP', '4__M_Right_little_finger.BMP', '423__M_Left_ring_finger.BMP', '132__M_Right_thumb_finger.BMP', '14__M_Right_middle_finger.BMP', '481__F_Right_ring_finger.BMP', '530__M_Left_ring_finger.BMP', '183__M_Left_index_finger.BMP', '574__F_Right_thumb_finger.BMP', '537__M_Left_middle_finger.BMP', '146__M_Right_ring_finger.BMP', '578__M_Right_thumb_finger.BMP', '362__M_Right_middle_finger.BMP', '407__M_Left_ring_finger.BMP', '420__M_Right_index_finger.BMP', '56__F_Right_index_finger.BMP', '275__F_Right_index_finger.BMP', '579__M_Left_thumb_finger.BMP', '341__M_Right_ring_finger.BMP', '512__M_Right_ring_finger.BMP', '92__F_Left_little_finger.BMP', '145__M_Right_index_finger.BMP', '77__M_Left_index_finger.BMP', '193__M_Left_ring_finger.BMP', '53__M_Right_thumb_finger.BMP', '272__M_Right_middle_finger.BMP', '267__M_Left_thumb_finger.BMP', '142__F_Left_ring_finger.BMP', '388__F_Left_little_finger.BMP', '525__M_Left_middle_finger.BMP', '419__F_Right_ring_finger.BMP', '15__F_Left_middle_finger.BMP', '508__F_Left_index_finger.BMP', '218__M_Right_thumb_finger.BMP', '303__F_Left_little_finger.BMP', '182__M_Right_ring_finger.BMP', '249__M_Right_ring_finger.BMP', '565__M_Right_ring_finger.BMP', '133__M_Left_index_finger.BMP', '191__F_Right_ring_finger.BMP', '516__M_Right_ring_finger.BMP', '194__M_Left_thumb_finger.BMP', '67__F_Right_index_finger.BMP', '575__M_Right_middle_finger.BMP', '18__M_Right_ring_finger.BMP', '539__F_Left_little_finger.BMP', '139__M_Right_middle_finger.BMP', '204__F_Right_index_finger.BMP', '436__M_Right_thumb_finger.BMP', '358__M_Right_middle_finger.BMP', '75__F_Right_thumb_finger.BMP', '3__M_Right_index_finger.BMP', '39__M_Left_index_finger.BMP', '400__M_Left_index_finger.BMP', '86__M_Right_ring_finger.BMP', '216__M_Right_middle_finger.BMP', '578__M_Left_thumb_finger.BMP', '284__M_Right_little_finger.BMP', '234__M_Right_middle_finger.BMP', '117__F_Left_index_finger.BMP', '152__M_Right_little_finger.BMP', '549__M_Left_middle_finger.BMP', '288__M_Left_little_finger.BMP', '297__M_Left_ring_finger.BMP', '344__M_Left_index_finger.BMP', '93__M_Right_middle_finger.BMP', '344__M_Right_little_finger.BMP', '22__M_Left_thumb_finger.BMP', '82__M_Left_ring_finger.BMP', '343__M_Right_index_finger.BMP', '501__M_Left_little_finger.BMP', '122__M_Left_middle_finger.BMP', '594__M_Left_index_finger.BMP', '306__M_Right_ring_finger.BMP', '355__M_Left_ring_finger.BMP', '319__M_Left_thumb_finger.BMP', '550__F_Left_little_finger.BMP', '501__M_Right_ring_finger.BMP', '204__F_Left_index_finger.BMP', '76__F_Left_little_finger.BMP', '436__M_Left_thumb_finger.BMP', '357__M_Right_little_finger.BMP', '126__F_Right_index_finger.BMP', '415__M_Left_ring_finger.BMP', '153__M_Right_middle_finger.BMP', '436__M_Right_middle_finger.BMP', '141__F_Right_little_finger.BMP', '253__F_Left_little_finger.BMP', '310__M_Right_index_finger.BMP', '547__M_Left_ring_finger.BMP', '337__F_Right_ring_finger.BMP', '402__M_Right_little_finger.BMP', '211__M_Left_middle_finger.BMP', '348__F_Right_little_finger.BMP', '341__M_Left_little_finger.BMP', '591__M_Right_index_finger.BMP', '315__F_Left_ring_finger.BMP', '371__M_Right_thumb_finger.BMP', '501__M_Right_index_finger.BMP', '146__M_Right_little_finger.BMP', '246__M_Left_thumb_finger.BMP', '528__F_Left_index_finger.BMP', '393__M_Left_index_finger.BMP', '417__M_Left_index_finger.BMP', '430__F_Right_thumb_finger.BMP', '354__M_Right_ring_finger.BMP', '532__M_Left_middle_finger.BMP', '326__M_Right_thumb_finger.BMP', '228__M_Right_little_finger.BMP', '154__F_Right_thumb_finger.BMP', '525__M_Right_middle_finger.BMP', '540__F_Left_middle_finger.BMP', '81__F_Right_thumb_finger.BMP', '283__M_Left_little_finger.BMP', '368__M_Left_little_finger.BMP', '8__M_Right_thumb_finger.BMP', '290__M_Left_index_finger.BMP', '217__M_Left_ring_finger.BMP', '302__M_Left_middle_finger.BMP', '549__M_Left_thumb_finger.BMP', '13__F_Left_ring_finger.BMP', '309__M_Left_index_finger.BMP', '79__M_Right_middle_finger.BMP', '352__M_Left_index_finger.BMP', '51__M_Right_ring_finger.BMP', '600__M_Right_thumb_finger.BMP', '211__M_Right_little_finger.BMP', '521__M_Left_index_finger.BMP', '589__M_Left_middle_finger.BMP', '439__M_Right_middle_finger.BMP', '18__M_Left_thumb_finger.BMP', '404__M_Left_thumb_finger.BMP', '66__F_Left_little_finger.BMP', '197__M_Left_index_finger.BMP', '4__M_Left_ring_finger.BMP', '541__M_Right_thumb_finger.BMP', '435__F_Right_index_finger.BMP', '592__M_Left_middle_finger.BMP', '233__M_Left_little_finger.BMP', '131__M_Left_thumb_finger.BMP', '164__M_Right_ring_finger.BMP', '41__M_Left_index_finger.BMP', '421__F_Left_middle_finger.BMP', '497__M_Right_little_finger.BMP', '37__M_Right_middle_finger.BMP', '322__M_Left_index_finger.BMP', '436__M_Left_index_finger.BMP', '479__F_Left_thumb_finger.BMP', '55__M_Right_thumb_finger.BMP', '402__M_Left_thumb_finger.BMP', '422__M_Right_thumb_finger.BMP', '323__M_Right_middle_finger.BMP', '55__M_Right_ring_finger.BMP', '567__M_Left_ring_finger.BMP', '301__F_Right_ring_finger.BMP', '454__M_Right_index_finger.BMP', '474__M_Left_ring_finger.BMP', '384__F_Right_middle_finger.BMP', '179__M_Right_middle_finger.BMP', '6__M_Right_ring_finger.BMP', '275__F_Right_little_finger.BMP', '478__M_Right_index_finger.BMP', '151__M_Right_thumb_finger.BMP', '97__M_Right_little_finger.BMP', '255__M_Left_middle_finger.BMP', '568__M_Right_middle_finger.BMP', '178__M_Right_little_finger.BMP', '433__M_Left_index_finger.BMP', '27__M_Left_middle_finger.BMP', '256__M_Right_thumb_finger.BMP', '437__M_Right_index_finger.BMP', '222__M_Left_index_finger.BMP', '464__M_Right_middle_finger.BMP', '393__M_Right_ring_finger.BMP', '513__M_Left_middle_finger.BMP', '111__M_Left_middle_finger.BMP', '198__M_Left_little_finger.BMP', '445__M_Right_middle_finger.BMP', '589__M_Left_ring_finger.BMP', '182__M_Right_thumb_finger.BMP', '3__M_Left_index_finger.BMP', '148__M_Left_ring_finger.BMP', '112__M_Right_ring_finger.BMP', '31__F_Left_index_finger.BMP', '417__M_Right_thumb_finger.BMP', '266__M_Left_thumb_finger.BMP', '306__M_Left_ring_finger.BMP', '517__M_Left_little_finger.BMP', '185__M_Right_thumb_finger.BMP', '278__M_Left_thumb_finger.BMP', '175__M_Left_middle_finger.BMP', '508__F_Right_thumb_finger.BMP', '185__M_Left_little_finger.BMP', '41__M_Left_ring_finger.BMP', '560__F_Right_thumb_finger.BMP', '74__F_Right_ring_finger.BMP', '71__M_Left_index_finger.BMP', '444__M_Left_index_finger.BMP', '152__M_Right_middle_finger.BMP', '592__M_Left_little_finger.BMP', '293__F_Right_little_finger.BMP', '58__M_Left_middle_finger.BMP', '365__M_Right_thumb_finger.BMP', '466__F_Left_middle_finger.BMP', '179__M_Left_thumb_finger.BMP', '414__M_Left_index_finger.BMP', '177__F_Left_little_finger.BMP', '526__F_Left_middle_finger.BMP', '221__M_Right_index_finger.BMP', '149__F_Left_ring_finger.BMP', '108__M_Right_little_finger.BMP', '99__M_Right_thumb_finger.BMP', '135__F_Right_little_finger.BMP', '339__M_Right_middle_finger.BMP', '293__F_Left_middle_finger.BMP', '587__M_Right_middle_finger.BMP', '343__M_Left_middle_finger.BMP', '357__M_Right_ring_finger.BMP', '279__M_Left_little_finger.BMP', '464__M_Left_ring_finger.BMP', '281__M_Left_little_finger.BMP', '214__M_Right_thumb_finger.BMP', '278__M_Right_middle_finger.BMP', '381__M_Left_ring_finger.BMP', '86__M_Left_middle_finger.BMP', '585__M_Right_index_finger.BMP', '490__M_Right_thumb_finger.BMP', '243__M_Right_ring_finger.BMP', '400__M_Right_thumb_finger.BMP', '194__M_Right_thumb_finger.BMP', '340__M_Right_index_finger.BMP', '190__M_Right_little_finger.BMP', '6__M_Left_middle_finger.BMP', '475__M_Left_little_finger.BMP', '307__M_Left_middle_finger.BMP', '24__F_Left_ring_finger.BMP', '272__M_Left_ring_finger.BMP', '506__M_Left_thumb_finger.BMP', '240__F_Left_middle_finger.BMP', '37__M_Left_little_finger.BMP', '162__M_Right_middle_finger.BMP', '164__M_Left_thumb_finger.BMP', '155__M_Left_little_finger.BMP', '583__M_Left_thumb_finger.BMP', '445__M_Right_little_finger.BMP', '301__F_Left_little_finger.BMP', '10__M_Right_thumb_finger.BMP', '301__F_Left_ring_finger.BMP', '139__M_Right_ring_finger.BMP', '187__M_Left_little_finger.BMP', '252__F_Right_middle_finger.BMP', '474__M_Left_middle_finger.BMP', '210__M_Left_ring_finger.BMP', '312__M_Right_ring_finger.BMP', '37__M_Right_little_finger.BMP', '40__F_Left_ring_finger.BMP', '499__M_Right_little_finger.BMP', '562__F_Left_thumb_finger.BMP', '416__M_Left_thumb_finger.BMP', '526__F_Right_thumb_finger.BMP', '364__M_Right_index_finger.BMP', '541__M_Right_ring_finger.BMP', '278__M_Right_ring_finger.BMP', '300__F_Left_thumb_finger.BMP', '383__M_Right_index_finger.BMP', '424__M_Right_index_finger.BMP', '416__M_Right_ring_finger.BMP', '451__M_Left_little_finger.BMP', '336__M_Left_middle_finger.BMP', '434__M_Right_index_finger.BMP', '14__M_Right_little_finger.BMP', '138__M_Right_thumb_finger.BMP', '191__F_Right_middle_finger.BMP', '224__M_Right_little_finger.BMP', '73__M_Left_middle_finger.BMP', '459__M_Right_middle_finger.BMP', '319__M_Right_thumb_finger.BMP', '117__F_Left_ring_finger.BMP', '459__M_Right_index_finger.BMP', '586__M_Right_middle_finger.BMP', '285__M_Right_thumb_finger.BMP', '59__F_Left_little_finger.BMP', '440__M_Right_ring_finger.BMP', '541__M_Left_thumb_finger.BMP', '41__M_Right_ring_finger.BMP', '252__F_Left_index_finger.BMP', '588__M_Left_middle_finger.BMP', '11__M_Left_little_finger.BMP', '304__M_Left_index_finger.BMP', '110__F_Right_thumb_finger.BMP', '35__M_Left_little_finger.BMP', '70__M_Left_middle_finger.BMP', '487__M_Right_ring_finger.BMP', '6__M_Left_ring_finger.BMP', '538__M_Right_little_finger.BMP', '153__M_Left_index_finger.BMP', '568__M_Left_thumb_finger.BMP', '213__M_Right_middle_finger.BMP', '259__M_Right_index_finger.BMP', '503__M_Left_index_finger.BMP', '501__M_Left_thumb_finger.BMP', '394__M_Right_little_finger.BMP', '370__M_Left_thumb_finger.BMP', '141__F_Left_middle_finger.BMP', '139__M_Left_middle_finger.BMP', '114__F_Right_little_finger.BMP', '468__F_Left_index_finger.BMP', '233__M_Right_index_finger.BMP', '270__M_Right_little_finger.BMP', '430__F_Right_middle_finger.BMP', '561__M_Left_index_finger.BMP', '265__M_Right_middle_finger.BMP', '106__M_Left_middle_finger.BMP', '389__F_Right_index_finger.BMP', '38__M_Right_little_finger.BMP', '114__F_Right_middle_finger.BMP', '596__M_Right_thumb_finger.BMP', '575__M_Left_middle_finger.BMP', '218__M_Right_index_finger.BMP', '509__M_Left_ring_finger.BMP', '541__M_Right_middle_finger.BMP', '411__M_Left_little_finger.BMP', '449__F_Right_little_finger.BMP', '234__M_Right_index_finger.BMP', '15__F_Left_index_finger.BMP', '542__M_Left_index_finger.BMP', '372__M_Left_little_finger.BMP', '242__M_Right_little_finger.BMP', '373__M_Right_thumb_finger.BMP', '359__M_Left_thumb_finger.BMP', '513__M_Left_index_finger.BMP', '168__M_Left_ring_finger.BMP', '337__F_Right_index_finger.BMP', '170__M_Right_little_finger.BMP', '28__M_Left_middle_finger.BMP', '297__M_Left_thumb_finger.BMP', '432__M_Left_ring_finger.BMP', '38__M_Right_thumb_finger.BMP', '428__M_Right_thumb_finger.BMP', '460__M_Left_ring_finger.BMP', '16__M_Left_index_finger.BMP', '308__M_Right_ring_finger.BMP', '266__M_Left_ring_finger.BMP', '347__M_Left_little_finger.BMP', '468__F_Left_little_finger.BMP', '424__M_Left_index_finger.BMP', '177__F_Left_middle_finger.BMP', '590__M_Left_little_finger.BMP', '467__M_Right_middle_finger.BMP', '97__M_Left_thumb_finger.BMP', '331__M_Left_index_finger.BMP', '243__M_Right_thumb_finger.BMP', '435__F_Left_little_finger.BMP', '91__F_Left_thumb_finger.BMP', '296__M_Right_thumb_finger.BMP', '114__F_Left_thumb_finger.BMP', '93__M_Left_ring_finger.BMP', '62__M_Right_little_finger.BMP', '560__F_Right_middle_finger.BMP', '392__M_Left_thumb_finger.BMP', '183__M_Left_little_finger.BMP', '540__F_Right_index_finger.BMP', '542__M_Right_thumb_finger.BMP', '488__M_Left_thumb_finger.BMP', '460__M_Left_middle_finger.BMP', '95__M_Right_thumb_finger.BMP', '62__M_Left_thumb_finger.BMP', '149__F_Right_index_finger.BMP', '81__F_Left_thumb_finger.BMP', '219__M_Right_index_finger.BMP', '15__F_Right_index_finger.BMP', '63__M_Right_ring_finger.BMP', '19__M_Left_little_finger.BMP', '270__M_Right_middle_finger.BMP', '549__M_Left_little_finger.BMP', '374__M_Right_ring_finger.BMP', '589__M_Right_little_finger.BMP', '115__F_Left_index_finger.BMP', '556__F_Left_thumb_finger.BMP', '6__M_Left_little_finger.BMP', '268__M_Right_little_finger.BMP', '363__M_Left_thumb_finger.BMP', '306__M_Left_index_finger.BMP', '157__M_Right_middle_finger.BMP', '94__M_Left_little_finger.BMP', '531__M_Left_thumb_finger.BMP', '36__M_Right_ring_finger.BMP', '340__M_Left_little_finger.BMP', '521__M_Right_ring_finger.BMP', '298__M_Right_middle_finger.BMP', '344__M_Right_index_finger.BMP', '507__M_Right_index_finger.BMP', '550__F_Left_thumb_finger.BMP', '499__M_Left_little_finger.BMP', '475__M_Right_ring_finger.BMP', '148__M_Left_thumb_finger.BMP', '165__M_Left_ring_finger.BMP', '459__M_Right_little_finger.BMP', '322__M_Right_index_finger.BMP', '40__F_Right_little_finger.BMP', '274__M_Left_index_finger.BMP', '322__M_Right_little_finger.BMP', '153__M_Left_ring_finger.BMP', '513__M_Right_index_finger.BMP', '303__F_Right_thumb_finger.BMP', '377__M_Left_little_finger.BMP', '544__M_Right_index_finger.BMP', '398__M_Right_index_finger.BMP', '582__M_Right_ring_finger.BMP', '251__M_Right_middle_finger.BMP', '446__M_Left_index_finger.BMP', '293__F_Left_index_finger.BMP', '88__F_Right_ring_finger.BMP', '365__M_Right_middle_finger.BMP', '49__M_Left_ring_finger.BMP', '449__F_Right_index_finger.BMP', '364__M_Left_little_finger.BMP', '1__M_Left_thumb_finger.BMP', '96__M_Right_index_finger.BMP', '485__M_Right_index_finger.BMP', '357__M_Left_middle_finger.BMP', '52__M_Left_thumb_finger.BMP', '141__F_Right_ring_finger.BMP', '528__F_Left_ring_finger.BMP', '208__M_Left_ring_finger.BMP', '469__M_Right_ring_finger.BMP', '516__M_Right_thumb_finger.BMP', '395__M_Right_index_finger.BMP', '595__M_Right_middle_finger.BMP', '306__M_Right_index_finger.BMP', '499__M_Left_thumb_finger.BMP', '193__M_Left_little_finger.BMP', '451__M_Right_index_finger.BMP', '354__M_Left_ring_finger.BMP', '559__M_Right_middle_finger.BMP', '233__M_Right_thumb_finger.BMP', '598__M_Left_little_finger.BMP', '112__M_Right_index_finger.BMP', '469__M_Left_index_finger.BMP', '383__M_Right_ring_finger.BMP', '73__M_Right_little_finger.BMP', '243__M_Right_index_finger.BMP', '133__M_Left_middle_finger.BMP', '321__M_Right_little_finger.BMP', '340__M_Right_ring_finger.BMP', '287__M_Left_little_finger.BMP', '592__M_Left_thumb_finger.BMP', '500__M_Left_little_finger.BMP', '228__M_Right_thumb_finger.BMP', '421__F_Left_thumb_finger.BMP', '162__M_Left_little_finger.BMP', '420__M_Left_middle_finger.BMP', '13__F_Right_index_finger.BMP', '293__F_Left_little_finger.BMP', '359__M_Right_index_finger.BMP', '468__F_Right_index_finger.BMP', '332__M_Left_ring_finger.BMP', '224__M_Left_little_finger.BMP', '265__M_Left_index_finger.BMP', '27__M_Left_little_finger.BMP', '294__M_Left_thumb_finger.BMP', '39__M_Right_index_finger.BMP', '340__M_Right_middle_finger.BMP', '256__M_Left_little_finger.BMP', '4__M_Left_thumb_finger.BMP', '510__M_Right_index_finger.BMP', '493__M_Left_middle_finger.BMP', '502__F_Left_ring_finger.BMP', '305__M_Right_index_finger.BMP', '180__F_Right_little_finger.BMP', '285__M_Right_index_finger.BMP', '370__M_Left_little_finger.BMP', '42__F_Right_middle_finger.BMP', '323__M_Right_index_finger.BMP', '449__F_Right_ring_finger.BMP', '397__M_Left_ring_finger.BMP', '186__M_Right_little_finger.BMP', '305__M_Left_little_finger.BMP', '290__M_Left_ring_finger.BMP', '215__M_Right_index_finger.BMP', '581__F_Right_index_finger.BMP', '165__M_Right_ring_finger.BMP', '285__M_Right_middle_finger.BMP', '151__M_Left_middle_finger.BMP', '334__F_Left_index_finger.BMP', '6__M_Right_index_finger.BMP', '350__M_Left_thumb_finger.BMP', '591__M_Left_middle_finger.BMP', '231__M_Right_little_finger.BMP', '204__F_Right_ring_finger.BMP', '160__M_Left_thumb_finger.BMP', '418__F_Right_middle_finger.BMP', '545__M_Right_ring_finger.BMP', '591__M_Right_little_finger.BMP', '69__M_Left_index_finger.BMP', '369__F_Left_little_finger.BMP', '360__M_Right_middle_finger.BMP', '103__F_Left_index_finger.BMP', '462__M_Right_thumb_finger.BMP', '484__M_Right_middle_finger.BMP', '224__M_Right_ring_finger.BMP', '394__M_Left_middle_finger.BMP', '214__M_Left_index_finger.BMP', '20__M_Left_middle_finger.BMP', '567__M_Left_little_finger.BMP', '218__M_Left_middle_finger.BMP', '242__M_Left_thumb_finger.BMP', '183__M_Right_ring_finger.BMP', '411__M_Left_ring_finger.BMP', '209__F_Right_little_finger.BMP', '272__M_Left_little_finger.BMP', '209__F_Right_ring_finger.BMP', '179__M_Left_ring_finger.BMP', '277__M_Right_middle_finger.BMP', '68__M_Left_ring_finger.BMP', '590__M_Right_middle_finger.BMP', '212__M_Right_ring_finger.BMP', '254__M_Right_index_finger.BMP', '271__M_Right_index_finger.BMP', '291__M_Left_little_finger.BMP', '6__M_Left_thumb_finger.BMP', '55__M_Left_little_finger.BMP', '289__F_Right_thumb_finger.BMP', '567__M_Left_thumb_finger.BMP', '423__M_Right_middle_finger.BMP', '585__M_Left_little_finger.BMP', '536__F_Right_little_finger.BMP', '402__M_Left_middle_finger.BMP', '278__M_Left_index_finger.BMP', '357__M_Right_thumb_finger.BMP', '499__M_Right_index_finger.BMP', '51__M_Left_ring_finger.BMP', '60__M_Left_thumb_finger.BMP', '54__M_Right_thumb_finger.BMP', '175__M_Right_index_finger.BMP', '231__M_Right_index_finger.BMP', '200__M_Left_thumb_finger.BMP', '132__M_Left_thumb_finger.BMP', '88__F_Right_little_finger.BMP', '368__M_Left_index_finger.BMP', '262__M_Right_ring_finger.BMP', '410__M_Right_index_finger.BMP', '321__M_Right_ring_finger.BMP', '382__M_Right_index_finger.BMP', '46__M_Right_ring_finger.BMP', '388__F_Left_ring_finger.BMP', '92__F_Left_index_finger.BMP', '330__M_Right_middle_finger.BMP', '349__M_Right_index_finger.BMP', '252__F_Left_ring_finger.BMP', '363__M_Left_middle_finger.BMP', '326__M_Left_ring_finger.BMP', '340__M_Left_index_finger.BMP', '476__M_Right_little_finger.BMP', '473__M_Left_little_finger.BMP', '487__M_Right_middle_finger.BMP', '197__M_Left_little_finger.BMP', '366__M_Left_little_finger.BMP', '234__M_Left_index_finger.BMP', '365__M_Left_middle_finger.BMP', '515__M_Left_little_finger.BMP', '571__F_Left_ring_finger.BMP', '23__M_Left_middle_finger.BMP', '296__M_Left_middle_finger.BMP', '195__M_Left_thumb_finger.BMP', '52__M_Right_middle_finger.BMP', '124__M_Left_little_finger.BMP', '121__F_Right_little_finger.BMP', '476__M_Left_thumb_finger.BMP', '329__M_Right_thumb_finger.BMP', '546__M_Right_ring_finger.BMP', '529__M_Left_thumb_finger.BMP', '108__M_Right_middle_finger.BMP', '538__M_Right_middle_finger.BMP', '266__M_Left_little_finger.BMP', '479__F_Right_little_finger.BMP', '285__M_Left_middle_finger.BMP', '283__M_Right_little_finger.BMP', '504__M_Left_middle_finger.BMP', '319__M_Right_middle_finger.BMP', '406__M_Left_index_finger.BMP', '216__M_Right_thumb_finger.BMP', '500__M_Right_middle_finger.BMP', '303__F_Right_little_finger.BMP', '87__M_Left_middle_finger.BMP', '352__M_Left_middle_finger.BMP', '344__M_Right_middle_finger.BMP', '201__F_Right_little_finger.BMP', '360__M_Left_ring_finger.BMP', '36__M_Left_little_finger.BMP', '480__M_Left_ring_finger.BMP', '177__F_Right_thumb_finger.BMP', '280__M_Left_middle_finger.BMP', '158__M_Left_thumb_finger.BMP', '82__M_Left_index_finger.BMP', '36__M_Left_thumb_finger.BMP', '338__M_Left_middle_finger.BMP', '600__M_Left_ring_finger.BMP', '314__M_Right_thumb_finger.BMP', '149__F_Left_thumb_finger.BMP', '40__F_Right_thumb_finger.BMP', '98__M_Left_index_finger.BMP', '172__M_Left_ring_finger.BMP', '431__M_Right_thumb_finger.BMP', '132__M_Left_little_finger.BMP', '413__M_Left_thumb_finger.BMP', '326__M_Left_middle_finger.BMP', '394__M_Left_little_finger.BMP', '206__M_Left_thumb_finger.BMP', '210__M_Right_index_finger.BMP', '22__M_Right_little_finger.BMP', '391__M_Right_thumb_finger.BMP', '269__M_Left_little_finger.BMP', '270__M_Left_index_finger.BMP', '467__M_Right_little_finger.BMP', '517__M_Left_index_finger.BMP', '523__F_Left_middle_finger.BMP', '239__M_Left_index_finger.BMP', '390__F_Right_little_finger.BMP', '32__M_Right_ring_finger.BMP', '290__M_Right_thumb_finger.BMP', '104__M_Right_little_finger.BMP', '426__M_Right_thumb_finger.BMP', '95__M_Left_middle_finger.BMP', '99__M_Right_little_finger.BMP', '51__M_Right_middle_finger.BMP', '137__M_Left_ring_finger.BMP', '311__M_Left_middle_finger.BMP', '413__M_Right_index_finger.BMP', '473__M_Left_thumb_finger.BMP', '255__M_Left_thumb_finger.BMP', '439__M_Left_thumb_finger.BMP', '286__M_Left_middle_finger.BMP', '587__M_Left_little_finger.BMP', '408__M_Left_middle_finger.BMP', '118__F_Right_index_finger.BMP', '261__M_Left_index_finger.BMP', '119__F_Left_index_finger.BMP', '11__M_Right_thumb_finger.BMP', '21__M_Left_ring_finger.BMP', '272__M_Left_thumb_finger.BMP', '5__M_Left_middle_finger.BMP', '353__M_Right_ring_finger.BMP', '73__M_Right_index_finger.BMP', '458__M_Left_middle_finger.BMP', '456__M_Right_thumb_finger.BMP', '479__F_Right_middle_finger.BMP', '248__M_Left_little_finger.BMP', '95__M_Left_index_finger.BMP', '86__M_Left_index_finger.BMP', '376__F_Right_ring_finger.BMP', '594__M_Left_thumb_finger.BMP', '582__M_Right_middle_finger.BMP', '154__F_Right_index_finger.BMP', '447__M_Left_little_finger.BMP', '560__F_Right_index_finger.BMP', '247__M_Right_thumb_finger.BMP', '163__M_Left_index_finger.BMP', '532__M_Left_ring_finger.BMP', '193__M_Right_little_finger.BMP', '392__M_Left_ring_finger.BMP', '468__F_Left_ring_finger.BMP', '564__M_Right_little_finger.BMP', '83__M_Right_ring_finger.BMP', '240__F_Right_index_finger.BMP', '270__M_Right_index_finger.BMP', '115__F_Left_middle_finger.BMP', '442__F_Right_ring_finger.BMP', '533__M_Left_thumb_finger.BMP', '29__F_Right_ring_finger.BMP', '129__M_Right_index_finger.BMP', '156__F_Right_little_finger.BMP', '573__F_Left_thumb_finger.BMP', '428__M_Right_index_finger.BMP', '437__M_Left_little_finger.BMP', '402__M_Left_little_finger.BMP', '20__M_Left_ring_finger.BMP', '470__F_Left_little_finger.BMP', '75__F_Right_ring_finger.BMP', '551__F_Right_thumb_finger.BMP', '17__M_Left_little_finger.BMP', '411__M_Left_middle_finger.BMP', '297__M_Left_middle_finger.BMP', '443__M_Right_ring_finger.BMP', '78__F_Left_little_finger.BMP', '437__M_Right_middle_finger.BMP', '573__F_Left_index_finger.BMP', '324__M_Right_index_finger.BMP', '471__M_Right_little_finger.BMP', '60__M_Left_ring_finger.BMP', '272__M_Right_index_finger.BMP', '327__M_Right_middle_finger.BMP', '195__M_Right_middle_finger.BMP', '297__M_Right_little_finger.BMP', '121__F_Right_ring_finger.BMP', '169__F_Right_index_finger.BMP', '565__M_Right_index_finger.BMP', '124__M_Right_ring_finger.BMP', '297__M_Left_index_finger.BMP', '454__M_Left_thumb_finger.BMP', '32__M_Right_thumb_finger.BMP', '194__M_Left_middle_finger.BMP', '428__M_Right_little_finger.BMP', '86__M_Left_little_finger.BMP', '312__M_Right_index_finger.BMP', '102__M_Left_thumb_finger.BMP', '452__F_Right_middle_finger.BMP', '392__M_Right_ring_finger.BMP', '430__F_Left_ring_finger.BMP', '298__M_Right_thumb_finger.BMP', '535__M_Left_ring_finger.BMP', '44__M_Left_middle_finger.BMP', '12__M_Right_thumb_finger.BMP', '167__M_Right_thumb_finger.BMP', '597__M_Right_little_finger.BMP', '448__M_Right_middle_finger.BMP', '228__M_Right_middle_finger.BMP', '16__M_Right_middle_finger.BMP', '196__M_Left_middle_finger.BMP', '261__M_Left_middle_finger.BMP', '445__M_Left_little_finger.BMP', '153__M_Right_ring_finger.BMP', '93__M_Right_little_finger.BMP', '32__M_Left_middle_finger.BMP', '508__F_Left_middle_finger.BMP', '507__M_Left_middle_finger.BMP', '247__M_Left_thumb_finger.BMP', '291__M_Right_middle_finger.BMP', '371__M_Right_ring_finger.BMP', '494__F_Right_little_finger.BMP', '97__M_Right_index_finger.BMP', '174__F_Left_ring_finger.BMP', '330__M_Right_little_finger.BMP', '338__M_Right_little_finger.BMP', '406__M_Left_little_finger.BMP', '551__F_Right_index_finger.BMP', '457__M_Left_thumb_finger.BMP', '237__M_Right_middle_finger.BMP', '128__M_Right_ring_finger.BMP', '534__F_Left_little_finger.BMP', '141__F_Right_middle_finger.BMP', '491__M_Right_thumb_finger.BMP', '172__M_Right_index_finger.BMP', '309__M_Left_little_finger.BMP', '587__M_Right_little_finger.BMP', '365__M_Right_little_finger.BMP', '516__M_Right_index_finger.BMP', '432__M_Right_middle_finger.BMP', '559__M_Right_little_finger.BMP', '391__M_Left_thumb_finger.BMP', '557__M_Right_middle_finger.BMP', '527__M_Right_little_finger.BMP', '414__M_Left_little_finger.BMP', '571__F_Right_ring_finger.BMP', '143__M_Right_thumb_finger.BMP', '597__M_Right_index_finger.BMP', '218__M_Left_ring_finger.BMP', '231__M_Left_middle_finger.BMP', '468__F_Right_thumb_finger.BMP', '335__M_Left_little_finger.BMP', '282__M_Left_little_finger.BMP', '314__M_Left_ring_finger.BMP', '493__M_Left_index_finger.BMP', '9__M_Left_thumb_finger.BMP', '461__F_Right_middle_finger.BMP', '45__M_Right_thumb_finger.BMP', '242__M_Right_middle_finger.BMP', '580__M_Left_middle_finger.BMP', '328__M_Left_little_finger.BMP', '388__F_Right_ring_finger.BMP', '298__M_Left_little_finger.BMP', '52__M_Left_little_finger.BMP', '322__M_Left_little_finger.BMP', '362__M_Right_index_finger.BMP', '189__F_Right_middle_finger.BMP', '422__M_Left_index_finger.BMP', '582__M_Left_middle_finger.BMP', '572__F_Left_thumb_finger.BMP', '400__M_Left_middle_finger.BMP', '461__F_Left_index_finger.BMP', '151__M_Right_little_finger.BMP', '217__M_Left_index_finger.BMP', '3__M_Left_little_finger.BMP', '103__F_Right_ring_finger.BMP', '419__F_Right_thumb_finger.BMP', '329__M_Left_middle_finger.BMP', '378__F_Right_ring_finger.BMP', '49__M_Right_little_finger.BMP', '228__M_Left_ring_finger.BMP', '5__M_Right_ring_finger.BMP', '6__M_Left_index_finger.BMP', '483__M_Left_little_finger.BMP', '405__M_Left_thumb_finger.BMP', '350__M_Right_ring_finger.BMP', '336__M_Left_thumb_finger.BMP', '124__M_Right_index_finger.BMP', '571__F_Left_little_finger.BMP', '389__F_Right_thumb_finger.BMP', '567__M_Left_middle_finger.BMP', '524__M_Right_middle_finger.BMP', '46__M_Left_little_finger.BMP', '558__M_Right_index_finger.BMP', '316__M_Right_ring_finger.BMP', '509__M_Left_thumb_finger.BMP', '316__M_Left_little_finger.BMP', '513__M_Left_thumb_finger.BMP', '299__M_Right_ring_finger.BMP', '190__M_Left_ring_finger.BMP', '434__M_Left_little_finger.BMP', '18__M_Left_little_finger.BMP', '485__M_Left_thumb_finger.BMP', '482__M_Left_middle_finger.BMP', '257__M_Left_thumb_finger.BMP', '489__M_Right_ring_finger.BMP', '84__M_Left_little_finger.BMP', '317__M_Left_ring_finger.BMP', '396__M_Right_little_finger.BMP', '148__M_Right_index_finger.BMP', '260__M_Right_little_finger.BMP', '40__F_Left_index_finger.BMP', '529__M_Left_index_finger.BMP', '287__M_Left_ring_finger.BMP', '569__M_Left_thumb_finger.BMP', '153__M_Left_little_finger.BMP', '363__M_Left_index_finger.BMP', '294__M_Left_ring_finger.BMP', '416__M_Left_index_finger.BMP', '379__F_Right_little_finger.BMP', '139__M_Right_index_finger.BMP', '495__M_Right_ring_finger.BMP', '517__M_Left_middle_finger.BMP', '444__M_Right_ring_finger.BMP', '375__M_Left_ring_finger.BMP', '357__M_Right_index_finger.BMP', '322__M_Right_middle_finger.BMP', '82__M_Left_thumb_finger.BMP', '363__M_Right_index_finger.BMP', '409__M_Right_little_finger.BMP', '90__M_Right_index_finger.BMP', '486__M_Right_middle_finger.BMP', '546__M_Right_middle_finger.BMP', '587__M_Right_thumb_finger.BMP', '25__F_Left_thumb_finger.BMP', '399__M_Left_thumb_finger.BMP', '175__M_Left_index_finger.BMP', '368__M_Right_middle_finger.BMP', '506__M_Left_middle_finger.BMP', '492__F_Left_ring_finger.BMP', '101__M_Right_index_finger.BMP', '278__M_Right_index_finger.BMP', '459__M_Right_ring_finger.BMP', '587__M_Left_thumb_finger.BMP', '2__F_Right_thumb_finger.BMP', '208__M_Left_thumb_finger.BMP', '209__F_Right_index_finger.BMP', '386__M_Right_middle_finger.BMP', '341__M_Right_thumb_finger.BMP', '188__M_Right_little_finger.BMP', '468__F_Right_little_finger.BMP', '573__F_Right_thumb_finger.BMP', '452__F_Right_thumb_finger.BMP', '99__M_Left_index_finger.BMP', '164__M_Right_index_finger.BMP', '258__M_Right_ring_finger.BMP', '171__M_Right_ring_finger.BMP', '485__M_Right_middle_finger.BMP', '10__M_Right_ring_finger.BMP', '264__M_Left_little_finger.BMP', '442__F_Left_index_finger.BMP', '318__F_Right_ring_finger.BMP', '135__F_Right_ring_finger.BMP', '146__M_Left_thumb_finger.BMP', '306__M_Left_little_finger.BMP', '351__M_Left_index_finger.BMP', '151__M_Left_ring_finger.BMP', '2__F_Left_little_finger.BMP', '552__M_Right_little_finger.BMP', '594__M_Right_ring_finger.BMP', '321__M_Right_middle_finger.BMP', '560__F_Left_ring_finger.BMP', '356__M_Left_index_finger.BMP', '292__M_Right_middle_finger.BMP', '268__M_Right_thumb_finger.BMP', '146__M_Left_little_finger.BMP', '198__M_Left_index_finger.BMP', '147__M_Right_little_finger.BMP', '138__M_Left_thumb_finger.BMP', '147__M_Left_little_finger.BMP', '254__M_Right_middle_finger.BMP', '160__M_Right_ring_finger.BMP', '226__M_Left_thumb_finger.BMP', '300__F_Right_middle_finger.BMP', '423__M_Left_middle_finger.BMP', '127__F_Right_little_finger.BMP', '550__F_Left_middle_finger.BMP', '211__M_Right_index_finger.BMP', '24__F_Right_ring_finger.BMP', '137__M_Right_little_finger.BMP', '499__M_Right_middle_finger.BMP', '394__M_Right_middle_finger.BMP', '488__M_Left_little_finger.BMP', '443__M_Left_index_finger.BMP', '236__M_Right_ring_finger.BMP', '398__M_Right_ring_finger.BMP', '186__M_Left_middle_finger.BMP', '516__M_Left_index_finger.BMP', '461__F_Left_ring_finger.BMP', '468__F_Right_middle_finger.BMP', '63__M_Left_index_finger.BMP', '149__F_Left_middle_finger.BMP', '188__M_Left_little_finger.BMP', '64__M_Right_middle_finger.BMP', '335__M_Right_thumb_finger.BMP', '318__F_Right_middle_finger.BMP', '441__M_Left_middle_finger.BMP', '575__M_Left_thumb_finger.BMP', '354__M_Left_index_finger.BMP', '359__M_Left_ring_finger.BMP', '388__F_Left_middle_finger.BMP', '218__M_Left_thumb_finger.BMP', '595__M_Right_index_finger.BMP', '102__M_Right_index_finger.BMP', '419__F_Right_little_finger.BMP', '240__F_Right_middle_finger.BMP', '41__M_Right_middle_finger.BMP', '48__F_Right_thumb_finger.BMP', '85__M_Left_index_finger.BMP', '264__M_Left_middle_finger.BMP', '264__M_Right_index_finger.BMP', '219__M_Right_little_finger.BMP', '356__M_Left_little_finger.BMP', '565__M_Left_little_finger.BMP', '195__M_Left_index_finger.BMP', '51__M_Left_index_finger.BMP', '372__M_Right_ring_finger.BMP', '571__F_Left_thumb_finger.BMP', '415__M_Right_thumb_finger.BMP', '186__M_Right_thumb_finger.BMP', '33__M_Right_index_finger.BMP', '39__M_Right_middle_finger.BMP', '184__M_Left_little_finger.BMP', '461__F_Right_little_finger.BMP', '379__F_Right_middle_finger.BMP', '478__M_Left_middle_finger.BMP', '26__M_Right_ring_finger.BMP', '313__M_Right_ring_finger.BMP', '527__M_Left_thumb_finger.BMP', '582__M_Left_thumb_finger.BMP', '163__M_Right_index_finger.BMP', '183__M_Left_middle_finger.BMP', '359__M_Right_middle_finger.BMP', '319__M_Left_little_finger.BMP', '47__F_Right_little_finger.BMP', '338__M_Right_ring_finger.BMP', '157__M_Left_index_finger.BMP', '324__M_Left_middle_finger.BMP', '481__F_Left_little_finger.BMP', '529__M_Left_ring_finger.BMP', '599__M_Right_index_finger.BMP', '546__M_Left_ring_finger.BMP', '463__F_Left_thumb_finger.BMP', '252__F_Right_thumb_finger.BMP', '489__M_Left_ring_finger.BMP', '295__M_Right_index_finger.BMP', '357__M_Left_index_finger.BMP', '348__F_Right_index_finger.BMP', '59__F_Right_index_finger.BMP', '63__M_Right_thumb_finger.BMP', '539__F_Left_ring_finger.BMP', '359__M_Left_index_finger.BMP', '213__M_Left_thumb_finger.BMP', '462__M_Right_little_finger.BMP', '23__M_Right_middle_finger.BMP', '331__M_Right_ring_finger.BMP', '481__F_Left_thumb_finger.BMP', '110__F_Right_little_finger.BMP', '181__M_Left_index_finger.BMP', '539__F_Right_little_finger.BMP', '580__M_Right_ring_finger.BMP', '410__M_Right_ring_finger.BMP', '463__F_Right_middle_finger.BMP', '170__M_Left_little_finger.BMP', '502__F_Right_ring_finger.BMP', '286__M_Right_index_finger.BMP', '214__M_Right_ring_finger.BMP', '87__M_Right_little_finger.BMP', '405__M_Left_ring_finger.BMP', '112__M_Right_middle_finger.BMP', '334__F_Left_middle_finger.BMP', '479__F_Left_ring_finger.BMP', '112__M_Right_little_finger.BMP', '392__M_Right_middle_finger.BMP', '566__M_Right_thumb_finger.BMP', '356__M_Right_thumb_finger.BMP', '231__M_Right_ring_finger.BMP', '374__M_Right_thumb_finger.BMP', '84__M_Right_middle_finger.BMP', '487__M_Left_ring_finger.BMP', '305__M_Left_middle_finger.BMP', '273__M_Right_thumb_finger.BMP', '169__F_Left_ring_finger.BMP', '29__F_Right_middle_finger.BMP', '411__M_Right_middle_finger.BMP', '167__M_Left_ring_finger.BMP', '446__M_Left_thumb_finger.BMP', '226__M_Right_index_finger.BMP', '420__M_Left_thumb_finger.BMP', '33__M_Right_little_finger.BMP', '120__M_Left_middle_finger.BMP', '295__M_Left_ring_finger.BMP', '535__M_Right_ring_finger.BMP', '543__M_Right_little_finger.BMP', '445__M_Left_thumb_finger.BMP', '20__M_Left_index_finger.BMP', '385__M_Right_index_finger.BMP', '527__M_Right_index_finger.BMP', '70__M_Left_thumb_finger.BMP', '289__F_Left_little_finger.BMP', '447__M_Right_index_finger.BMP', '97__M_Right_thumb_finger.BMP', '358__M_Right_thumb_finger.BMP', '417__M_Right_little_finger.BMP', '446__M_Right_thumb_finger.BMP', '260__M_Left_little_finger.BMP', '126__F_Left_thumb_finger.BMP', '209__F_Right_thumb_finger.BMP', '320__M_Right_index_finger.BMP', '355__M_Right_ring_finger.BMP', '389__F_Left_index_finger.BMP', '593__M_Left_ring_finger.BMP', '560__F_Left_thumb_finger.BMP', '563__M_Right_thumb_finger.BMP', '591__M_Left_thumb_finger.BMP', '360__M_Left_middle_finger.BMP', '441__M_Right_ring_finger.BMP', '506__M_Left_index_finger.BMP', '90__M_Left_index_finger.BMP', '540__F_Right_ring_finger.BMP', '401__M_Right_thumb_finger.BMP', '37__M_Left_index_finger.BMP', '543__M_Left_middle_finger.BMP', '256__M_Right_little_finger.BMP', '376__F_Left_index_finger.BMP', '123__M_Right_ring_finger.BMP', '497__M_Right_thumb_finger.BMP', '276__M_Left_thumb_finger.BMP', '29__F_Right_index_finger.BMP', '232__M_Right_little_finger.BMP', '528__F_Right_middle_finger.BMP', '128__M_Left_index_finger.BMP', '544__M_Left_middle_finger.BMP', '597__M_Left_thumb_finger.BMP', '215__M_Right_middle_finger.BMP', '241__M_Right_little_finger.BMP', '176__M_Right_ring_finger.BMP', '246__M_Right_middle_finger.BMP', '238__M_Left_little_finger.BMP', '173__F_Right_little_finger.BMP', '357__M_Right_middle_finger.BMP', '191__F_Left_index_finger.BMP', '288__M_Left_thumb_finger.BMP', '381__M_Right_ring_finger.BMP', '315__F_Right_middle_finger.BMP', '499__M_Right_thumb_finger.BMP', '323__M_Left_ring_finger.BMP', '473__M_Left_middle_finger.BMP', '340__M_Left_middle_finger.BMP', '340__M_Left_thumb_finger.BMP', '570__M_Right_thumb_finger.BMP', '369__F_Left_ring_finger.BMP', '506__M_Right_little_finger.BMP', '103__F_Left_ring_finger.BMP', '18__M_Right_middle_finger.BMP', '417__M_Left_middle_finger.BMP', '184__M_Right_middle_finger.BMP', '29__F_Right_thumb_finger.BMP', '114__F_Right_index_finger.BMP', '225__M_Left_middle_finger.BMP', '419__F_Left_little_finger.BMP', '78__F_Right_middle_finger.BMP', '342__M_Left_index_finger.BMP', '393__M_Right_little_finger.BMP', '464__M_Left_middle_finger.BMP', '430__F_Right_ring_finger.BMP', '264__M_Left_ring_finger.BMP', '329__M_Right_little_finger.BMP', '264__M_Right_thumb_finger.BMP', '228__M_Left_middle_finger.BMP', '219__M_Left_middle_finger.BMP', '81__F_Right_middle_finger.BMP', '448__M_Left_index_finger.BMP', '579__M_Right_little_finger.BMP', '524__M_Left_index_finger.BMP', '121__F_Left_thumb_finger.BMP', '443__M_Left_thumb_finger.BMP', '514__F_Left_little_finger.BMP', '374__M_Left_middle_finger.BMP', '560__F_Left_little_finger.BMP', '130__F_Left_index_finger.BMP', '444__M_Right_index_finger.BMP', '500__M_Right_ring_finger.BMP', '453__F_Left_thumb_finger.BMP', '57__M_Left_middle_finger.BMP', '326__M_Left_index_finger.BMP', '475__M_Left_ring_finger.BMP', '62__M_Left_index_finger.BMP', '247__M_Left_ring_finger.BMP', '276__M_Right_middle_finger.BMP', '122__M_Right_index_finger.BMP', '199__M_Left_ring_finger.BMP', '370__M_Right_middle_finger.BMP', '427__M_Left_middle_finger.BMP', '313__M_Right_middle_finger.BMP', '572__F_Left_ring_finger.BMP', '474__M_Right_middle_finger.BMP', '191__F_Right_index_finger.BMP', '230__M_Left_ring_finger.BMP', '490__M_Right_middle_finger.BMP', '287__M_Left_middle_finger.BMP', '198__M_Left_middle_finger.BMP', '553__M_Right_thumb_finger.BMP', '531__M_Left_middle_finger.BMP', '488__M_Right_index_finger.BMP', '156__F_Left_little_finger.BMP', '79__M_Left_index_finger.BMP', '537__M_Left_little_finger.BMP', '185__M_Right_middle_finger.BMP', '314__M_Left_middle_finger.BMP', '306__M_Left_thumb_finger.BMP', '464__M_Right_ring_finger.BMP', '273__M_Left_ring_finger.BMP', '586__M_Right_ring_finger.BMP', '123__M_Left_index_finger.BMP', '313__M_Left_thumb_finger.BMP', '442__F_Right_middle_finger.BMP', '180__F_Right_middle_finger.BMP', '71__M_Right_ring_finger.BMP', '175__M_Right_little_finger.BMP', '83__M_Right_middle_finger.BMP', '152__M_Right_thumb_finger.BMP', '342__M_Left_thumb_finger.BMP', '106__M_Left_little_finger.BMP', '141__F_Right_thumb_finger.BMP', '422__M_Right_ring_finger.BMP', '276__M_Right_ring_finger.BMP', '527__M_Left_ring_finger.BMP', '99__M_Right_middle_finger.BMP', '232__M_Right_ring_finger.BMP', '36__M_Right_middle_finger.BMP', '199__M_Left_little_finger.BMP', '281__M_Right_thumb_finger.BMP', '93__M_Left_middle_finger.BMP', '326__M_Right_ring_finger.BMP', '597__M_Right_ring_finger.BMP', '472__M_Left_little_finger.BMP', '20__M_Right_middle_finger.BMP', '122__M_Left_index_finger.BMP', '495__M_Right_index_finger.BMP', '459__M_Left_little_finger.BMP', '379__F_Right_ring_finger.BMP', '97__M_Left_middle_finger.BMP', '553__M_Left_ring_finger.BMP', '215__M_Right_thumb_finger.BMP', '87__M_Left_index_finger.BMP', '234__M_Left_middle_finger.BMP', '437__M_Left_index_finger.BMP', '532__M_Left_little_finger.BMP', '351__M_Right_thumb_finger.BMP', '203__M_Right_thumb_finger.BMP', '382__M_Right_ring_finger.BMP', '149__F_Right_thumb_finger.BMP', '279__M_Left_index_finger.BMP', '2__F_Right_little_finger.BMP', '184__M_Right_thumb_finger.BMP', '422__M_Left_middle_finger.BMP', '31__F_Left_little_finger.BMP', '491__M_Right_index_finger.BMP', '461__F_Left_middle_finger.BMP', '584__M_Right_little_finger.BMP', '337__F_Left_ring_finger.BMP', '262__M_Left_thumb_finger.BMP', '521__M_Left_middle_finger.BMP', '46__M_Right_index_finger.BMP', '315__F_Left_index_finger.BMP', '32__M_Left_thumb_finger.BMP', '402__M_Left_index_finger.BMP', '292__M_Left_ring_finger.BMP', '43__F_Left_little_finger.BMP', '50__M_Right_ring_finger.BMP', '332__M_Left_middle_finger.BMP', '76__F_Left_middle_finger.BMP', '536__F_Right_ring_finger.BMP', '343__M_Left_index_finger.BMP', '417__M_Right_middle_finger.BMP', '378__F_Left_thumb_finger.BMP', '347__M_Left_index_finger.BMP', '360__M_Right_index_finger.BMP', '350__M_Right_thumb_finger.BMP', '470__F_Right_index_finger.BMP', '519__M_Right_middle_finger.BMP', '367__M_Right_thumb_finger.BMP', '176__M_Left_thumb_finger.BMP', '533__M_Right_thumb_finger.BMP', '218__M_Right_ring_finger.BMP', '245__M_Left_thumb_finger.BMP', '227__M_Right_index_finger.BMP', '37__M_Left_middle_finger.BMP', '457__M_Right_little_finger.BMP', '600__M_Right_index_finger.BMP', '182__M_Right_middle_finger.BMP', '180__F_Left_ring_finger.BMP', '483__M_Right_index_finger.BMP', '159__M_Left_ring_finger.BMP', '505__M_Right_ring_finger.BMP', '180__F_Right_index_finger.BMP', '125__M_Left_thumb_finger.BMP', '413__M_Right_ring_finger.BMP', '162__M_Right_little_finger.BMP', '161__F_Left_thumb_finger.BMP', '318__F_Left_index_finger.BMP', '472__M_Right_index_finger.BMP', '59__F_Left_middle_finger.BMP', '583__M_Right_index_finger.BMP', '157__M_Right_thumb_finger.BMP', '140__F_Right_thumb_finger.BMP', '325__M_Right_middle_finger.BMP', '557__M_Left_little_finger.BMP', '545__M_Left_ring_finger.BMP', '202__M_Left_index_finger.BMP', '378__F_Right_index_finger.BMP', '134__M_Left_ring_finger.BMP', '406__M_Right_ring_finger.BMP', '456__M_Left_little_finger.BMP', '396__M_Right_middle_finger.BMP', '350__M_Left_little_finger.BMP', '356__M_Right_middle_finger.BMP', '352__M_Left_ring_finger.BMP', '429__M_Left_middle_finger.BMP', '69__M_Right_little_finger.BMP', '464__M_Left_index_finger.BMP', '406__M_Left_middle_finger.BMP', '107__M_Right_thumb_finger.BMP', '72__M_Left_middle_finger.BMP', '435__F_Left_thumb_finger.BMP', '460__M_Right_ring_finger.BMP', '341__M_Right_index_finger.BMP', '64__M_Right_index_finger.BMP', '305__M_Right_thumb_finger.BMP', '385__M_Right_ring_finger.BMP', '535__M_Right_middle_finger.BMP', '120__M_Right_little_finger.BMP', '324__M_Left_little_finger.BMP', '282__M_Left_thumb_finger.BMP', '584__M_Right_ring_finger.BMP', '522__M_Left_middle_finger.BMP', '310__M_Left_ring_finger.BMP', '599__M_Right_thumb_finger.BMP', '532__M_Left_index_finger.BMP', '302__M_Left_ring_finger.BMP', '336__M_Right_little_finger.BMP', '28__M_Right_little_finger.BMP', '61__M_Left_little_finger.BMP', '476__M_Right_index_finger.BMP', '328__M_Left_middle_finger.BMP', '422__M_Right_little_finger.BMP', '292__M_Left_index_finger.BMP', '24__F_Right_little_finger.BMP', '521__M_Right_little_finger.BMP', '572__F_Left_little_finger.BMP', '42__F_Right_index_finger.BMP', '307__M_Right_index_finger.BMP', '277__M_Right_little_finger.BMP', '575__M_Right_index_finger.BMP', '557__M_Left_index_finger.BMP', '70__M_Left_index_finger.BMP', '80__M_Left_ring_finger.BMP', '401__M_Left_middle_finger.BMP', '472__M_Right_little_finger.BMP', '577__M_Left_index_finger.BMP', '439__M_Left_ring_finger.BMP', '558__M_Right_thumb_finger.BMP', '500__M_Left_ring_finger.BMP', '143__M_Left_little_finger.BMP', '155__M_Left_index_finger.BMP', '151__M_Left_little_finger.BMP', '112__M_Left_index_finger.BMP', '147__M_Left_middle_finger.BMP', '529__M_Right_little_finger.BMP', '465__F_Right_little_finger.BMP', '415__M_Right_ring_finger.BMP', '460__M_Right_index_finger.BMP', '336__M_Right_middle_finger.BMP', '494__F_Right_thumb_finger.BMP', '589__M_Right_middle_finger.BMP', '196__M_Right_thumb_finger.BMP', '87__M_Right_index_finger.BMP', '172__M_Right_thumb_finger.BMP', '466__F_Right_index_finger.BMP', '473__M_Right_ring_finger.BMP', '23__M_Left_ring_finger.BMP', '550__F_Right_middle_finger.BMP', '534__F_Right_little_finger.BMP', '554__M_Right_ring_finger.BMP', '20__M_Left_thumb_finger.BMP', '324__M_Right_thumb_finger.BMP', '521__M_Left_little_finger.BMP', '225__M_Left_index_finger.BMP', '362__M_Left_thumb_finger.BMP', '100__M_Left_ring_finger.BMP', '545__M_Right_thumb_finger.BMP', '496__M_Right_index_finger.BMP', '548__F_Right_index_finger.BMP', '5__M_Left_little_finger.BMP', '167__M_Right_index_finger.BMP', '290__M_Left_thumb_finger.BMP', '392__M_Right_little_finger.BMP', '25__F_Left_middle_finger.BMP', '511__M_Right_index_finger.BMP', '449__F_Left_thumb_finger.BMP', '61__M_Right_ring_finger.BMP', '598__M_Right_middle_finger.BMP', '422__M_Right_middle_finger.BMP', '533__M_Right_little_finger.BMP', '469__M_Left_thumb_finger.BMP', '592__M_Right_little_finger.BMP', '577__M_Left_ring_finger.BMP', '147__M_Left_index_finger.BMP', '209__F_Left_index_finger.BMP', '345__M_Right_middle_finger.BMP', '298__M_Right_ring_finger.BMP', '265__M_Right_little_finger.BMP', '15__F_Right_middle_finger.BMP', '222__M_Left_thumb_finger.BMP', '334__F_Right_index_finger.BMP', '493__M_Left_ring_finger.BMP', '533__M_Left_index_finger.BMP', '138__M_Right_middle_finger.BMP', '24__F_Left_thumb_finger.BMP', '502__F_Right_little_finger.BMP', '181__M_Right_index_finger.BMP', '68__M_Left_little_finger.BMP', '133__M_Left_little_finger.BMP', '368__M_Right_thumb_finger.BMP', '55__M_Left_middle_finger.BMP', '319__M_Right_index_finger.BMP', '269__M_Left_ring_finger.BMP', '299__M_Right_middle_finger.BMP', '347__M_Right_ring_finger.BMP', '50__M_Right_thumb_finger.BMP', '186__M_Right_index_finger.BMP', '347__M_Right_little_finger.BMP', '411__M_Right_index_finger.BMP', '311__M_Right_middle_finger.BMP', '349__M_Left_middle_finger.BMP', '230__M_Left_little_finger.BMP', '243__M_Left_index_finger.BMP', '218__M_Right_middle_finger.BMP', '422__M_Left_thumb_finger.BMP', '202__M_Right_middle_finger.BMP', '489__M_Left_little_finger.BMP', '269__M_Right_ring_finger.BMP', '491__M_Left_ring_finger.BMP', '515__M_Right_ring_finger.BMP', '493__M_Right_little_finger.BMP', '77__M_Left_thumb_finger.BMP', '596__M_Left_index_finger.BMP', '300__F_Left_ring_finger.BMP', '574__F_Left_middle_finger.BMP', '322__M_Right_ring_finger.BMP', '221__M_Left_middle_finger.BMP', '374__M_Right_index_finger.BMP', '363__M_Right_ring_finger.BMP', '315__F_Right_index_finger.BMP', '463__F_Left_index_finger.BMP', '142__F_Right_little_finger.BMP', '112__M_Left_thumb_finger.BMP', '397__M_Left_index_finger.BMP', '419__F_Right_middle_finger.BMP', '458__M_Left_index_finger.BMP', '444__M_Right_little_finger.BMP', '125__M_Left_ring_finger.BMP', '470__F_Left_ring_finger.BMP', '593__M_Right_thumb_finger.BMP', '100__M_Right_thumb_finger.BMP', '586__M_Left_thumb_finger.BMP', '57__M_Left_index_finger.BMP', '377__M_Right_index_finger.BMP', '63__M_Right_index_finger.BMP', '432__M_Left_middle_finger.BMP', '545__M_Left_middle_finger.BMP', '592__M_Left_index_finger.BMP', '25__F_Left_index_finger.BMP', '83__M_Right_thumb_finger.BMP', '591__M_Right_ring_finger.BMP', '303__F_Right_middle_finger.BMP', '20__M_Right_ring_finger.BMP', '386__M_Left_middle_finger.BMP', '311__M_Right_index_finger.BMP', '231__M_Right_thumb_finger.BMP', '149__F_Left_little_finger.BMP', '323__M_Left_middle_finger.BMP', '16__M_Right_index_finger.BMP', '477__M_Right_little_finger.BMP', '27__M_Left_thumb_finger.BMP', '461__F_Left_thumb_finger.BMP', '75__F_Left_middle_finger.BMP', '115__F_Left_ring_finger.BMP', '319__M_Right_ring_finger.BMP', '387__F_Right_middle_finger.BMP', '509__M_Left_little_finger.BMP', '240__F_Left_little_finger.BMP', '162__M_Left_middle_finger.BMP', '426__M_Right_index_finger.BMP', '109__F_Right_middle_finger.BMP', '237__M_Right_index_finger.BMP', '449__F_Right_middle_finger.BMP', '595__M_Left_ring_finger.BMP', '154__F_Left_little_finger.BMP', '94__M_Right_middle_finger.BMP', '580__M_Right_thumb_finger.BMP', '200__M_Left_ring_finger.BMP', '327__M_Right_thumb_finger.BMP', '354__M_Right_middle_finger.BMP', '294__M_Right_ring_finger.BMP', '568__M_Right_index_finger.BMP', '339__M_Right_ring_finger.BMP', '74__F_Right_little_finger.BMP', '448__M_Left_ring_finger.BMP', '373__M_Left_middle_finger.BMP', '554__M_Right_index_finger.BMP', '479__F_Right_thumb_finger.BMP', '173__F_Right_middle_finger.BMP', '577__M_Left_little_finger.BMP', '235__M_Left_little_finger.BMP', '209__F_Right_middle_finger.BMP', '354__M_Left_little_finger.BMP', '549__M_Left_index_finger.BMP', '532__M_Right_middle_finger.BMP', '80__M_Right_thumb_finger.BMP', '383__M_Left_middle_finger.BMP', '495__M_Left_ring_finger.BMP', '259__M_Left_middle_finger.BMP', '77__M_Right_thumb_finger.BMP', '201__F_Left_ring_finger.BMP', '546__M_Left_index_finger.BMP', '304__M_Left_middle_finger.BMP', '574__F_Left_thumb_finger.BMP', '569__M_Left_index_finger.BMP', '147__M_Right_thumb_finger.BMP', '227__M_Left_thumb_finger.BMP', '396__M_Right_ring_finger.BMP', '498__M_Right_index_finger.BMP', '56__F_Left_middle_finger.BMP', '425__M_Left_ring_finger.BMP', '420__M_Left_little_finger.BMP', '329__M_Left_index_finger.BMP', '403__M_Right_little_finger.BMP', '252__F_Left_thumb_finger.BMP', '324__M_Right_ring_finger.BMP', '115__F_Left_thumb_finger.BMP', '62__M_Left_little_finger.BMP', '375__M_Right_little_finger.BMP', '82__M_Right_ring_finger.BMP', '380__M_Right_thumb_finger.BMP', '275__F_Left_index_finger.BMP', '12__M_Left_ring_finger.BMP', '399__M_Right_ring_finger.BMP', '454__M_Left_middle_finger.BMP', '366__M_Left_middle_finger.BMP', '188__M_Left_ring_finger.BMP', '316__M_Left_middle_finger.BMP', '90__M_Left_little_finger.BMP', '46__M_Left_middle_finger.BMP', '278__M_Left_middle_finger.BMP', '353__M_Left_little_finger.BMP', '101__M_Right_middle_finger.BMP', '5__M_Left_ring_finger.BMP', '531__M_Right_thumb_finger.BMP', '117__F_Right_index_finger.BMP', '427__M_Left_index_finger.BMP', '191__F_Right_little_finger.BMP', '337__F_Left_middle_finger.BMP', '76__F_Right_little_finger.BMP', '493__M_Right_middle_finger.BMP', '288__M_Right_index_finger.BMP', '525__M_Left_index_finger.BMP', '460__M_Left_little_finger.BMP', '486__M_Right_thumb_finger.BMP', '241__M_Left_little_finger.BMP', '280__M_Left_ring_finger.BMP', '212__M_Left_ring_finger.BMP', '327__M_Left_middle_finger.BMP', '336__M_Right_index_finger.BMP', '65__M_Right_thumb_finger.BMP', '278__M_Left_little_finger.BMP', '441__M_Right_middle_finger.BMP', '88__F_Left_thumb_finger.BMP', '494__F_Right_ring_finger.BMP', '487__M_Left_thumb_finger.BMP', '22__M_Left_ring_finger.BMP', '154__F_Right_little_finger.BMP', '135__F_Left_index_finger.BMP', '178__M_Right_ring_finger.BMP', '600__M_Left_middle_finger.BMP', '173__F_Right_ring_finger.BMP', '88__F_Right_index_finger.BMP', '256__M_Right_ring_finger.BMP', '64__M_Left_index_finger.BMP', '460__M_Left_index_finger.BMP', '36__M_Right_little_finger.BMP', '389__F_Left_ring_finger.BMP', '160__M_Right_middle_finger.BMP', '177__F_Left_ring_finger.BMP', '451__M_Right_middle_finger.BMP', '282__M_Left_middle_finger.BMP', '281__M_Right_index_finger.BMP', '324__M_Left_index_finger.BMP', '555__M_Right_thumb_finger.BMP', '171__M_Left_thumb_finger.BMP', '118__F_Left_middle_finger.BMP', '355__M_Left_middle_finger.BMP', '496__M_Left_little_finger.BMP', '485__M_Left_ring_finger.BMP', '277__M_Left_ring_finger.BMP', '224__M_Left_thumb_finger.BMP', '97__M_Right_middle_finger.BMP', '303__F_Left_ring_finger.BMP', '561__M_Right_middle_finger.BMP', '30__F_Right_middle_finger.BMP', '105__M_Left_index_finger.BMP', '227__M_Right_ring_finger.BMP', '420__M_Right_middle_finger.BMP', '238__M_Right_middle_finger.BMP', '271__M_Right_ring_finger.BMP', '75__F_Right_middle_finger.BMP', '521__M_Right_thumb_finger.BMP', '240__F_Right_little_finger.BMP', '43__F_Right_index_finger.BMP', '165__M_Left_middle_finger.BMP', '442__F_Left_thumb_finger.BMP', '443__M_Right_little_finger.BMP', '369__F_Left_index_finger.BMP', '348__F_Left_thumb_finger.BMP', '137__M_Right_middle_finger.BMP', '65__M_Right_index_finger.BMP', '92__F_Right_little_finger.BMP', '24__F_Right_middle_finger.BMP', '341__M_Right_middle_finger.BMP', '286__M_Left_ring_finger.BMP', '59__F_Left_ring_finger.BMP', '25__F_Right_middle_finger.BMP', '378__F_Left_little_finger.BMP', '428__M_Left_thumb_finger.BMP', '528__F_Right_ring_finger.BMP', '137__M_Right_thumb_finger.BMP', '136__F_Right_little_finger.BMP', '64__M_Right_little_finger.BMP', '399__M_Left_middle_finger.BMP', '234__M_Left_thumb_finger.BMP', '281__M_Right_ring_finger.BMP', '540__F_Left_little_finger.BMP', '359__M_Right_little_finger.BMP', '426__M_Left_middle_finger.BMP', '420__M_Left_ring_finger.BMP', '305__M_Right_ring_finger.BMP', '510__M_Left_ring_finger.BMP', '354__M_Left_middle_finger.BMP', '374__M_Right_middle_finger.BMP', '56__F_Left_little_finger.BMP', '379__F_Left_little_finger.BMP', '106__M_Left_index_finger.BMP', '105__M_Left_thumb_finger.BMP', '36__M_Left_index_finger.BMP', '200__M_Right_thumb_finger.BMP', '221__M_Right_little_finger.BMP', '346__M_Right_little_finger.BMP', '576__M_Right_index_finger.BMP', '339__M_Left_middle_finger.BMP', '137__M_Right_index_finger.BMP', '567__M_Right_little_finger.BMP', '81__F_Left_index_finger.BMP', '394__M_Left_thumb_finger.BMP', '250__F_Right_index_finger.BMP', '294__M_Left_little_finger.BMP', '337__F_Right_thumb_finger.BMP', '486__M_Right_index_finger.BMP', '518__M_Right_ring_finger.BMP', '64__M_Right_thumb_finger.BMP', '497__M_Left_middle_finger.BMP', '137__M_Left_thumb_finger.BMP', '558__M_Right_middle_finger.BMP', '155__M_Left_thumb_finger.BMP', '361__M_Left_middle_finger.BMP', '31__F_Left_middle_finger.BMP', '142__F_Left_middle_finger.BMP', '214__M_Right_little_finger.BMP', '122__M_Left_ring_finger.BMP', '152__M_Right_index_finger.BMP', '280__M_Left_little_finger.BMP', '415__M_Left_index_finger.BMP', '540__F_Left_thumb_finger.BMP', '154__F_Left_thumb_finger.BMP', '19__M_Left_index_finger.BMP', '255__M_Left_ring_finger.BMP', '150__M_Left_little_finger.BMP', '579__M_Right_middle_finger.BMP', '472__M_Left_thumb_finger.BMP', '470__F_Left_index_finger.BMP', '465__F_Right_middle_finger.BMP', '173__F_Right_index_finger.BMP', '523__F_Left_thumb_finger.BMP', '106__M_Left_thumb_finger.BMP', '25__F_Right_ring_finger.BMP', '315__F_Right_ring_finger.BMP', '37__M_Left_thumb_finger.BMP', '478__M_Right_middle_finger.BMP', '207__M_Left_little_finger.BMP', '568__M_Right_ring_finger.BMP', '63__M_Left_middle_finger.BMP', '79__M_Right_little_finger.BMP', '195__M_Right_little_finger.BMP', '74__F_Right_middle_finger.BMP', '515__M_Left_middle_finger.BMP', '331__M_Left_thumb_finger.BMP', '291__M_Left_index_finger.BMP', '346__M_Left_little_finger.BMP', '226__M_Left_middle_finger.BMP', '135__F_Right_middle_finger.BMP', '31__F_Left_ring_finger.BMP', '199__M_Left_thumb_finger.BMP', '49__M_Right_ring_finger.BMP', '303__F_Right_index_finger.BMP', '196__M_Right_ring_finger.BMP', '68__M_Left_index_finger.BMP', '458__M_Left_little_finger.BMP', '508__F_Right_ring_finger.BMP', '443__M_Right_thumb_finger.BMP', '293__F_Right_thumb_finger.BMP', '160__M_Right_little_finger.BMP', '69__M_Right_thumb_finger.BMP', '50__M_Left_little_finger.BMP', '183__M_Right_thumb_finger.BMP', '227__M_Left_middle_finger.BMP', '471__M_Right_thumb_finger.BMP', '128__M_Left_middle_finger.BMP', '463__F_Left_middle_finger.BMP', '551__F_Left_ring_finger.BMP', '318__F_Left_thumb_finger.BMP', '435__F_Right_thumb_finger.BMP', '552__M_Right_thumb_finger.BMP', '260__M_Right_middle_finger.BMP', '61__M_Left_thumb_finger.BMP', '85__M_Right_little_finger.BMP', '490__M_Left_index_finger.BMP', '495__M_Left_index_finger.BMP', '276__M_Right_index_finger.BMP', '365__M_Left_ring_finger.BMP', '145__M_Left_little_finger.BMP', '74__F_Right_thumb_finger.BMP', '24__F_Right_index_finger.BMP', '247__M_Left_little_finger.BMP', '121__F_Left_little_finger.BMP', '486__M_Left_ring_finger.BMP', '538__M_Left_index_finger.BMP', '131__M_Left_index_finger.BMP', '579__M_Right_index_finger.BMP', '158__M_Left_index_finger.BMP', '46__M_Left_thumb_finger.BMP', '398__M_Left_thumb_finger.BMP', '380__M_Left_thumb_finger.BMP', '325__M_Left_index_finger.BMP', '69__M_Left_thumb_finger.BMP', '313__M_Right_thumb_finger.BMP', '525__M_Left_ring_finger.BMP', '203__M_Right_ring_finger.BMP', '199__M_Right_thumb_finger.BMP', '390__F_Left_middle_finger.BMP', '407__M_Left_middle_finger.BMP', '103__F_Right_thumb_finger.BMP', '519__M_Left_thumb_finger.BMP', '234__M_Right_thumb_finger.BMP', '262__M_Left_ring_finger.BMP', '493__M_Right_index_finger.BMP', '373__M_Right_index_finger.BMP', '195__M_Left_ring_finger.BMP', '431__M_Right_middle_finger.BMP', '31__F_Left_thumb_finger.BMP', '310__M_Left_little_finger.BMP', '202__M_Left_thumb_finger.BMP', '243__M_Left_ring_finger.BMP', '144__M_Left_ring_finger.BMP', '39__M_Right_little_finger.BMP', '385__M_Left_ring_finger.BMP', '161__F_Right_thumb_finger.BMP', '435__F_Right_middle_finger.BMP', '444__M_Right_thumb_finger.BMP', '372__M_Left_ring_finger.BMP', '262__M_Right_index_finger.BMP', '506__M_Right_middle_finger.BMP', '16__M_Left_middle_finger.BMP', '489__M_Left_thumb_finger.BMP', '317__M_Right_ring_finger.BMP', '42__F_Right_ring_finger.BMP', '162__M_Right_ring_finger.BMP', '79__M_Left_ring_finger.BMP', '463__F_Right_ring_finger.BMP', '128__M_Right_middle_finger.BMP', '127__F_Right_thumb_finger.BMP', '86__M_Right_little_finger.BMP', '345__M_Left_little_finger.BMP', '167__M_Left_index_finger.BMP', '223__M_Right_ring_finger.BMP', '220__F_Right_middle_finger.BMP', '96__M_Left_little_finger.BMP', '584__M_Right_thumb_finger.BMP', '334__F_Right_thumb_finger.BMP', '310__M_Right_thumb_finger.BMP', '66__F_Left_ring_finger.BMP', '573__F_Right_index_finger.BMP', '20__M_Right_little_finger.BMP', '191__F_Left_thumb_finger.BMP', '222__M_Right_little_finger.BMP', '545__M_Right_little_finger.BMP', '377__M_Right_ring_finger.BMP', '216__M_Left_index_finger.BMP', '304__M_Right_thumb_finger.BMP', '193__M_Right_middle_finger.BMP', '201__F_Right_ring_finger.BMP', '440__M_Right_middle_finger.BMP', '97__M_Left_little_finger.BMP', '477__M_Left_little_finger.BMP', '225__M_Left_ring_finger.BMP', '223__M_Right_middle_finger.BMP', '7__M_Right_thumb_finger.BMP', '21__M_Left_index_finger.BMP', '381__M_Right_index_finger.BMP', '114__F_Right_ring_finger.BMP', '321__M_Left_little_finger.BMP', '203__M_Left_index_finger.BMP', '287__M_Right_little_finger.BMP', '582__M_Right_little_finger.BMP', '344__M_Left_middle_finger.BMP', '407__M_Right_index_finger.BMP', '498__M_Left_ring_finger.BMP', '566__M_Right_ring_finger.BMP', '577__M_Left_thumb_finger.BMP', '118__F_Left_index_finger.BMP', '491__M_Left_little_finger.BMP', '127__F_Left_little_finger.BMP', '219__M_Right_ring_finger.BMP', '106__M_Right_ring_finger.BMP', '32__M_Right_little_finger.BMP', '423__M_Left_index_finger.BMP', '465__F_Right_ring_finger.BMP', '185__M_Left_index_finger.BMP', '454__M_Left_ring_finger.BMP', '476__M_Left_middle_finger.BMP', '521__M_Right_middle_finger.BMP', '353__M_Left_index_finger.BMP', '406__M_Left_ring_finger.BMP', '59__F_Right_ring_finger.BMP', '294__M_Left_index_finger.BMP', '355__M_Right_little_finger.BMP', '400__M_Left_ring_finger.BMP', '461__F_Right_ring_finger.BMP', '72__M_Right_index_finger.BMP', '590__M_Left_ring_finger.BMP', '368__M_Left_middle_finger.BMP', '347__M_Right_index_finger.BMP', '190__M_Left_little_finger.BMP', '195__M_Right_thumb_finger.BMP', '493__M_Right_ring_finger.BMP', '387__F_Right_little_finger.BMP', '357__M_Left_ring_finger.BMP', '564__M_Left_thumb_finger.BMP', '483__M_Left_thumb_finger.BMP', '104__M_Right_thumb_finger.BMP', '503__M_Right_little_finger.BMP', '281__M_Left_index_finger.BMP', '599__M_Left_thumb_finger.BMP', '594__M_Left_little_finger.BMP', '135__F_Right_thumb_finger.BMP', '156__F_Right_ring_finger.BMP', '240__F_Right_ring_finger.BMP', '84__M_Right_index_finger.BMP', '433__M_Left_little_finger.BMP', '480__M_Right_ring_finger.BMP', '409__M_Right_middle_finger.BMP', '582__M_Right_thumb_finger.BMP', '302__M_Left_little_finger.BMP', '473__M_Right_middle_finger.BMP', '571__F_Left_middle_finger.BMP', '517__M_Left_thumb_finger.BMP', '30__F_Left_middle_finger.BMP', '416__M_Left_middle_finger.BMP', '158__M_Left_middle_finger.BMP', '503__M_Left_ring_finger.BMP', '332__M_Right_middle_finger.BMP', '448__M_Right_little_finger.BMP', '484__M_Right_little_finger.BMP', '155__M_Left_middle_finger.BMP', '502__F_Left_little_finger.BMP', '333__M_Left_ring_finger.BMP', '295__M_Right_little_finger.BMP', '229__M_Left_ring_finger.BMP', '581__F_Right_thumb_finger.BMP', '517__M_Right_ring_finger.BMP', '408__M_Right_ring_finger.BMP', '116__M_Left_little_finger.BMP', '221__M_Right_thumb_finger.BMP', '140__F_Left_ring_finger.BMP', '355__M_Right_middle_finger.BMP', '292__M_Left_middle_finger.BMP', '429__M_Right_thumb_finger.BMP', '429__M_Right_little_finger.BMP', '376__F_Left_little_finger.BMP', '469__M_Right_little_finger.BMP', '566__M_Left_index_finger.BMP', '524__M_Right_index_finger.BMP', '17__M_Right_index_finger.BMP', '498__M_Right_thumb_finger.BMP', '456__M_Right_ring_finger.BMP', '515__M_Right_middle_finger.BMP', '241__M_Right_middle_finger.BMP', '293__F_Right_ring_finger.BMP', '519__M_Right_ring_finger.BMP', '188__M_Right_thumb_finger.BMP', '189__F_Left_middle_finger.BMP', '426__M_Left_little_finger.BMP', '125__M_Left_little_finger.BMP', '585__M_Left_index_finger.BMP', '115__F_Right_middle_finger.BMP', '129__M_Right_thumb_finger.BMP', '518__M_Left_little_finger.BMP', '352__M_Left_thumb_finger.BMP', '315__F_Left_little_finger.BMP', '3__M_Right_middle_finger.BMP', '569__M_Left_little_finger.BMP', '31__F_Right_ring_finger.BMP', '67__F_Right_middle_finger.BMP', '139__M_Left_ring_finger.BMP', '482__M_Left_index_finger.BMP', '329__M_Left_ring_finger.BMP', '70__M_Right_index_finger.BMP', '531__M_Left_little_finger.BMP', '454__M_Left_little_finger.BMP', '545__M_Left_little_finger.BMP', '190__M_Left_index_finger.BMP', '584__M_Left_thumb_finger.BMP', '541__M_Left_index_finger.BMP', '559__M_Left_ring_finger.BMP', '265__M_Right_index_finger.BMP', '128__M_Right_thumb_finger.BMP', '524__M_Left_thumb_finger.BMP', '273__M_Left_thumb_finger.BMP', '38__M_Left_ring_finger.BMP', '470__F_Right_little_finger.BMP', '126__F_Right_thumb_finger.BMP', '338__M_Left_index_finger.BMP', '370__M_Right_ring_finger.BMP', '394__M_Left_index_finger.BMP', '333__M_Right_little_finger.BMP', '540__F_Left_index_finger.BMP', '242__M_Right_ring_finger.BMP', '281__M_Right_middle_finger.BMP', '195__M_Left_middle_finger.BMP', '2__F_Left_ring_finger.BMP', '32__M_Left_index_finger.BMP', '485__M_Right_ring_finger.BMP', '576__M_Left_middle_finger.BMP', '23__M_Right_little_finger.BMP', '368__M_Right_index_finger.BMP', '328__M_Left_ring_finger.BMP', '199__M_Left_middle_finger.BMP', '413__M_Left_middle_finger.BMP', '24__F_Left_index_finger.BMP', '157__M_Right_index_finger.BMP', '237__M_Left_thumb_finger.BMP', '467__M_Left_index_finger.BMP', '100__M_Left_thumb_finger.BMP', '244__M_Right_thumb_finger.BMP', '123__M_Left_thumb_finger.BMP', '157__M_Left_thumb_finger.BMP', '348__F_Right_ring_finger.BMP', '548__F_Left_index_finger.BMP', '138__M_Right_ring_finger.BMP', '33__M_Left_middle_finger.BMP', '53__M_Left_ring_finger.BMP', '477__M_Left_middle_finger.BMP', '299__M_Left_ring_finger.BMP', '274__M_Left_middle_finger.BMP', '339__M_Left_thumb_finger.BMP', '346__M_Right_middle_finger.BMP', '86__M_Right_index_finger.BMP', '134__M_Left_thumb_finger.BMP', '153__M_Right_thumb_finger.BMP', '191__F_Left_middle_finger.BMP', '18__M_Left_index_finger.BMP', '99__M_Left_middle_finger.BMP', '438__M_Left_little_finger.BMP', '213__M_Left_index_finger.BMP', '312__M_Left_ring_finger.BMP', '82__M_Left_little_finger.BMP', '128__M_Right_little_finger.BMP', '372__M_Right_little_finger.BMP', '168__M_Left_middle_finger.BMP', '156__F_Left_ring_finger.BMP', '180__F_Left_thumb_finger.BMP', '460__M_Right_middle_finger.BMP', '8__M_Left_ring_finger.BMP', '185__M_Left_middle_finger.BMP', '208__M_Left_index_finger.BMP', '86__M_Left_ring_finger.BMP', '463__F_Right_thumb_finger.BMP', '404__M_Left_ring_finger.BMP', '561__M_Left_thumb_finger.BMP', '59__F_Right_middle_finger.BMP', '345__M_Left_index_finger.BMP', '437__M_Left_ring_finger.BMP', '174__F_Right_thumb_finger.BMP', '1__M_Right_little_finger.BMP', '89__M_Left_middle_finger.BMP', '81__F_Right_index_finger.BMP', '283__M_Left_thumb_finger.BMP', '543__M_Left_little_finger.BMP', '311__M_Right_thumb_finger.BMP', '50__M_Right_index_finger.BMP', '2__F_Right_ring_finger.BMP', '488__M_Left_ring_finger.BMP', '268__M_Right_ring_finger.BMP', '393__M_Left_ring_finger.BMP', '413__M_Left_index_finger.BMP', '225__M_Right_middle_finger.BMP', '258__M_Left_index_finger.BMP', '403__M_Left_thumb_finger.BMP', '359__M_Left_little_finger.BMP', '10__M_Right_middle_finger.BMP', '442__F_Right_thumb_finger.BMP', '146__M_Left_index_finger.BMP', '483__M_Right_little_finger.BMP', '412__M_Right_middle_finger.BMP', '33__M_Left_thumb_finger.BMP', '103__F_Left_thumb_finger.BMP', '3__M_Left_middle_finger.BMP', '49__M_Left_middle_finger.BMP', '230__M_Right_middle_finger.BMP', '306__M_Right_middle_finger.BMP', '18__M_Left_middle_finger.BMP', '210__M_Right_middle_finger.BMP', '91__F_Right_thumb_finger.BMP', '427__M_Left_little_finger.BMP', '370__M_Right_thumb_finger.BMP', '532__M_Right_little_finger.BMP', '131__M_Left_middle_finger.BMP', '235__M_Right_little_finger.BMP', '206__M_Right_ring_finger.BMP', '290__M_Right_little_finger.BMP', '7__M_Left_little_finger.BMP', '186__M_Left_ring_finger.BMP', '53__M_Right_middle_finger.BMP', '136__F_Right_ring_finger.BMP', '568__M_Left_little_finger.BMP', '375__M_Left_thumb_finger.BMP', '257__M_Left_middle_finger.BMP', '529__M_Right_ring_finger.BMP', '291__M_Right_little_finger.BMP', '563__M_Right_little_finger.BMP', '397__M_Right_ring_finger.BMP', '34__M_Left_index_finger.BMP', '29__F_Right_little_finger.BMP', '269__M_Right_middle_finger.BMP', '13__F_Left_index_finger.BMP', '376__F_Right_middle_finger.BMP', '578__M_Left_ring_finger.BMP', '410__M_Left_ring_finger.BMP', '181__M_Right_middle_finger.BMP', '405__M_Left_little_finger.BMP', '192__M_Left_thumb_finger.BMP', '1__M_Right_thumb_finger.BMP', '291__M_Right_thumb_finger.BMP', '304__M_Right_ring_finger.BMP', '243__M_Right_little_finger.BMP', '493__M_Left_little_finger.BMP', '42__F_Left_ring_finger.BMP', '91__F_Left_ring_finger.BMP', '547__M_Left_thumb_finger.BMP', '205__F_Left_middle_finger.BMP', '284__M_Right_ring_finger.BMP', '298__M_Left_index_finger.BMP', '332__M_Left_index_finger.BMP', '288__M_Left_ring_finger.BMP', '504__M_Right_little_finger.BMP', '405__M_Right_little_finger.BMP', '563__M_Left_index_finger.BMP', '548__F_Right_little_finger.BMP', '440__M_Left_ring_finger.BMP', '596__M_Left_thumb_finger.BMP', '264__M_Right_little_finger.BMP', '345__M_Right_little_finger.BMP', '475__M_Right_little_finger.BMP', '28__M_Right_thumb_finger.BMP', '366__M_Right_little_finger.BMP', '20__M_Right_index_finger.BMP', '277__M_Right_index_finger.BMP', '385__M_Left_middle_finger.BMP', '176__M_Left_index_finger.BMP', '256__M_Left_middle_finger.BMP', '154__F_Left_middle_finger.BMP', '318__F_Right_index_finger.BMP', '46__M_Right_middle_finger.BMP', '491__M_Right_little_finger.BMP', '561__M_Right_index_finger.BMP', '239__M_Left_little_finger.BMP', '393__M_Left_thumb_finger.BMP', '570__M_Right_index_finger.BMP', '290__M_Left_little_finger.BMP', '502__F_Right_middle_finger.BMP', '482__M_Left_thumb_finger.BMP', '110__F_Left_thumb_finger.BMP', '377__M_Left_index_finger.BMP', '265__M_Left_middle_finger.BMP', '49__M_Left_index_finger.BMP', '130__F_Left_ring_finger.BMP', '307__M_Right_thumb_finger.BMP', '204__F_Right_little_finger.BMP', '549__M_Right_little_finger.BMP', '23__M_Right_ring_finger.BMP', '3__M_Left_ring_finger.BMP', '246__M_Right_ring_finger.BMP', '455__M_Right_thumb_finger.BMP', '326__M_Left_thumb_finger.BMP', '465__F_Right_index_finger.BMP', '407__M_Left_index_finger.BMP', '461__F_Left_little_finger.BMP', '421__F_Right_thumb_finger.BMP', '215__M_Left_little_finger.BMP', '85__M_Right_middle_finger.BMP', '4__M_Right_thumb_finger.BMP', '67__F_Right_ring_finger.BMP', '554__M_Left_ring_finger.BMP', '190__M_Right_thumb_finger.BMP', '181__M_Left_thumb_finger.BMP', '219__M_Right_middle_finger.BMP', '220__F_Left_middle_finger.BMP', '294__M_Right_index_finger.BMP', '435__F_Left_ring_finger.BMP', '484__M_Right_ring_finger.BMP', '471__M_Right_middle_finger.BMP', '104__M_Left_ring_finger.BMP', '244__M_Left_index_finger.BMP', '384__F_Left_middle_finger.BMP', '593__M_Left_thumb_finger.BMP', '170__M_Right_index_finger.BMP', '144__M_Right_little_finger.BMP', '202__M_Right_thumb_finger.BMP', '180__F_Right_thumb_finger.BMP', '570__M_Left_little_finger.BMP', '50__M_Left_index_finger.BMP', '5__M_Left_index_finger.BMP', '383__M_Right_thumb_finger.BMP', '460__M_Right_thumb_finger.BMP', '388__F_Right_thumb_finger.BMP', '341__M_Right_little_finger.BMP', '598__M_Right_ring_finger.BMP', '563__M_Right_ring_finger.BMP', '478__M_Left_ring_finger.BMP', '273__M_Right_ring_finger.BMP', '399__M_Right_middle_finger.BMP', '206__M_Right_little_finger.BMP', '529__M_Left_little_finger.BMP', '524__M_Right_ring_finger.BMP', '152__M_Left_middle_finger.BMP', '192__M_Right_thumb_finger.BMP', '273__M_Left_index_finger.BMP', '556__F_Left_little_finger.BMP', '54__M_Left_ring_finger.BMP', '543__M_Right_index_finger.BMP', '534__F_Left_index_finger.BMP', '219__M_Left_index_finger.BMP', '32__M_Right_index_finger.BMP', '583__M_Right_ring_finger.BMP', '550__F_Right_index_finger.BMP', '105__M_Right_thumb_finger.BMP', '478__M_Right_thumb_finger.BMP', '388__F_Left_index_finger.BMP', '484__M_Right_index_finger.BMP', '275__F_Left_thumb_finger.BMP', '455__M_Right_ring_finger.BMP', '257__M_Right_index_finger.BMP', '417__M_Left_thumb_finger.BMP', '367__M_Left_ring_finger.BMP', '438__M_Right_thumb_finger.BMP', '498__M_Left_middle_finger.BMP', '259__M_Right_thumb_finger.BMP', '480__M_Right_thumb_finger.BMP', '342__M_Right_ring_finger.BMP', '537__M_Left_ring_finger.BMP', '498__M_Right_ring_finger.BMP', '329__M_Right_ring_finger.BMP', '318__F_Right_little_finger.BMP', '159__M_Right_ring_finger.BMP', '224__M_Right_middle_finger.BMP', '125__M_Left_middle_finger.BMP', '100__M_Right_ring_finger.BMP', '168__M_Right_thumb_finger.BMP', '511__M_Left_little_finger.BMP', '237__M_Right_little_finger.BMP', '35__M_Left_thumb_finger.BMP', '51__M_Right_little_finger.BMP', '380__M_Right_index_finger.BMP', '133__M_Right_little_finger.BMP', '69__M_Left_middle_finger.BMP', '226__M_Right_ring_finger.BMP', '576__M_Left_little_finger.BMP', '276__M_Left_middle_finger.BMP', '207__M_Left_middle_finger.BMP', '423__M_Right_index_finger.BMP', '352__M_Right_thumb_finger.BMP', '148__M_Left_index_finger.BMP', '411__M_Right_thumb_finger.BMP', '594__M_Right_thumb_finger.BMP', '217__M_Left_little_finger.BMP', '276__M_Right_thumb_finger.BMP', '83__M_Left_ring_finger.BMP', '203__M_Left_middle_finger.BMP', '534__F_Right_index_finger.BMP', '371__M_Left_index_finger.BMP', '585__M_Right_thumb_finger.BMP', '599__M_Left_index_finger.BMP', '99__M_Left_thumb_finger.BMP', '394__M_Right_ring_finger.BMP', '225__M_Left_little_finger.BMP', '341__M_Left_index_finger.BMP', '343__M_Right_middle_finger.BMP', '83__M_Left_index_finger.BMP', '431__M_Right_ring_finger.BMP', '70__M_Right_thumb_finger.BMP', '420__M_Right_ring_finger.BMP', '538__M_Right_ring_finger.BMP', '83__M_Left_little_finger.BMP', '172__M_Left_middle_finger.BMP', '418__F_Right_index_finger.BMP', '44__M_Right_thumb_finger.BMP', '479__F_Left_little_finger.BMP', '371__M_Right_index_finger.BMP', '107__M_Right_little_finger.BMP', '5__M_Left_thumb_finger.BMP', '600__M_Left_index_finger.BMP', '492__F_Right_thumb_finger.BMP', '107__M_Left_little_finger.BMP', '566__M_Left_thumb_finger.BMP', '100__M_Right_index_finger.BMP', '76__F_Right_middle_finger.BMP', '520__M_Left_ring_finger.BMP', '150__M_Right_thumb_finger.BMP', '241__M_Left_ring_finger.BMP', '71__M_Left_thumb_finger.BMP', '40__F_Left_little_finger.BMP', '100__M_Right_middle_finger.BMP', '169__F_Right_thumb_finger.BMP', '12__M_Left_little_finger.BMP', '503__M_Left_middle_finger.BMP', '333__M_Right_thumb_finger.BMP', '162__M_Right_index_finger.BMP', '367__M_Left_middle_finger.BMP', '227__M_Left_little_finger.BMP', '319__M_Right_little_finger.BMP', '183__M_Left_ring_finger.BMP', '237__M_Left_index_finger.BMP', '127__F_Left_index_finger.BMP', '164__M_Right_middle_finger.BMP', '126__F_Left_index_finger.BMP', '99__M_Right_index_finger.BMP', '422__M_Left_ring_finger.BMP', '211__M_Right_ring_finger.BMP', '140__F_Right_little_finger.BMP', '21__M_Right_index_finger.BMP', '104__M_Right_ring_finger.BMP', '34__M_Right_ring_finger.BMP', '542__M_Right_little_finger.BMP', '320__M_Right_ring_finger.BMP', '292__M_Right_little_finger.BMP', '377__M_Right_thumb_finger.BMP', '399__M_Left_little_finger.BMP', '210__M_Right_little_finger.BMP', '427__M_Right_ring_finger.BMP', '110__F_Left_index_finger.BMP', '122__M_Left_little_finger.BMP', '335__M_Left_index_finger.BMP', '212__M_Left_little_finger.BMP', '133__M_Right_middle_finger.BMP', '212__M_Left_thumb_finger.BMP', '312__M_Right_little_finger.BMP', '378__F_Right_thumb_finger.BMP', '211__M_Left_little_finger.BMP', '351__M_Right_little_finger.BMP', '386__M_Right_ring_finger.BMP', '72__M_Left_ring_finger.BMP', '497__M_Left_index_finger.BMP', '34__M_Left_middle_finger.BMP', '160__M_Left_index_finger.BMP', '348__F_Left_index_finger.BMP', '145__M_Right_middle_finger.BMP', '75__F_Right_little_finger.BMP', '572__F_Right_ring_finger.BMP', '453__F_Left_little_finger.BMP', '378__F_Left_index_finger.BMP', '503__M_Right_middle_finger.BMP', '147__M_Right_ring_finger.BMP', '92__F_Right_ring_finger.BMP', '269__M_Right_thumb_finger.BMP', '428__M_Left_middle_finger.BMP', '33__M_Left_index_finger.BMP', '267__M_Right_thumb_finger.BMP', '27__M_Right_index_finger.BMP', '45__M_Left_middle_finger.BMP', '573__F_Right_ring_finger.BMP', '78__F_Right_ring_finger.BMP', '360__M_Right_thumb_finger.BMP', '52__M_Right_little_finger.BMP', '439__M_Right_index_finger.BMP', '594__M_Left_middle_finger.BMP', '271__M_Right_little_finger.BMP', '399__M_Right_little_finger.BMP', '210__M_Left_index_finger.BMP', '225__M_Right_index_finger.BMP', '168__M_Right_middle_finger.BMP', '73__M_Right_middle_finger.BMP', '77__M_Right_middle_finger.BMP', '382__M_Right_thumb_finger.BMP', '167__M_Right_middle_finger.BMP', '350__M_Left_index_finger.BMP', '35__M_Left_ring_finger.BMP', '26__M_Left_thumb_finger.BMP', '552__M_Right_ring_finger.BMP', '578__M_Left_little_finger.BMP', '128__M_Left_ring_finger.BMP', '261__M_Left_thumb_finger.BMP', '15__F_Right_thumb_finger.BMP', '203__M_Right_middle_finger.BMP', '326__M_Right_middle_finger.BMP', '447__M_Right_ring_finger.BMP', '403__M_Left_little_finger.BMP', '336__M_Left_little_finger.BMP', '283__M_Left_index_finger.BMP', '387__F_Right_thumb_finger.BMP', '262__M_Right_thumb_finger.BMP', '132__M_Right_index_finger.BMP', '172__M_Right_ring_finger.BMP', '245__M_Left_little_finger.BMP', '382__M_Left_index_finger.BMP', '296__M_Left_little_finger.BMP', '245__M_Right_little_finger.BMP', '116__M_Right_thumb_finger.BMP', '584__M_Left_little_finger.BMP', '407__M_Right_little_finger.BMP', '401__M_Left_thumb_finger.BMP', '92__F_Left_ring_finger.BMP', '220__F_Left_ring_finger.BMP', '490__M_Right_ring_finger.BMP', '95__M_Left_ring_finger.BMP', '592__M_Right_ring_finger.BMP', '222__M_Right_middle_finger.BMP', '166__M_Right_middle_finger.BMP', '238__M_Left_middle_finger.BMP', '150__M_Right_middle_finger.BMP', '398__M_Left_little_finger.BMP', '213__M_Right_index_finger.BMP', '478__M_Left_thumb_finger.BMP', '267__M_Right_middle_finger.BMP', '533__M_Left_little_finger.BMP', '530__M_Right_ring_finger.BMP', '390__F_Left_thumb_finger.BMP', '81__F_Right_ring_finger.BMP', '315__F_Left_thumb_finger.BMP', '340__M_Right_little_finger.BMP', '409__M_Right_index_finger.BMP', '33__M_Right_ring_finger.BMP', '295__M_Left_thumb_finger.BMP', '404__M_Left_little_finger.BMP', '363__M_Right_thumb_finger.BMP', '313__M_Right_little_finger.BMP', '436__M_Right_little_finger.BMP', '153__M_Left_middle_finger.BMP', '427__M_Right_little_finger.BMP', '133__M_Right_ring_finger.BMP', '235__M_Right_index_finger.BMP', '304__M_Right_little_finger.BMP', '425__M_Right_middle_finger.BMP', '537__M_Right_ring_finger.BMP', '503__M_Right_index_finger.BMP', '119__F_Left_little_finger.BMP', '441__M_Left_little_finger.BMP', '577__M_Right_little_finger.BMP', '150__M_Left_index_finger.BMP', '16__M_Left_thumb_finger.BMP', '440__M_Right_thumb_finger.BMP', '593__M_Left_index_finger.BMP', '271__M_Right_thumb_finger.BMP', '79__M_Left_thumb_finger.BMP', '567__M_Right_index_finger.BMP', '201__F_Left_index_finger.BMP', '539__F_Left_thumb_finger.BMP', '59__F_Right_thumb_finger.BMP', '76__F_Left_index_finger.BMP', '114__F_Left_little_finger.BMP', '75__F_Left_index_finger.BMP', '302__M_Left_index_finger.BMP', '446__M_Right_ring_finger.BMP', '54__M_Right_middle_finger.BMP', '113__M_Left_little_finger.BMP', '238__M_Right_thumb_finger.BMP', '371__M_Left_little_finger.BMP', '269__M_Left_middle_finger.BMP', '482__M_Left_little_finger.BMP', '538__M_Left_little_finger.BMP', '256__M_Right_index_finger.BMP', '9__M_Left_little_finger.BMP', '207__M_Left_ring_finger.BMP', '488__M_Right_ring_finger.BMP', '244__M_Right_middle_finger.BMP', '592__M_Right_index_finger.BMP', '520__M_Left_middle_finger.BMP', '448__M_Right_thumb_finger.BMP', '35__M_Right_index_finger.BMP', '323__M_Right_ring_finger.BMP', '204__F_Right_middle_finger.BMP', '505__M_Right_little_finger.BMP', '78__F_Right_little_finger.BMP', '593__M_Left_little_finger.BMP', '86__M_Right_middle_finger.BMP', '395__M_Left_ring_finger.BMP', '458__M_Left_ring_finger.BMP', '386__M_Right_index_finger.BMP', '106__M_Left_ring_finger.BMP', '535__M_Right_thumb_finger.BMP', '391__M_Left_little_finger.BMP', '256__M_Left_index_finger.BMP', '373__M_Left_thumb_finger.BMP', '452__F_Left_thumb_finger.BMP', '410__M_Right_thumb_finger.BMP', '278__M_Left_ring_finger.BMP', '63__M_Left_thumb_finger.BMP', '289__F_Right_little_finger.BMP', '95__M_Right_index_finger.BMP', '151__M_Left_index_finger.BMP', '167__M_Left_little_finger.BMP', '98__M_Right_ring_finger.BMP', '548__F_Left_little_finger.BMP', '544__M_Left_ring_finger.BMP', '235__M_Right_thumb_finger.BMP', '285__M_Left_ring_finger.BMP', '62__M_Right_index_finger.BMP', '320__M_Left_thumb_finger.BMP', '593__M_Left_middle_finger.BMP', '526__F_Right_little_finger.BMP', '279__M_Left_middle_finger.BMP', '348__F_Left_ring_finger.BMP', '35__M_Right_thumb_finger.BMP', '544__M_Right_ring_finger.BMP', '8__M_Left_index_finger.BMP', '218__M_Left_little_finger.BMP', '484__M_Left_thumb_finger.BMP', '385__M_Left_index_finger.BMP', '192__M_Left_index_finger.BMP', '141__F_Left_thumb_finger.BMP', '17__M_Right_little_finger.BMP', '580__M_Left_thumb_finger.BMP', '570__M_Left_thumb_finger.BMP', '488__M_Left_index_finger.BMP', '485__M_Right_thumb_finger.BMP', '231__M_Left_index_finger.BMP', '138__M_Left_index_finger.BMP', '374__M_Left_thumb_finger.BMP', '233__M_Left_index_finger.BMP', '180__F_Left_little_finger.BMP', '263__F_Right_ring_finger.BMP', '510__M_Left_little_finger.BMP', '278__M_Right_thumb_finger.BMP', '396__M_Right_index_finger.BMP', '320__M_Right_little_finger.BMP', '305__M_Right_middle_finger.BMP', '1__M_Right_index_finger.BMP', '493__M_Right_thumb_finger.BMP', '338__M_Right_thumb_finger.BMP', '185__M_Left_ring_finger.BMP', '489__M_Right_little_finger.BMP', '166__M_Left_middle_finger.BMP', '556__F_Left_middle_finger.BMP', '313__M_Right_index_finger.BMP', '164__M_Left_ring_finger.BMP', '450__M_Right_middle_finger.BMP', '215__M_Left_index_finger.BMP', '573__F_Left_little_finger.BMP', '387__F_Left_ring_finger.BMP', '548__F_Right_thumb_finger.BMP', '585__M_Left_ring_finger.BMP', '429__M_Right_index_finger.BMP', '119__F_Right_ring_finger.BMP', '220__F_Right_ring_finger.BMP', '551__F_Left_little_finger.BMP', '263__F_Left_thumb_finger.BMP', '197__M_Left_ring_finger.BMP', '82__M_Right_little_finger.BMP', '488__M_Right_middle_finger.BMP', '111__M_Left_thumb_finger.BMP', '14__M_Left_thumb_finger.BMP', '182__M_Left_thumb_finger.BMP', '117__F_Left_middle_finger.BMP', '179__M_Right_ring_finger.BMP', '180__F_Left_middle_finger.BMP', '403__M_Right_index_finger.BMP', '199__M_Right_middle_finger.BMP', '224__M_Right_thumb_finger.BMP', '92__F_Right_middle_finger.BMP', '115__F_Right_index_finger.BMP', '334__F_Left_thumb_finger.BMP', '228__M_Left_little_finger.BMP', '362__M_Left_little_finger.BMP', '127__F_Left_ring_finger.BMP', '334__F_Right_middle_finger.BMP', '338__M_Right_index_finger.BMP', '30__F_Left_index_finger.BMP', '446__M_Right_index_finger.BMP', '401__M_Left_little_finger.BMP', '343__M_Left_thumb_finger.BMP', '192__M_Right_index_finger.BMP', '292__M_Left_thumb_finger.BMP', '329__M_Left_thumb_finger.BMP', '70__M_Left_ring_finger.BMP', '526__F_Right_middle_finger.BMP', '477__M_Left_index_finger.BMP', '172__M_Right_middle_finger.BMP', '66__F_Left_thumb_finger.BMP', '454__M_Left_index_finger.BMP', '174__F_Left_thumb_finger.BMP', '576__M_Right_middle_finger.BMP', '54__M_Right_ring_finger.BMP', '58__M_Right_thumb_finger.BMP', '567__M_Right_ring_finger.BMP', '318__F_Left_ring_finger.BMP', '542__M_Right_middle_finger.BMP', '555__M_Right_ring_finger.BMP', '199__M_Right_index_finger.BMP', '93__M_Left_index_finger.BMP', '200__M_Right_index_finger.BMP', '485__M_Left_little_finger.BMP', '58__M_Left_ring_finger.BMP', '276__M_Right_little_finger.BMP', '356__M_Right_ring_finger.BMP', '8__M_Right_little_finger.BMP', '258__M_Right_little_finger.BMP', '193__M_Right_ring_finger.BMP', '270__M_Left_little_finger.BMP', '520__M_Right_middle_finger.BMP', '390__F_Right_index_finger.BMP', '49__M_Right_index_finger.BMP', '124__M_Left_index_finger.BMP', '13__F_Right_ring_finger.BMP', '216__M_Right_index_finger.BMP', '473__M_Right_little_finger.BMP', '475__M_Right_thumb_finger.BMP', '219__M_Right_thumb_finger.BMP', '233__M_Right_little_finger.BMP', '353__M_Left_thumb_finger.BMP', '367__M_Left_index_finger.BMP', '450__M_Left_middle_finger.BMP', '89__M_Right_ring_finger.BMP', '353__M_Left_middle_finger.BMP', '128__M_Left_little_finger.BMP', '308__M_Right_thumb_finger.BMP', '168__M_Right_little_finger.BMP', '74__F_Left_thumb_finger.BMP', '442__F_Left_little_finger.BMP', '173__F_Left_middle_finger.BMP', '164__M_Left_index_finger.BMP', '77__M_Right_little_finger.BMP', '159__M_Left_little_finger.BMP', '469__M_Left_little_finger.BMP', '77__M_Left_middle_finger.BMP', '189__F_Left_index_finger.BMP', '569__M_Left_middle_finger.BMP', '358__M_Left_ring_finger.BMP', '336__M_Left_ring_finger.BMP', '304__M_Left_little_finger.BMP', '422__M_Right_index_finger.BMP', '301__F_Right_thumb_finger.BMP', '72__M_Left_thumb_finger.BMP', '414__M_Left_ring_finger.BMP', '344__M_Right_ring_finger.BMP', '472__M_Right_thumb_finger.BMP', '353__M_Right_little_finger.BMP', '347__M_Left_ring_finger.BMP', '576__M_Left_ring_finger.BMP', '232__M_Right_middle_finger.BMP', '192__M_Left_little_finger.BMP', '578__M_Right_index_finger.BMP', '462__M_Right_ring_finger.BMP', '30__F_Left_thumb_finger.BMP', '260__M_Right_ring_finger.BMP', '300__F_Right_index_finger.BMP', '309__M_Right_middle_finger.BMP', '224__M_Left_index_finger.BMP', '14__M_Right_ring_finger.BMP', '312__M_Left_index_finger.BMP', '186__M_Right_ring_finger.BMP', '54__M_Left_middle_finger.BMP', '518__M_Left_thumb_finger.BMP', '363__M_Right_little_finger.BMP', '367__M_Right_index_finger.BMP', '520__M_Right_little_finger.BMP', '549__M_Left_ring_finger.BMP', '339__M_Left_index_finger.BMP', '364__M_Right_ring_finger.BMP', '535__M_Left_thumb_finger.BMP', '106__M_Right_middle_finger.BMP', '368__M_Right_little_finger.BMP', '530__M_Right_index_finger.BMP', '425__M_Right_thumb_finger.BMP', '61__M_Right_index_finger.BMP', '326__M_Right_index_finger.BMP', '251__M_Left_ring_finger.BMP', '34__M_Right_little_finger.BMP', '324__M_Right_middle_finger.BMP', '249__M_Left_little_finger.BMP', '48__F_Left_index_finger.BMP', '140__F_Right_ring_finger.BMP', '272__M_Left_middle_finger.BMP', '558__M_Right_little_finger.BMP', '108__M_Left_index_finger.BMP', '34__M_Left_little_finger.BMP', '497__M_Left_ring_finger.BMP', '599__M_Right_middle_finger.BMP', '220__F_Right_index_finger.BMP', '102__M_Right_ring_finger.BMP', '230__M_Right_little_finger.BMP', '118__F_Left_ring_finger.BMP', '361__M_Right_middle_finger.BMP', '370__M_Left_ring_finger.BMP', '216__M_Right_little_finger.BMP', '283__M_Right_ring_finger.BMP', '364__M_Left_index_finger.BMP', '373__M_Left_ring_finger.BMP', '22__M_Right_ring_finger.BMP', '507__M_Right_ring_finger.BMP', '551__F_Left_thumb_finger.BMP', '486__M_Left_index_finger.BMP', '277__M_Left_thumb_finger.BMP', '413__M_Right_little_finger.BMP', '120__M_Right_index_finger.BMP', '259__M_Left_index_finger.BMP', '196__M_Left_ring_finger.BMP', '418__F_Right_thumb_finger.BMP', '237__M_Right_thumb_finger.BMP', '45__M_Right_middle_finger.BMP', '202__M_Left_little_finger.BMP', '236__M_Left_index_finger.BMP', '247__M_Left_middle_finger.BMP', '424__M_Right_middle_finger.BMP', '342__M_Right_middle_finger.BMP', '195__M_Right_ring_finger.BMP', '98__M_Left_thumb_finger.BMP', '443__M_Right_index_finger.BMP', '554__M_Right_little_finger.BMP', '431__M_Right_little_finger.BMP', '267__M_Left_middle_finger.BMP', '261__M_Right_index_finger.BMP', '250__F_Left_middle_finger.BMP', '332__M_Right_little_finger.BMP', '217__M_Left_thumb_finger.BMP', '237__M_Left_little_finger.BMP', '28__M_Right_middle_finger.BMP', '249__M_Left_index_finger.BMP', '402__M_Right_middle_finger.BMP', '447__M_Right_thumb_finger.BMP', '472__M_Right_ring_finger.BMP', '108__M_Right_thumb_finger.BMP', '591__M_Right_middle_finger.BMP', '511__M_Left_index_finger.BMP', '44__M_Right_little_finger.BMP', '595__M_Right_ring_finger.BMP', '247__M_Right_middle_finger.BMP', '498__M_Right_little_finger.BMP', '34__M_Right_index_finger.BMP', '534__F_Left_thumb_finger.BMP', '483__M_Right_middle_finger.BMP', '495__M_Right_thumb_finger.BMP', '581__F_Right_little_finger.BMP', '575__M_Left_ring_finger.BMP', '321__M_Right_thumb_finger.BMP', '192__M_Left_middle_finger.BMP', '302__M_Right_ring_finger.BMP', '32__M_Left_ring_finger.BMP', '200__M_Right_middle_finger.BMP', '50__M_Left_thumb_finger.BMP', '214__M_Left_middle_finger.BMP', '7__M_Left_ring_finger.BMP', '434__M_Left_ring_finger.BMP', '120__M_Right_thumb_finger.BMP', '472__M_Left_index_finger.BMP', '8__M_Right_ring_finger.BMP', '511__M_Left_ring_finger.BMP', '112__M_Left_little_finger.BMP', '94__M_Right_little_finger.BMP', '549__M_Right_index_finger.BMP', '520__M_Left_index_finger.BMP', '169__F_Left_little_finger.BMP', '51__M_Left_little_finger.BMP', '466__F_Right_little_finger.BMP', '108__M_Left_little_finger.BMP', '44__M_Right_ring_finger.BMP', '549__M_Right_thumb_finger.BMP', '404__M_Left_index_finger.BMP', '409__M_Left_middle_finger.BMP', '182__M_Right_index_finger.BMP', '305__M_Left_thumb_finger.BMP', '146__M_Left_middle_finger.BMP', '177__F_Left_index_finger.BMP', '486__M_Left_thumb_finger.BMP', '281__M_Right_little_finger.BMP', '319__M_Left_middle_finger.BMP', '433__M_Right_thumb_finger.BMP', '21__M_Left_middle_finger.BMP', '534__F_Right_ring_finger.BMP', '415__M_Right_middle_finger.BMP', '458__M_Right_middle_finger.BMP', '327__M_Left_little_finger.BMP', '60__M_Right_index_finger.BMP', '174__F_Right_little_finger.BMP', '279__M_Left_thumb_finger.BMP', '472__M_Left_middle_finger.BMP', '332__M_Right_ring_finger.BMP', '552__M_Left_little_finger.BMP', '520__M_Left_thumb_finger.BMP', '75__F_Left_little_finger.BMP', '48__F_Left_ring_finger.BMP', '66__F_Right_little_finger.BMP', '47__F_Left_ring_finger.BMP', '142__F_Left_index_finger.BMP', '555__M_Left_ring_finger.BMP', '60__M_Right_little_finger.BMP', '38__M_Left_middle_finger.BMP', '518__M_Left_index_finger.BMP', '145__M_Right_ring_finger.BMP', '478__M_Right_ring_finger.BMP', '60__M_Left_middle_finger.BMP', '440__M_Left_little_finger.BMP', '509__M_Right_index_finger.BMP', '328__M_Left_thumb_finger.BMP', '317__M_Left_thumb_finger.BMP', '200__M_Right_ring_finger.BMP', '531__M_Left_ring_finger.BMP', '15__F_Left_thumb_finger.BMP', '407__M_Right_middle_finger.BMP', '307__M_Left_little_finger.BMP', '412__M_Left_index_finger.BMP', '50__M_Left_ring_finger.BMP', '1__M_Left_ring_finger.BMP', '66__F_Right_thumb_finger.BMP', '300__F_Right_thumb_finger.BMP', '276__M_Left_ring_finger.BMP', '553__M_Left_little_finger.BMP', '111__M_Left_index_finger.BMP', '480__M_Left_middle_finger.BMP', '449__F_Left_middle_finger.BMP', '572__F_Right_index_finger.BMP', '59__F_Left_thumb_finger.BMP', '542__M_Left_little_finger.BMP', '297__M_Left_little_finger.BMP', '563__M_Left_ring_finger.BMP', '513__M_Left_little_finger.BMP', '437__M_Right_ring_finger.BMP', '12__M_Right_middle_finger.BMP', '65__M_Right_ring_finger.BMP', '227__M_Right_little_finger.BMP', '205__F_Left_thumb_finger.BMP', '205__F_Left_little_finger.BMP', '206__M_Left_middle_finger.BMP', '399__M_Left_index_finger.BMP', '569__M_Right_middle_finger.BMP', '65__M_Right_middle_finger.BMP', '61__M_Right_thumb_finger.BMP', '433__M_Right_ring_finger.BMP', '176__M_Right_little_finger.BMP', '179__M_Left_middle_finger.BMP', '286__M_Right_little_finger.BMP', '100__M_Right_little_finger.BMP', '476__M_Left_index_finger.BMP', '139__M_Left_index_finger.BMP', '19__M_Right_ring_finger.BMP', '165__M_Left_little_finger.BMP', '135__F_Left_little_finger.BMP', '582__M_Left_little_finger.BMP', '465__F_Left_thumb_finger.BMP', '221__M_Right_middle_finger.BMP', '97__M_Right_ring_finger.BMP', '597__M_Left_middle_finger.BMP', '410__M_Right_little_finger.BMP', '140__F_Left_index_finger.BMP', '42__F_Right_thumb_finger.BMP', '310__M_Left_index_finger.BMP', '267__M_Right_ring_finger.BMP', '175__M_Left_little_finger.BMP', '184__M_Left_thumb_finger.BMP', '76__F_Right_index_finger.BMP', '52__M_Left_index_finger.BMP', '181__M_Right_ring_finger.BMP', '259__M_Left_little_finger.BMP', '283__M_Left_ring_finger.BMP', '226__M_Right_middle_finger.BMP', '26__M_Right_middle_finger.BMP', '191__F_Left_little_finger.BMP', '377__M_Left_middle_finger.BMP', '546__M_Right_little_finger.BMP', '545__M_Right_index_finger.BMP', '336__M_Left_index_finger.BMP', '462__M_Right_middle_finger.BMP', '358__M_Right_index_finger.BMP', '156__F_Left_index_finger.BMP', '539__F_Right_index_finger.BMP', '110__F_Right_ring_finger.BMP', '149__F_Right_ring_finger.BMP', '61__M_Right_little_finger.BMP', '299__M_Right_thumb_finger.BMP', '566__M_Left_ring_finger.BMP', '563__M_Left_little_finger.BMP', '348__F_Left_little_finger.BMP', '190__M_Right_middle_finger.BMP', '459__M_Left_index_finger.BMP', '249__M_Right_thumb_finger.BMP', '35__M_Right_ring_finger.BMP', '500__M_Left_thumb_finger.BMP', '588__M_Right_little_finger.BMP', '432__M_Left_little_finger.BMP', '38__M_Left_index_finger.BMP', '96__M_Right_little_finger.BMP', '349__M_Left_ring_finger.BMP', '161__F_Left_little_finger.BMP', '96__M_Left_ring_finger.BMP', '540__F_Left_ring_finger.BMP', '330__M_Left_index_finger.BMP', '352__M_Right_index_finger.BMP', '565__M_Left_thumb_finger.BMP', '163__M_Left_little_finger.BMP', '338__M_Left_ring_finger.BMP', '342__M_Right_thumb_finger.BMP', '450__M_Right_thumb_finger.BMP', '282__M_Right_thumb_finger.BMP', '576__M_Right_little_finger.BMP', '148__M_Right_middle_finger.BMP', '96__M_Left_middle_finger.BMP', '169__F_Right_ring_finger.BMP', '599__M_Left_little_finger.BMP', '163__M_Right_ring_finger.BMP', '393__M_Left_middle_finger.BMP', '511__M_Right_thumb_finger.BMP', '445__M_Right_ring_finger.BMP', '258__M_Left_middle_finger.BMP', '483__M_Left_middle_finger.BMP', '65__M_Left_ring_finger.BMP', '343__M_Left_ring_finger.BMP', '497__M_Left_thumb_finger.BMP', '485__M_Right_little_finger.BMP', '277__M_Left_middle_finger.BMP', '401__M_Right_ring_finger.BMP', '12__M_Right_ring_finger.BMP', '68__M_Left_thumb_finger.BMP', '71__M_Left_middle_finger.BMP', '539__F_Right_thumb_finger.BMP', '508__F_Left_little_finger.BMP', '101__M_Left_middle_finger.BMP', '395__M_Right_middle_finger.BMP', '443__M_Left_ring_finger.BMP', '391__M_Right_ring_finger.BMP', '245__M_Right_middle_finger.BMP', '261__M_Left_little_finger.BMP', '510__M_Left_index_finger.BMP', '98__M_Left_little_finger.BMP', '417__M_Right_index_finger.BMP', '44__M_Right_middle_finger.BMP', '178__M_Left_index_finger.BMP', '245__M_Right_thumb_finger.BMP', '222__M_Right_index_finger.BMP', '103__F_Right_little_finger.BMP', '430__F_Left_thumb_finger.BMP', '221__M_Left_index_finger.BMP', '505__M_Left_index_finger.BMP', '187__M_Right_ring_finger.BMP', '548__F_Right_ring_finger.BMP', '176__M_Right_index_finger.BMP', '132__M_Right_ring_finger.BMP', '93__M_Right_ring_finger.BMP', '177__F_Right_ring_finger.BMP', '598__M_Right_little_finger.BMP', '382__M_Right_middle_finger.BMP', '30__F_Right_little_finger.BMP', '349__M_Right_middle_finger.BMP', '475__M_Right_middle_finger.BMP', '308__M_Left_little_finger.BMP', '274__M_Left_thumb_finger.BMP', '599__M_Right_ring_finger.BMP', '19__M_Left_middle_finger.BMP', '436__M_Right_index_finger.BMP', '381__M_Left_index_finger.BMP', '517__M_Right_index_finger.BMP', '561__M_Left_little_finger.BMP', '19__M_Right_index_finger.BMP', '418__F_Right_ring_finger.BMP', '446__M_Left_little_finger.BMP', '460__M_Left_thumb_finger.BMP', '134__M_Right_little_finger.BMP', '4__M_Right_ring_finger.BMP', '544__M_Right_thumb_finger.BMP', '380__M_Left_little_finger.BMP', '59__F_Right_little_finger.BMP', '431__M_Left_middle_finger.BMP', '479__F_Right_ring_finger.BMP', '519__M_Left_little_finger.BMP', '455__M_Right_little_finger.BMP', '322__M_Left_thumb_finger.BMP', '3__M_Right_thumb_finger.BMP', '536__F_Right_middle_finger.BMP', '554__M_Left_little_finger.BMP', '73__M_Left_thumb_finger.BMP', '525__M_Left_thumb_finger.BMP', '153__M_Right_index_finger.BMP', '535__M_Right_little_finger.BMP', '2__F_Right_index_finger.BMP', '236__M_Right_thumb_finger.BMP', '171__M_Right_index_finger.BMP', '404__M_Right_index_finger.BMP', '62__M_Left_middle_finger.BMP', '235__M_Left_middle_finger.BMP', '239__M_Left_ring_finger.BMP', '489__M_Left_middle_finger.BMP', '120__M_Left_ring_finger.BMP', '533__M_Right_index_finger.BMP', '240__F_Left_index_finger.BMP', '142__F_Right_ring_finger.BMP', '393__M_Right_middle_finger.BMP', '287__M_Left_index_finger.BMP', '522__M_Right_little_finger.BMP', '317__M_Right_little_finger.BMP', '566__M_Left_little_finger.BMP', '386__M_Right_thumb_finger.BMP', '71__M_Left_ring_finger.BMP', '129__M_Right_ring_finger.BMP', '178__M_Left_little_finger.BMP', '441__M_Right_thumb_finger.BMP', '323__M_Right_thumb_finger.BMP', '181__M_Right_thumb_finger.BMP', '398__M_Left_ring_finger.BMP', '103__F_Left_little_finger.BMP', '230__M_Left_thumb_finger.BMP', '162__M_Left_ring_finger.BMP', '510__M_Right_thumb_finger.BMP', '324__M_Left_thumb_finger.BMP', '112__M_Left_ring_finger.BMP', '314__M_Right_index_finger.BMP', '443__M_Left_middle_finger.BMP', '298__M_Right_index_finger.BMP', '568__M_Left_index_finger.BMP', '96__M_Left_thumb_finger.BMP', '25__F_Right_little_finger.BMP', '361__M_Right_thumb_finger.BMP', '176__M_Left_little_finger.BMP', '212__M_Left_middle_finger.BMP', '27__M_Left_ring_finger.BMP', '213__M_Right_little_finger.BMP', '380__M_Right_little_finger.BMP', '375__M_Left_little_finger.BMP', '206__M_Left_index_finger.BMP', '325__M_Left_ring_finger.BMP', '47__F_Right_middle_finger.BMP', '244__M_Right_index_finger.BMP', '252__F_Right_index_finger.BMP', '457__M_Right_ring_finger.BMP', '349__M_Right_ring_finger.BMP', '576__M_Right_thumb_finger.BMP', '365__M_Right_index_finger.BMP', '407__M_Right_thumb_finger.BMP', '538__M_Right_thumb_finger.BMP', '377__M_Left_thumb_finger.BMP', '66__F_Right_index_finger.BMP', '166__M_Right_index_finger.BMP', '418__F_Left_thumb_finger.BMP', '381__M_Left_little_finger.BMP', '203__M_Left_ring_finger.BMP', '433__M_Left_thumb_finger.BMP', '331__M_Left_little_finger.BMP', '33__M_Left_ring_finger.BMP', '550__F_Left_index_finger.BMP', '516__M_Right_little_finger.BMP', '536__F_Left_index_finger.BMP', '263__F_Right_little_finger.BMP', '433__M_Right_middle_finger.BMP', '538__M_Left_ring_finger.BMP', '189__F_Right_thumb_finger.BMP', '103__F_Right_index_finger.BMP', '519__M_Right_little_finger.BMP', '178__M_Right_thumb_finger.BMP', '502__F_Right_thumb_finger.BMP', '487__M_Left_little_finger.BMP', '308__M_Left_thumb_finger.BMP', '229__M_Left_middle_finger.BMP', '432__M_Right_index_finger.BMP', '201__F_Right_index_finger.BMP', '274__M_Left_little_finger.BMP', '2__F_Left_index_finger.BMP', '186__M_Left_thumb_finger.BMP', '67__F_Left_little_finger.BMP', '204__F_Left_little_finger.BMP', '262__M_Left_little_finger.BMP', '134__M_Right_ring_finger.BMP', '163__M_Left_ring_finger.BMP', '525__M_Right_little_finger.BMP', '456__M_Left_middle_finger.BMP', '579__M_Left_ring_finger.BMP', '594__M_Right_index_finger.BMP', '330__M_Left_thumb_finger.BMP', '534__F_Left_middle_finger.BMP', '175__M_Left_ring_finger.BMP', '37__M_Right_ring_finger.BMP', '447__M_Right_little_finger.BMP', '248__M_Left_middle_finger.BMP', '196__M_Right_little_finger.BMP', '438__M_Left_middle_finger.BMP', '109__F_Right_little_finger.BMP', '574__F_Left_little_finger.BMP', '410__M_Left_index_finger.BMP', '320__M_Left_middle_finger.BMP', '111__M_Right_ring_finger.BMP', '131__M_Right_little_finger.BMP', '423__M_Right_ring_finger.BMP', '397__M_Right_index_finger.BMP', '546__M_Left_middle_finger.BMP', '111__M_Right_thumb_finger.BMP', '512__M_Left_little_finger.BMP', '523__F_Right_middle_finger.BMP', '368__M_Left_thumb_finger.BMP', '173__F_Left_index_finger.BMP', '274__M_Right_thumb_finger.BMP', '412__M_Left_ring_finger.BMP', '377__M_Right_little_finger.BMP', '398__M_Left_index_finger.BMP', '41__M_Right_little_finger.BMP', '41__M_Left_little_finger.BMP', '136__F_Left_little_finger.BMP', '229__M_Left_thumb_finger.BMP', '316__M_Right_middle_finger.BMP', '50__M_Left_middle_finger.BMP', '548__F_Left_thumb_finger.BMP', '206__M_Right_middle_finger.BMP', '48__F_Right_little_finger.BMP', '87__M_Left_ring_finger.BMP', '88__F_Right_middle_finger.BMP', '206__M_Left_ring_finger.BMP', '515__M_Right_thumb_finger.BMP', '301__F_Left_middle_finger.BMP', '206__M_Left_little_finger.BMP', '188__M_Right_middle_finger.BMP', '407__M_Right_ring_finger.BMP', '522__M_Right_middle_finger.BMP', '88__F_Left_index_finger.BMP', '582__M_Left_index_finger.BMP', '7__M_Left_index_finger.BMP', '3__M_Right_ring_finger.BMP', '332__M_Left_little_finger.BMP', '140__F_Left_middle_finger.BMP', '67__F_Left_thumb_finger.BMP', '148__M_Right_little_finger.BMP', '538__M_Right_index_finger.BMP', '136__F_Right_middle_finger.BMP', '105__M_Left_ring_finger.BMP', '369__F_Right_middle_finger.BMP', '322__M_Left_ring_finger.BMP', '509__M_Right_middle_finger.BMP', '529__M_Right_thumb_finger.BMP', '444__M_Left_middle_finger.BMP']\n"
          ],
          "name": "stdout"
        }
      ]
    },
    {
      "cell_type": "code",
      "metadata": {
        "id": "0guHXh283th8",
        "colab_type": "code",
        "colab": {}
      },
      "source": [
        "def load_image(file):\n",
        "    img = cv2.imread(os.path.join(root_images, file))\n",
        "\n",
        "    transform = A.Compose([A.Resize(64, 64, interpolation=cv2.INTER_AREA),\n",
        "                           A.Normalize((0.5, 0.5, 0.5), (0.5, 0.5, 0.5))])\n",
        "    img = transform(image=img)['image']\n",
        "\n",
        "    return img"
      ],
      "execution_count": 0,
      "outputs": []
    },
    {
      "cell_type": "code",
      "metadata": {
        "id": "jeJVchy9Iem5",
        "colab_type": "code",
        "colab": {}
      },
      "source": [
        "def extract_label(file):\n",
        "    _, label = file.split('__', 1)\n",
        "    label, _ = label.split('.', 1)\n",
        "    return label"
      ],
      "execution_count": 0,
      "outputs": []
    },
    {
      "cell_type": "code",
      "metadata": {
        "id": "ca3-R8Yb3th-",
        "colab_type": "code",
        "colab": {}
      },
      "source": [
        "all_images = [load_image(f) for f in all_files]\n",
        "all_images = np.array(all_images)"
      ],
      "execution_count": 0,
      "outputs": []
    },
    {
      "cell_type": "code",
      "metadata": {
        "id": "1c7h9Or3I2dP",
        "colab_type": "code",
        "colab": {
          "base_uri": "https://localhost:8080/",
          "height": 34
        },
        "outputId": "8f284e6a-c74e-431d-ccce-8cac324691aa"
      },
      "source": [
        "all_labels = [extract_label(f) for f in all_files]\n",
        "le = LabelEncoder()\n",
        "all_labels = le.fit_transform(all_labels)\n",
        "print(all_labels)"
      ],
      "execution_count": 86,
      "outputs": [
        {
          "output_type": "stream",
          "text": [
            "[19 10 12 ... 17 19 12]\n"
          ],
          "name": "stdout"
        }
      ]
    },
    {
      "cell_type": "code",
      "metadata": {
        "id": "5eHwg_WF3tiB",
        "colab_type": "code",
        "colab": {}
      },
      "source": [
        "class DogDataset(Dataset):\n",
        "    def __init__(self, images, labels):\n",
        "        super().__init__()\n",
        "        self.images = images\n",
        "        self.labels = labels\n",
        "        self.transform = A.Compose([A.HorizontalFlip(p=0.5), ToTensor()])\n",
        "\n",
        "    def __len__(self):\n",
        "        return len(self.images)\n",
        "\n",
        "    def __getitem__(self, idx):\n",
        "        img, label = self.images[idx], self.labels[idx]\n",
        "        img = self.transform(image=img)['image']\n",
        "        label = torch.as_tensor(label, dtype=torch.long)\n",
        "\n",
        "        return img, label"
      ],
      "execution_count": 0,
      "outputs": []
    },
    {
      "cell_type": "code",
      "metadata": {
        "id": "234GdYw73tiE",
        "colab_type": "code",
        "colab": {}
      },
      "source": [
        "# adding uniform noise works well.\n",
        "\n",
        "def get_dataiterator(images, labels, dataloader_params, device='cpu'):\n",
        "    train_dataset = DogDataset(images, labels)\n",
        "    train_dataloader = DataLoader(train_dataset, **dataloader_params)\n",
        "    batch_size = dataloader_params['batch_size']\n",
        "\n",
        "    while True:\n",
        "        for imgs, labels in train_dataloader:\n",
        "            if batch_size != imgs.size(0):\n",
        "                break\n",
        "            else:\n",
        "                imgs, labels = imgs.to(device), labels.to(device)\n",
        "                imgs += (1.0 / 128.0) * torch.rand_like(imgs)\n",
        "\n",
        "                yield imgs, labels"
      ],
      "execution_count": 0,
      "outputs": []
    },
    {
      "cell_type": "code",
      "metadata": {
        "id": "-k1COhhe3tiG",
        "colab_type": "code",
        "colab": {}
      },
      "source": [
        "# batch size around 64 ~ 128 improves score.\n",
        "# ~ 64 are too small, 128 ~ are too large (for 9 hours training). \n",
        "\n",
        "train_dataiterator = get_dataiterator(all_images, all_labels, config['DataLoader'], device=device)"
      ],
      "execution_count": 0,
      "outputs": []
    },
    {
      "cell_type": "markdown",
      "metadata": {
        "id": "m4CiCkom3tiJ",
        "colab_type": "text"
      },
      "source": [
        "# Models"
      ]
    },
    {
      "cell_type": "code",
      "metadata": {
        "id": "aacb_lN23tiK",
        "colab_type": "code",
        "colab": {}
      },
      "source": [
        "# Attention slightly works.\n",
        "\n",
        "class Attention(nn.Module):\n",
        "    def __init__(self, channels, reduction_attn=8, reduction_sc=2):\n",
        "        super().__init__()\n",
        "        self.channles_attn = channels // reduction_attn\n",
        "        self.channels_sc = channels // reduction_sc\n",
        "        \n",
        "        self.conv_query = spectral_norm(nn.Conv2d(channels, self.channles_attn, kernel_size=1, bias=False))\n",
        "        self.conv_key = spectral_norm(nn.Conv2d(channels, self.channles_attn, kernel_size=1, bias=False))\n",
        "        self.conv_value = spectral_norm(nn.Conv2d(channels, self.channels_sc, kernel_size=1, bias=False))\n",
        "        self.conv_attn = spectral_norm(nn.Conv2d(self.channels_sc, channels, kernel_size=1, bias=False))\n",
        "        self.gamma = nn.Parameter(torch.zeros(1))\n",
        "        \n",
        "        nn.init.orthogonal_(self.conv_query.weight.data)\n",
        "        nn.init.orthogonal_(self.conv_key.weight.data)\n",
        "        nn.init.orthogonal_(self.conv_value.weight.data)\n",
        "        nn.init.orthogonal_(self.conv_attn.weight.data)\n",
        "\n",
        "    def forward(self, x):\n",
        "        batch, _, h, w = x.size()\n",
        "        \n",
        "        proj_query = self.conv_query(x).view(batch, self.channles_attn, -1)\n",
        "        proj_key = F.max_pool2d(self.conv_key(x), 2).view(batch, self.channles_attn, -1)\n",
        "        \n",
        "        attn = torch.bmm(proj_key.permute(0,2,1), proj_query)\n",
        "        attn = F.softmax(attn, dim=1)\n",
        "        \n",
        "        proj_value = F.max_pool2d(self.conv_value(x), 2).view(batch, self.channels_sc, -1)\n",
        "        attn = torch.bmm(proj_value, attn)\n",
        "        attn = attn.view(batch, self.channels_sc, h, w)\n",
        "        attn = self.conv_attn(attn)\n",
        "        \n",
        "        out = self.gamma * attn + x\n",
        "        \n",
        "        return out"
      ],
      "execution_count": 0,
      "outputs": []
    },
    {
      "cell_type": "markdown",
      "metadata": {
        "id": "dYcNw3E53tiM",
        "colab_type": "text"
      },
      "source": [
        "## Generator"
      ]
    },
    {
      "cell_type": "code",
      "metadata": {
        "id": "1PLNeKm93tiN",
        "colab_type": "code",
        "colab": {}
      },
      "source": [
        "# using label information works well.\n",
        "# As for generator, it is realized by conditional batch normalization.\n",
        "\n",
        "class CBN2d(nn.Module):\n",
        "    def __init__(self, num_features, num_conditions):\n",
        "        super().__init__()\n",
        "        self.bn = nn.BatchNorm2d(num_features, affine=False)\n",
        "        self.embed = spectral_norm(nn.Conv2d(num_conditions, num_features*2, kernel_size=1, bias=False))\n",
        "        \n",
        "        nn.init.orthogonal_(self.embed.weight.data)\n",
        "\n",
        "    def forward(self, x, y):\n",
        "        out = self.bn(x)\n",
        "        embed = self.embed(y.unsqueeze(2).unsqueeze(3))\n",
        "        gamma, beta = embed.chunk(2, dim=1)\n",
        "        out = (1.0 + gamma) * out + beta \n",
        "\n",
        "        return out"
      ],
      "execution_count": 0,
      "outputs": []
    },
    {
      "cell_type": "code",
      "metadata": {
        "id": "kSWEBcvL3tiR",
        "colab_type": "code",
        "colab": {}
      },
      "source": [
        "# residual block improves convergence speed and generated image's quality.\n",
        "# nearest upsampling is better than others.\n",
        "\n",
        "class GBlock(nn.Module):\n",
        "    def __init__(self, in_channels, out_channels, num_conditions, upsample=False):\n",
        "        super().__init__()\n",
        "        self.upsample = upsample\n",
        "        self.learnable_sc = in_channels != out_channels or upsample\n",
        "        \n",
        "        self.conv1 = spectral_norm(nn.Conv2d(in_channels, out_channels, kernel_size=3, padding=1, bias=False))\n",
        "        self.conv2 = spectral_norm(nn.Conv2d(out_channels, out_channels, kernel_size=3, padding=1, bias=False))\n",
        "        self.cbn1 = CBN2d(in_channels, num_conditions)\n",
        "        self.cbn2 = CBN2d(out_channels, num_conditions)\n",
        "        if self.learnable_sc:\n",
        "            self.conv_sc = spectral_norm(nn.Conv2d(in_channels, out_channels, kernel_size=1, bias=False))\n",
        "        self.relu = nn.ReLU()\n",
        "\n",
        "        nn.init.orthogonal_(self.conv1.weight.data)\n",
        "        nn.init.orthogonal_(self.conv2.weight.data)\n",
        "        if self.learnable_sc:\n",
        "            nn.init.orthogonal_(self.conv_sc.weight.data)\n",
        "    \n",
        "    def _upsample_conv(self, x, conv):\n",
        "        x = F.interpolate(x, scale_factor=2, mode='nearest')\n",
        "        x = conv(x)\n",
        "        \n",
        "        return x\n",
        "    \n",
        "    def _residual(self, x, y):\n",
        "        x = self.relu(self.cbn1(x, y))\n",
        "        x = self._upsample_conv(x, self.conv1) if self.upsample else self.conv1(x)\n",
        "        x = self.relu(self.cbn2(x, y))\n",
        "        x = self.conv2(x)\n",
        "        \n",
        "        return x\n",
        "    \n",
        "    def _shortcut(self, x):\n",
        "        if self.learnable_sc:\n",
        "            x = self._upsample_conv(x, self.conv_sc) if self.upsample else self.conv_sc(x)\n",
        "            \n",
        "        return x\n",
        "    \n",
        "    def forward(self, x, y):\n",
        "        return self._shortcut(x) + self._residual(x, y)"
      ],
      "execution_count": 0,
      "outputs": []
    },
    {
      "cell_type": "code",
      "metadata": {
        "id": "OPBELHdd3tiV",
        "colab_type": "code",
        "colab": {}
      },
      "source": [
        "# shared embedding of class labels, and hierarchical latent noise, work well.\n",
        "# this architecture is the same as BigGAN except for channel size.\n",
        "\n",
        "class Generator(nn.Module):\n",
        "    def __init__(self, latent_dim, ch, num_classes, embed_dim, use_attn=False):\n",
        "        super().__init__()\n",
        "        self.latent_dim = latent_dim\n",
        "        self.ch = ch\n",
        "        self.num_classes = num_classes\n",
        "        self.embed_dim = embed_dim\n",
        "        self.use_attn = use_attn\n",
        "        self.num_chunk = 5\n",
        "        num_latents = self.__get_num_latents()\n",
        "        \n",
        "        self.embed = nn.Embedding(num_classes, embed_dim)\n",
        "        self.fc = spectral_norm(nn.Linear(num_latents[0], ch*8*4*4, bias=False))\n",
        "        self.block1 = GBlock(ch*8, ch*8, num_latents[1], upsample=True)\n",
        "        self.block2 = GBlock(ch*8, ch*4, num_latents[2], upsample=True)\n",
        "        self.block3 = GBlock(ch*4, ch*2, num_latents[3], upsample=True)\n",
        "        if use_attn:\n",
        "            self.attn = Attention(ch*2)\n",
        "        self.block4 = GBlock(ch*2, ch, num_latents[4], upsample=True)\n",
        "        self.bn = nn.BatchNorm2d(ch)\n",
        "        self.relu = nn.ReLU()\n",
        "        self.conv_last = spectral_norm(nn.Conv2d(ch, 3, kernel_size=3, padding=1, bias=False))\n",
        "        self.tanh = nn.Tanh()\n",
        "        \n",
        "        nn.init.orthogonal_(self.embed.weight.data)\n",
        "        nn.init.orthogonal_(self.fc.weight.data)\n",
        "        nn.init.orthogonal_(self.conv_last.weight.data)\n",
        "        nn.init.constant_(self.bn.weight.data, 1.0)\n",
        "        nn.init.constant_(self.bn.bias.data, 0.0)\n",
        "    \n",
        "    def __get_num_latents(self):\n",
        "        xs = torch.empty(self.latent_dim).chunk(self.num_chunk)\n",
        "        num_latents = [x.size(0) for x in xs]\n",
        "        for i in range(1, self.num_chunk):\n",
        "            num_latents[i] += self.embed_dim\n",
        "        \n",
        "        return num_latents\n",
        "    \n",
        "    def forward(self, x, y):\n",
        "        xs = x.chunk(self.num_chunk, dim=1)\n",
        "        y = self.embed(y)\n",
        "        \n",
        "        h = self.fc(xs[0])\n",
        "        h = h.view(h.size(0), self.ch*8, 4, 4)\n",
        "        h = self.block1(h, torch.cat([y, xs[1]], dim=1))\n",
        "        h = self.block2(h, torch.cat([y, xs[2]], dim=1))\n",
        "        h = self.block3(h, torch.cat([y, xs[3]], dim=1))\n",
        "        if self.use_attn:\n",
        "            h = self.attn(h)\n",
        "        h = self.block4(h, torch.cat([y, xs[4]], dim=1))\n",
        "        h = self.relu(self.bn(h))\n",
        "        out = self.tanh(self.conv_last(h))\n",
        "        \n",
        "        return out"
      ],
      "execution_count": 0,
      "outputs": []
    },
    {
      "cell_type": "markdown",
      "metadata": {
        "id": "aLmv05yY3tiY",
        "colab_type": "text"
      },
      "source": [
        "## Discriminator"
      ]
    },
    {
      "cell_type": "code",
      "metadata": {
        "id": "jLh0glXD3tiY",
        "colab_type": "code",
        "colab": {}
      },
      "source": [
        "# residual block improves convergence speed and generated image's quality.\n",
        "\n",
        "class DBlock(nn.Module):\n",
        "    def __init__(self, in_channels, out_channels, downsample=False, optimized=False):\n",
        "        super().__init__()\n",
        "        self.downsample = downsample\n",
        "        self.optimized = optimized\n",
        "        self.learnable_sc = in_channels != out_channels or downsample\n",
        "        \n",
        "        self.conv1 = spectral_norm(nn.Conv2d(in_channels, out_channels, kernel_size=3, padding=1, bias=False))\n",
        "        self.conv2 = spectral_norm(nn.Conv2d(out_channels, out_channels, kernel_size=3, padding=1, bias=False))\n",
        "        if self.learnable_sc:\n",
        "            self.conv_sc = spectral_norm(nn.Conv2d(in_channels, out_channels, kernel_size=1, bias=False))\n",
        "        self.relu = nn.ReLU()\n",
        "        \n",
        "        nn.init.orthogonal_(self.conv1.weight.data)\n",
        "        nn.init.orthogonal_(self.conv2.weight.data)\n",
        "        if self.learnable_sc:\n",
        "            nn.init.orthogonal_(self.conv_sc.weight.data)\n",
        "\n",
        "    def _residual(self, x):\n",
        "        if not self.optimized:\n",
        "            x = self.relu(x)\n",
        "        x = self.conv1(x)\n",
        "        x = self.relu(x)\n",
        "        x = self.conv2(x)\n",
        "        if self.downsample:\n",
        "            x = F.avg_pool2d(x, 2)\n",
        "        \n",
        "        return x\n",
        "    \n",
        "    def _shortcut(self, x):\n",
        "        if self.learnable_sc:\n",
        "            if self.optimized:\n",
        "                x = self.conv_sc(F.avg_pool2d(x, 2)) if self.downsample else self.conv_sc(x)\n",
        "            else:\n",
        "                x = F.avg_pool2d(self.conv_sc(x), 2) if self.downsample else self.conv_sc(x)\n",
        "        \n",
        "        return x\n",
        "    \n",
        "    def forward(self, x):\n",
        "        return self._shortcut(x) + self._residual(x)"
      ],
      "execution_count": 0,
      "outputs": []
    },
    {
      "cell_type": "code",
      "metadata": {
        "id": "DNwBrXUF3tib",
        "colab_type": "code",
        "colab": {}
      },
      "source": [
        "# this architecture is the altered version of BigGAN Discriminator.\n",
        "# <- using residual block, projection.\n",
        "\n",
        "# but those points are different from original.\n",
        "# - reduce channel size.\n",
        "# - reduce model depth (remove last residual block).\n",
        "# - add minibatch stddev.\n",
        "# - with auxiliary classifier (ACGAN).\n",
        "#   <- improve image's quality and stabilize training.\n",
        "\n",
        "class Discriminator(nn.Module):\n",
        "    def __init__(self, ch, num_classes, use_attn=False):\n",
        "        super().__init__()\n",
        "        self.ch = ch\n",
        "        self.num_classes = num_classes\n",
        "        self.use_attn = use_attn\n",
        "        \n",
        "        self.block1 = DBlock(3, ch, downsample=True, optimized=True)\n",
        "        if use_attn:\n",
        "            self.attn = Attention(ch)\n",
        "        self.block2 = DBlock(ch, ch*2, downsample=True)\n",
        "        self.block3 = DBlock(ch*2, ch*4, downsample=True)\n",
        "        self.block4 = DBlock(ch*4, ch*8, downsample=True)\n",
        "        self.block5 = DBlock(ch*8+1, ch*8, downsample=False)\n",
        "        self.relu = nn.ReLU()\n",
        "        self.fc = spectral_norm(nn.Linear(ch*8, 1, bias=False))\n",
        "        self.embed = spectral_norm(nn.Embedding(num_classes, ch*8))\n",
        "        self.clf = spectral_norm(nn.Linear(ch*8, num_classes, bias=False))\n",
        "        \n",
        "        nn.init.orthogonal_(self.fc.weight.data)\n",
        "        nn.init.orthogonal_(self.embed.weight.data)\n",
        "        nn.init.orthogonal_(self.clf.weight.data)\n",
        "    \n",
        "    def minibatch_stddev(self, x, group_size=4, eps=1e-8):\n",
        "        shape = x.size()\n",
        "        y = x.view(group_size, -1, shape[1], shape[2], shape[3])\n",
        "        y -= torch.mean(y, dim=0, keepdim=True)\n",
        "        y = torch.mean(y.pow(2), dim=0)\n",
        "        y = torch.sqrt(y + eps)\n",
        "        y = torch.mean(y, dim=[1,2,3], keepdim=True)\n",
        "        y = y.repeat(group_size, 1, shape[2], shape[3])\n",
        "\n",
        "        return torch.cat([x, y], dim=1)\n",
        "    \n",
        "    def forward(self, x, y):\n",
        "        h = self.block1(x)\n",
        "        if self.use_attn:\n",
        "            h = self.attn(h)\n",
        "        h = self.block2(h)\n",
        "        h = self.block3(h)\n",
        "        h = self.block4(h)\n",
        "        h = self.block5(self.minibatch_stddev(h))\n",
        "        h = self.relu(h)\n",
        "        h = torch.sum(h, dim=(2,3))\n",
        "        \n",
        "        out = self.fc(h)\n",
        "        out += torch.sum(self.embed(y)*h, dim=1, keepdim=True)\n",
        "        \n",
        "        ac = self.clf(h)\n",
        "        ac = F.log_softmax(ac, dim=1)\n",
        "        \n",
        "        return out, ac"
      ],
      "execution_count": 0,
      "outputs": []
    },
    {
      "cell_type": "markdown",
      "metadata": {
        "id": "CWzoPV643tie",
        "colab_type": "text"
      },
      "source": [
        "# Train GANs"
      ]
    },
    {
      "cell_type": "code",
      "metadata": {
        "id": "1LRrH9Oj3tif",
        "colab_type": "code",
        "colab": {}
      },
      "source": [
        "netG = Generator(**config['Generator']).to(device, torch.float32)\n",
        "netD = Discriminator(**config['Discriminator']).to(device, torch.float32)"
      ],
      "execution_count": 0,
      "outputs": []
    },
    {
      "cell_type": "code",
      "metadata": {
        "id": "mmJ7HzhJ3tih",
        "colab_type": "code",
        "colab": {}
      },
      "source": [
        "# Exponential moving average of generator weights works well.\n",
        "# Got error, when updating netGE buffers\n",
        "\n",
        "netGE = Generator(**config['Generator']).to(device, torch.float32)\n",
        "netGE.load_state_dict(netG.state_dict());"
      ],
      "execution_count": 0,
      "outputs": []
    },
    {
      "cell_type": "code",
      "metadata": {
        "id": "5AF1951T3tij",
        "colab_type": "code",
        "colab": {}
      },
      "source": [
        "optim_G = Adam(params=netG.parameters(), lr=config['lr_G'], betas=config['betas'])\n",
        "optim_D = Adam(params=netD.parameters(), lr=config['lr_D'], betas=config['betas'])"
      ],
      "execution_count": 0,
      "outputs": []
    },
    {
      "cell_type": "code",
      "metadata": {
        "id": "_ODyBXdx3til",
        "colab_type": "code",
        "colab": {}
      },
      "source": [
        "decay_iter = config['num_iterations'] - config['decay_start_iteration']\n",
        "if decay_iter > 0:\n",
        "    lr_lambda_G = lambda x: (max(0,1-x/decay_iter))\n",
        "    lr_lambda_D = lambda x: (max(0,1-x/(decay_iter*config['d_steps'])))\n",
        "    lr_sche_G = LambdaLR(optim_G, lr_lambda=lr_lambda_G)\n",
        "    lr_sche_D = LambdaLR(optim_D, lr_lambda=lr_lambda_D)"
      ],
      "execution_count": 0,
      "outputs": []
    },
    {
      "cell_type": "code",
      "metadata": {
        "id": "lGL0vv8c3tin",
        "colab_type": "code",
        "colab": {}
      },
      "source": [
        "def calc_advloss_D(real, fake, margin=1.0):\n",
        "    loss_real = torch.mean((real - fake.mean() - margin) ** 2)\n",
        "    loss_fake = torch.mean((fake - real.mean() + margin) ** 2)\n",
        "    loss = (loss_real + loss_fake) / 2\n",
        "    \n",
        "    return loss"
      ],
      "execution_count": 0,
      "outputs": []
    },
    {
      "cell_type": "code",
      "metadata": {
        "id": "1dFrRG2m3tiq",
        "colab_type": "code",
        "colab": {}
      },
      "source": [
        "def calc_advloss_G(real, fake, margin=1.0):\n",
        "    loss_real = torch.mean((real - fake.mean() + margin) ** 2)\n",
        "    loss_fake = torch.mean((fake - real.mean() - margin) ** 2)\n",
        "    loss = (loss_real + loss_fake) / 2\n",
        "    \n",
        "    return loss"
      ],
      "execution_count": 0,
      "outputs": []
    },
    {
      "cell_type": "code",
      "metadata": {
        "id": "nMt5qr0H3tit",
        "colab_type": "code",
        "colab": {}
      },
      "source": [
        "# auxiliary classifier loss.\n",
        "# this loss weighted by gamma (0.1) is added to adversarial loss.\n",
        "# coefficient gamma is quite sensitive.\n",
        "\n",
        "criterion = nn.NLLLoss().to(device, torch.float32)"
      ],
      "execution_count": 0,
      "outputs": []
    },
    {
      "cell_type": "code",
      "metadata": {
        "id": "JmQrw4Fl3tiv",
        "colab_type": "code",
        "colab": {}
      },
      "source": [
        "def sample_latents(batch_size, latent_dim, num_classes):\n",
        "    latents = torch.randn((batch_size, latent_dim), dtype=torch.float32, device=device)\n",
        "    labels = torch.randint(0, num_classes, size=(batch_size,), dtype=torch.long, device=device)\n",
        "    \n",
        "    return latents, labels"
      ],
      "execution_count": 0,
      "outputs": []
    },
    {
      "cell_type": "code",
      "metadata": {
        "id": "Cyiqh4EXN14h",
        "colab_type": "code",
        "colab": {}
      },
      "source": [
        "# Only for testing\n",
        "# counter = 0\n",
        "# for buffer_G, buffer_GE in zip(netG.buffers(), netGE.buffers()):\n",
        "#     if counter == 8:\n",
        "#         print(buffer_G)\n",
        "#         print(buffer_GE.data.mul_(1).add_(0*buffer_G.data))\n",
        "#         print(buffer_G)\n",
        "#     print(counter)\n",
        "#     # buffer_GE.data.mul_(config['ema']).add_((1-config['ema'])*buffer_G.data)\n",
        "    \n",
        "#     counter += 1\n",
        "#     # buffer_GE.data.mul_(config['ema']).add_((1-config['ema'])*buffer_G.data)\n",
        "# counter"
      ],
      "execution_count": 0,
      "outputs": []
    },
    {
      "cell_type": "code",
      "metadata": {
        "id": "I74KzRqh3tiy",
        "colab_type": "code",
        "colab": {
          "base_uri": "https://localhost:8080/",
          "height": 34
        },
        "outputId": "69473705-1d5a-468a-9c5f-4912d5854cfe"
      },
      "source": [
        "for step in trange(1, config['num_iterations']):\n",
        "    # Discriminator\n",
        "    for i in range(config['d_steps']):\n",
        "        for param in netD.parameters():\n",
        "            param.requires_grad_(True)\n",
        "    \n",
        "        optim_D.zero_grad()\n",
        "\n",
        "        real_imgs, real_labels = train_dataiterator.__next__()\n",
        "        batch_size = real_imgs.size(0)\n",
        "\n",
        "        latents, fake_labels = sample_latents(batch_size, **config['sample_latents'])\n",
        "        fake_imgs = netG(latents, fake_labels).detach()\n",
        "        \n",
        "        preds_real, preds_real_labels = netD(real_imgs, real_labels)\n",
        "        preds_fake, _ = netD(fake_imgs, fake_labels)\n",
        "\n",
        "        loss_D = calc_advloss_D(preds_real, preds_fake, config['margin'])\n",
        "        loss_D += config['gamma'] * criterion(preds_real_labels, real_labels)\n",
        "        loss_D.backward()\n",
        "        optim_D.step()\n",
        "        \n",
        "        if (decay_iter > 0) and (step > config['decay_start_iteration']):\n",
        "            lr_sche_D.step()\n",
        "\n",
        "    # Generator\n",
        "    for param in netD.parameters():\n",
        "        param.requires_grad_(False)\n",
        "\n",
        "    optim_G.zero_grad()\n",
        "    \n",
        "    real_imgs, real_labels = train_dataiterator.__next__()\n",
        "    batch_size = real_imgs.size(0)\n",
        "    \n",
        "    latents, fake_labels = sample_latents(batch_size, **config['sample_latents'])\n",
        "    fake_imgs = netG(latents, fake_labels)\n",
        "\n",
        "    preds_real, _ = netD(real_imgs, real_labels)\n",
        "    preds_fake, preds_fake_labels = netD(fake_imgs, fake_labels)\n",
        "\n",
        "    loss_G = calc_advloss_G(preds_real, preds_fake, config['margin'])\n",
        "    loss_G += config['gamma'] * criterion(preds_fake_labels, fake_labels)\n",
        "    loss_G.backward()\n",
        "    optim_G.step()\n",
        "    \n",
        "    if (decay_iter > 0) and (step > config['decay_start_iteration']):\n",
        "        lr_sche_G.step()\n",
        "    \n",
        "    # Got this error: result type Float can't be cast to the desired output type Long\n",
        "    # Exponential Moving Average (EMA) - https://openreview.net/forum?id=SJgw_sRqFQ\n",
        "    # Update Generator Eval\n",
        "    # for param_G, param_GE in zip(netG.parameters(), netGE.parameters()):\n",
        "    #     param_GE.data.mul_(config['ema']).add_((1-config['ema'])*param_G.data)\n",
        "    # for buffer_G, buffer_GE in zip(netG.buffers(), netGE.buffers()):\n",
        "    #     buffer_GE.data.mul_(config['ema']).add_((1-config['ema'])*buffer_G.data)"
      ],
      "execution_count": 0,
      "outputs": [
        {
          "output_type": "stream",
          "text": [
            "  2%|▏         | 111/4999 [06:39<4:52:22,  3.59s/it]"
          ],
          "name": "stderr"
        }
      ]
    },
    {
      "cell_type": "markdown",
      "metadata": {
        "id": "KXTgF6cf3ti2",
        "colab_type": "text"
      },
      "source": [
        "# Generate Samples"
      ]
    },
    {
      "cell_type": "code",
      "metadata": {
        "id": "gfbQEUxW3ti3",
        "colab_type": "code",
        "colab": {}
      },
      "source": [
        "def truncated_normal(size, threshold=2.0, dtype=torch.float32, device='cpu'):\n",
        "    x = scipy.stats.truncnorm.rvs(-threshold, threshold, size=size)\n",
        "    x = torch.from_numpy(x).to(device, dtype)\n",
        "\n",
        "    return x"
      ],
      "execution_count": 0,
      "outputs": []
    },
    {
      "cell_type": "code",
      "metadata": {
        "id": "n3DC3L7e3ti5",
        "colab_type": "code",
        "colab": {}
      },
      "source": [
        "def generate_eval_samples(generator, batch_size, latent_dim, num_classes):\n",
        "    latents = truncated_normal((batch_size, latent_dim), dtype=torch.float32, device=device)\n",
        "    labels =  torch.randint(0, num_classes, size=(batch_size,), dtype=torch.long, device=device)\n",
        "    \n",
        "    with torch.no_grad():\n",
        "        imgs = (generator(latents, labels) + 1) / 2\n",
        "    \n",
        "    return imgs"
      ],
      "execution_count": 0,
      "outputs": []
    },
    {
      "cell_type": "code",
      "metadata": {
        "id": "X7vmanVJ3ti7",
        "colab_type": "code",
        "colab": {}
      },
      "source": [
        "def make_submissions(generator, user_images_unzipped_path, latent_dim, num_classes):\n",
        "    if not os.path.exists(user_images_unzipped_path):\n",
        "        os.mkdir(user_images_unzipped_path)\n",
        "    \n",
        "    sample_batch_size = 50\n",
        "    num_samples = 10000\n",
        "    \n",
        "    for i in range(0, num_samples, sample_batch_size):\n",
        "        imgs = generate_eval_samples(generator, sample_batch_size, latent_dim, num_classes)\n",
        "        for j, img in enumerate(imgs):\n",
        "            save_image(img, os.path.join(user_images_unzipped_path, f'image_{i+j:05d}.png'))\n",
        "    \n",
        "    shutil.make_archive('images', 'zip', user_images_unzipped_path)"
      ],
      "execution_count": 0,
      "outputs": []
    },
    {
      "cell_type": "code",
      "metadata": {
        "id": "TCt0eFAO3ti-",
        "colab_type": "code",
        "colab": {}
      },
      "source": [
        "# user_images_unzipped_path = '../output_images'\n",
        "# make_submissions(netGE, user_images_unzipped_path, **config['sample_latents'])"
      ],
      "execution_count": 0,
      "outputs": []
    },
    {
      "cell_type": "markdown",
      "metadata": {
        "id": "y8YOyXYk3tjA",
        "colab_type": "text"
      },
      "source": [
        "# See some examples"
      ]
    },
    {
      "cell_type": "code",
      "metadata": {
        "id": "QqevW5sq3tjA",
        "colab_type": "code",
        "colab": {}
      },
      "source": [
        "repeat_breeds = 5\n",
        "nrow = 15\n",
        "split_size = 50\n",
        "\n",
        "latent_dim = config['sample_latents']['latent_dim']\n",
        "num_classes = config['sample_latents']['num_classes']\n",
        "\n",
        "all_labels = torch.arange(num_classes, dtype=torch.long, device=device)\n",
        "all_labels = all_labels.repeat_interleave(repeat_breeds)\n",
        "labels_split = all_labels.split(split_size)\n",
        "\n",
        "imgs_list = []\n",
        "for labels in labels_split:\n",
        "    batch_size = labels.size(0)\n",
        "    latents = truncated_normal((batch_size, latent_dim), threshold=1.5, dtype=torch.float32, device=device)\n",
        "    with torch.no_grad():\n",
        "        # imgs = (netGE(latents, labels) + 1) / 2\n",
        "        imgs = (netG(latents, labels) + 1) / 2\n",
        "        imgs_list.append(imgs)\n",
        "    \n",
        "all_imgs = torch.cat(imgs_list, dim=0)\n",
        "all_imgs = make_grid(all_imgs, nrow=nrow, normalize=False)\n",
        "all_imgs = all_imgs.mul_(255).add_(0.5).clamp_(0, 255).permute(1, 2, 0).to('cpu', torch.uint8).numpy()\n",
        "\n",
        "plt.figure(figsize=(2*nrow, 2*(num_classes*repeat_breeds)//nrow))\n",
        "plt.imshow(all_imgs);"
      ],
      "execution_count": 0,
      "outputs": []
    },
    {
      "cell_type": "code",
      "metadata": {
        "id": "PPA1_M8P3tjG",
        "colab_type": "code",
        "colab": {}
      },
      "source": [
        ""
      ],
      "execution_count": 0,
      "outputs": []
    }
  ]
}
